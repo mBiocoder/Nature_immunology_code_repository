{
 "cells": [
  {
   "cell_type": "markdown",
   "metadata": {},
   "source": [
    "## scRNAseq CD8 Tm high salt and low salt preprocessing and analysis\n",
    "\n",
    "Author: Maha Alissa Alkhalaf\n",
    "\n",
    "Figures: Figure 3 (B-D), Figure 4 (K, M), Figure S10 (B-K)"
   ]
  },
  {
   "cell_type": "code",
   "execution_count": 1,
   "metadata": {},
   "outputs": [],
   "source": [
    "import scanpy as sc\n",
    "import scrublet as scr\n",
    "import numpy as np\n",
    "import gseapy as gp\n",
    "import pandas as pd\n",
    "import seaborn as sns\n",
    "import scipy as sci\n",
    "import matplotlib.pyplot as plt\n",
    "import scipy.stats as stats\n",
    "import celltypist\n",
    "from pathlib import Path\n",
    "import os\n",
    "import re\n",
    "from statannot import add_stat_annotation"
   ]
  },
  {
   "cell_type": "markdown",
   "metadata": {
    "tags": []
   },
   "source": [
    "## Preprocessing"
   ]
  },
  {
   "cell_type": "code",
   "execution_count": 2,
   "metadata": {},
   "outputs": [],
   "source": [
    "low_salt = sc.read_h5ad('../data/salt_data/low_salt.h5ad')\n",
    "high_salt = sc.read_h5ad('../data/salt_data/high_salt.h5ad')"
   ]
  },
  {
   "cell_type": "code",
   "execution_count": 3,
   "metadata": {},
   "outputs": [],
   "source": [
    "low_salt.obs['Condition'] = 'low salt'\n",
    "high_salt.obs['Condition'] = 'high salt'"
   ]
  },
  {
   "cell_type": "code",
   "execution_count": 4,
   "metadata": {},
   "outputs": [
    {
     "name": "stdout",
     "output_type": "stream",
     "text": [
      "Preprocessing...\n",
      "Simulating doublets...\n",
      "Embedding transcriptomes using PCA...\n",
      "Calculating doublet scores...\n",
      "Automatically set threshold at doublet score = 0.55\n",
      "Detected doublet rate = 0.1%\n",
      "Estimated detectable doublet fraction = 0.7%\n",
      "Overall doublet rate:\n",
      "\tExpected   = 10.0%\n",
      "\tEstimated  = 15.9%\n",
      "Elapsed time: 5.0 seconds\n"
     ]
    }
   ],
   "source": [
    "scrub = scr.Scrublet(high_salt.raw.X)\n",
    "high_salt.obs['doublet_scores'], high_salt.obs['predicted_doublets'] = scrub.scrub_doublets()"
   ]
  },
  {
   "cell_type": "code",
   "execution_count": 5,
   "metadata": {
    "tags": []
   },
   "outputs": [
    {
     "name": "stdout",
     "output_type": "stream",
     "text": [
      "Preprocessing...\n",
      "Simulating doublets...\n",
      "Embedding transcriptomes using PCA...\n",
      "Calculating doublet scores...\n",
      "Automatically set threshold at doublet score = 0.60\n",
      "Detected doublet rate = 0.1%\n",
      "Estimated detectable doublet fraction = 0.1%\n",
      "Overall doublet rate:\n",
      "\tExpected   = 10.0%\n",
      "\tEstimated  = 42.9%\n",
      "Elapsed time: 5.5 seconds\n"
     ]
    }
   ],
   "source": [
    "scrub = scr.Scrublet(low_salt.raw.X)\n",
    "low_salt.obs['doublet_scores'], low_salt.obs['predicted_doublets'] = scrub.scrub_doublets()"
   ]
  },
  {
   "cell_type": "code",
   "execution_count": 6,
   "metadata": {},
   "outputs": [],
   "source": [
    "low_salt = low_salt[low_salt.obs['predicted_doublets'] == False, :]\n",
    "high_salt = high_salt[high_salt.obs['predicted_doublets'] == False, :]"
   ]
  },
  {
   "cell_type": "code",
   "execution_count": 7,
   "metadata": {},
   "outputs": [
    {
     "data": {
      "text/plain": [
       "AnnData object with n_obs × n_vars = 10335 × 36601\n",
       "    obs: 'orig.ident', 'nCount_RNA', 'nFeature_RNA', 'nCount_ADT', 'nFeature_ADT', 'Condition', 'doublet_scores', 'predicted_doublets', 'dataset'"
      ]
     },
     "execution_count": 7,
     "metadata": {},
     "output_type": "execute_result"
    }
   ],
   "source": [
    "adata = sc.concat([low_salt, high_salt], label = 'dataset')\n",
    "adata"
   ]
  },
  {
   "cell_type": "code",
   "execution_count": 8,
   "metadata": {},
   "outputs": [],
   "source": [
    "sc.pp.filter_cells(adata, min_genes = 200)"
   ]
  },
  {
   "cell_type": "code",
   "execution_count": 15,
   "metadata": {},
   "outputs": [
    {
     "data": {
      "text/plain": [
       "AnnData object with n_obs × n_vars = 9835 × 25554\n",
       "    obs: 'orig.ident', 'nCount_RNA', 'nFeature_RNA', 'nCount_ADT', 'nFeature_ADT', 'Condition', 'doublet_scores', 'predicted_doublets', 'dataset', 'n_genes'\n",
       "    var: 'mean', 'std', 'n_cells'\n",
       "    uns: 'log1p'"
      ]
     },
     "execution_count": 15,
     "metadata": {},
     "output_type": "execute_result"
    }
   ],
   "source": [
    "sc.pp.filter_genes(adata, min_cells = 3)\n",
    "adata"
   ]
  },
  {
   "cell_type": "code",
   "execution_count": 12,
   "metadata": {},
   "outputs": [],
   "source": [
    "sc.pp.normalize_total(adata, target_sum = 1e4)\n",
    "sc.pp.log1p(adata)"
   ]
  },
  {
   "cell_type": "code",
   "execution_count": 13,
   "metadata": {},
   "outputs": [],
   "source": [
    "sc.pp.scale(adata, max_value = 10)"
   ]
  },
  {
   "cell_type": "code",
   "execution_count": 14,
   "metadata": {},
   "outputs": [],
   "source": [
    "adata.raw = adata"
   ]
  },
  {
   "cell_type": "code",
   "execution_count": 13,
   "metadata": {},
   "outputs": [],
   "source": [
    "adata.X = np.nan_to_num(adata.X, nan = 0)"
   ]
  },
  {
   "cell_type": "code",
   "execution_count": 14,
   "metadata": {},
   "outputs": [],
   "source": [
    "sc.pp.highly_variable_genes(adata)"
   ]
  },
  {
   "cell_type": "code",
   "execution_count": 15,
   "metadata": {},
   "outputs": [],
   "source": [
    "sc.pp.pca(adata, n_comps = 30, use_highly_variable = True, svd_solver = 'arpack')"
   ]
  },
  {
   "cell_type": "code",
   "execution_count": 16,
   "metadata": {},
   "outputs": [
    {
     "name": "stderr",
     "output_type": "stream",
     "text": [
      "/opt/miniconda3/envs/leibniz/lib/python3.9/site-packages/tqdm/auto.py:22: TqdmWarning: IProgress not found. Please update jupyter and ipywidgets. See https://ipywidgets.readthedocs.io/en/stable/user_install.html\n",
      "  from .autonotebook import tqdm as notebook_tqdm\n"
     ]
    }
   ],
   "source": [
    "sc.pp.neighbors(adata, n_neighbors = 15)"
   ]
  },
  {
   "cell_type": "code",
   "execution_count": 17,
   "metadata": {},
   "outputs": [],
   "source": [
    "sc.tl.umap(adata)"
   ]
  },
  {
   "cell_type": "code",
   "execution_count": 19,
   "metadata": {},
   "outputs": [],
   "source": [
    "adata.write('../data/salt_data/high_and_low_salt.h5ad')"
   ]
  },
  {
   "cell_type": "markdown",
   "metadata": {},
   "source": [
    "## Module Score"
   ]
  },
  {
   "cell_type": "code",
   "execution_count": 2,
   "metadata": {},
   "outputs": [],
   "source": [
    "adata = sc.read_h5ad('../data/salt_data/high_and_low_salt.h5ad')"
   ]
  },
  {
   "cell_type": "code",
   "execution_count": 3,
   "metadata": {},
   "outputs": [],
   "source": [
    "def gene_expression(adata, gene, conditions):\n",
    "    plt.figure(figsize = (2, 2.5), dpi = 300)\n",
    "\n",
    "    gene_index = np.where(adata.var.index == gene)[0][0]\n",
    "    high_salt = adata.X[[condition == conditions[0] for condition in adata.obs['Condition']], gene_index]\n",
    "    low_salt = adata.X[[condition == conditions[1] for condition in adata.obs['Condition']], gene_index]\n",
    "\n",
    "    alternative = 'greater'\n",
    "    U1, p = stats.ranksums(high_salt, low_salt, alternative = alternative)\n",
    "\n",
    "    colors = ['#ffa37b', '#A7C7E7']\n",
    "    customPalette = sns.set_palette(sns.color_palette(colors))\n",
    "\n",
    "    ax = sns.violinplot(data = [high_salt, low_salt], saturation = 0.9, width = 0.9, palette = customPalette, linewidth = 0.3, kws = {'linecolor' : 'black'})\n",
    "    for i, c in enumerate(ax.collections):\n",
    "        ax.collections[i].set_edgecolor('black')\n",
    "\n",
    "    sns.boxplot(data = [high_salt, low_salt], width = 0.4,\n",
    "                boxprops = {'zorder': 2, 'edgecolor' : 'black'},\n",
    "                capprops = {'color' : 'black'},\n",
    "                whiskerprops = {'color' : 'black'},\n",
    "                medianprops = {'color' : 'black'},\n",
    "                showfliers = False,\n",
    "                linewidth = 0.3,\n",
    "                ax = ax)\n",
    "\n",
    "    sns.stripplot(data = [high_salt, low_salt], color = 'black', ax = ax, size = 0.4)\n",
    "\n",
    "    ax.set_ylabel(f'Log-scaled expression value', fontsize = 4)\n",
    "\n",
    "    ax.set_yticklabels(ax.get_yticks(), size = 4);\n",
    "    ax.set_xticklabels(ax.get_xticklabels(), size = 4);\n",
    "\n",
    "    labels = [item.get_text() for item in ax.get_yticklabels()]\n",
    "\n",
    "    ax.set_xticklabels([conditions[0], conditions[1]])\n",
    "    ax.set_yticklabels([str(round(float(label), 2)) for label in labels])\n",
    "\n",
    "    ax.set_title(f'Gene: {gene}\\nWilcoxon rank sum (alternative = {alternative})\\n\\np-value: {p}', fontsize = 4)\n",
    "    sns.despine()\n",
    "\n",
    "    plt.savefig(f'../figures/violin_plot_expression_values_of_{gene}_in_high_vs_low_salt.pdf', dpi = 300, bbox_inches = 'tight')\n",
    "    plt.savefig(f'../figures/violin_plot_expression_values_of_{gene}_in_high_vs_low_salt.png', dpi = 300, bbox_inches = 'tight')\n",
    "    plt.clf()"
   ]
  },
  {
   "cell_type": "code",
   "execution_count": 4,
   "metadata": {},
   "outputs": [
    {
     "data": {
      "text/plain": [
       "<Figure size 600x750 with 0 Axes>"
      ]
     },
     "metadata": {},
     "output_type": "display_data"
    }
   ],
   "source": [
    "gene_expression(adata, 'ICOS', ['high salt', 'low salt']) "
   ]
  },
  {
   "cell_type": "code",
   "execution_count": 8,
   "metadata": {},
   "outputs": [
    {
     "data": {
      "text/plain": [
       "<Figure size 600x750 with 0 Axes>"
      ]
     },
     "metadata": {},
     "output_type": "display_data"
    }
   ],
   "source": [
    "gene_expression(adata, 'ITGAE', ['high salt', 'low salt']) "
   ]
  },
  {
   "cell_type": "code",
   "execution_count": 7,
   "metadata": {},
   "outputs": [
    {
     "data": {
      "text/plain": [
       "<Figure size 600x750 with 0 Axes>"
      ]
     },
     "metadata": {},
     "output_type": "display_data"
    }
   ],
   "source": [
    "gene_expression(adata, 'PDCD1', ['high salt', 'low salt']) "
   ]
  },
  {
   "cell_type": "code",
   "execution_count": 246,
   "metadata": {},
   "outputs": [
    {
     "data": {
      "text/plain": [
       "<Figure size 600x750 with 0 Axes>"
      ]
     },
     "metadata": {},
     "output_type": "display_data"
    }
   ],
   "source": [
    "gene_expression(adata, 'XYLT1', ['high salt', 'low salt']) "
   ]
  },
  {
   "cell_type": "code",
   "execution_count": 4,
   "metadata": {},
   "outputs": [
    {
     "data": {
      "text/plain": [
       "<Figure size 600x750 with 0 Axes>"
      ]
     },
     "metadata": {},
     "output_type": "display_data"
    }
   ],
   "source": [
    "gene_expression(adata, 'SLC7A5', ['high salt', 'low salt']) "
   ]
  },
  {
   "cell_type": "code",
   "execution_count": 247,
   "metadata": {},
   "outputs": [
    {
     "data": {
      "text/plain": [
       "<Figure size 600x750 with 0 Axes>"
      ]
     },
     "metadata": {},
     "output_type": "display_data"
    }
   ],
   "source": [
    "gene_expression(adata, 'FABP5', ['high salt', 'low salt']) "
   ]
  },
  {
   "cell_type": "code",
   "execution_count": 3,
   "metadata": {},
   "outputs": [],
   "source": [
    "marker_genes_tissue_residency = {}\n",
    "column_names = []\n",
    "for i in range(36):\n",
    "    df = pd.read_excel('../data/salt_data/TRM_Signatures.xlsx', i)\n",
    "    column_name = df.columns[0]\n",
    "    column_names.append(column_name)\n",
    "    marker_genes_tissue_residency[column_name] = list(df[column_name])[1:]"
   ]
  },
  {
   "cell_type": "code",
   "execution_count": 1,
   "metadata": {},
   "outputs": [],
   "source": [
    "def module_score(adata, data_set, data_set_name):\n",
    "\n",
    "    sc.tl.score_genes(adata, data_set)\n",
    "\n",
    "    low_salt_module = np.array(adata.obs[adata.obs.Condition == 'low salt']['score'])\n",
    "    high_salt_module = np.array(adata.obs[adata.obs.Condition == 'high salt']['score'])\n",
    "\n",
    "    plt.figure(figsize = (2, 2.5), dpi = 300)\n",
    "    alternative = 'greater'\n",
    "\n",
    "    \n",
    "    '''\n",
    "    # UNCOMMENT THE FOLLOWING CONDITIONS WHEN RUNNING THIS FUNCTION FOR THE Trm & Cir genesets\n",
    "    if 'trm'== data_set_name.split('_')[1]:\n",
    "        alternative = 'greater'\n",
    "    elif 'cir' == data_set_name.split('_')[1]:\n",
    "        alternative = 'less'\n",
    "    '''\n",
    "    \n",
    "\n",
    "    U1, p = stats.ranksums(high_salt_module, low_salt_module, alternative = alternative)\n",
    "\n",
    "    colors = ['#ffa37b', '#A7C7E7']\n",
    "    customPalette = sns.set_palette(sns.color_palette(colors))\n",
    "\n",
    "    ax = sns.violinplot(data = [high_salt_module, low_salt_module], saturation = 0.9, width = 0.9, palette = customPalette, linewidth = 0.3, kws = {'linecolor' : 'black'})\n",
    "    for i, c in enumerate(ax.collections):\n",
    "        ax.collections[i].set_edgecolor('black')\n",
    "\n",
    "    sns.boxplot(data = [high_salt_module, low_salt_module], width = 0.4,\n",
    "                boxprops = {'zorder': 2, 'edgecolor' : 'black'},\n",
    "                capprops = {'color' : 'black'},\n",
    "                whiskerprops = {'color' : 'black'},\n",
    "                medianprops = {'color' : 'black'},\n",
    "                showfliers = False,\n",
    "                linewidth = 0.3,\n",
    "                ax = ax)\n",
    "\n",
    "    sns.stripplot(data = [high_salt_module, low_salt_module], color = 'black', ax = ax, size = 0.4)\n",
    "\n",
    "    ax.set_ylabel(f'Module score', fontsize = 4)\n",
    "\n",
    "    ax.set_yticklabels(ax.get_yticks(), size = 4);\n",
    "    ax.set_xticklabels(ax.get_xticklabels(), size = 4);\n",
    "\n",
    "    labels = [item.get_text() for item in ax.get_yticklabels()]\n",
    "\n",
    "    ax.set_xticklabels(['High salt', 'Low salt'])\n",
    "    ax.set_yticklabels([str(round(float(label), 2)) for label in labels])\n",
    "\n",
    "\n",
    "    ax.set_title(f'{data_set_name}\\nWilcoxon rank sum (alternative = {alternative})\\np-value: {p}', fontsize=4)\n",
    "    sns.despine()\n",
    "    print(p)\n",
    "    \n",
    "    plt.savefig(f'../figures/violin_plot_module_score_of_{data_set_name}_genes_in_high_vs_low_salt_alternative={alternative}.pdf', dpi = 300, bbox_inches = 'tight')\n",
    "    plt.savefig(f'../figures/violin_plot_module_score_of_{data_set_name}_genes_in_high_vs_low_salt_alternative={alternative}.png', dpi = 300, bbox_inches = 'tight')\n",
    "    plt.clf()\n",
    "\n",
    "    sc.pl.umap(adata, color = ['score'], title = f'Module score of {data_set_name}', show = False, color_map = 'Reds')\n",
    "    plt.savefig(f'../figures/umap_module_score_of_{data_set_name}_genes_in_high_vs_low_salt.pdf', dpi = 300, bbox_inches = 'tight')\n",
    "    plt.clf()"
   ]
  },
  {
   "cell_type": "code",
   "execution_count": 4,
   "metadata": {},
   "outputs": [
    {
     "data": {
      "text/html": [
       "<div>\n",
       "<style scoped>\n",
       "    .dataframe tbody tr th:only-of-type {\n",
       "        vertical-align: middle;\n",
       "    }\n",
       "\n",
       "    .dataframe tbody tr th {\n",
       "        vertical-align: top;\n",
       "    }\n",
       "\n",
       "    .dataframe thead th {\n",
       "        text-align: right;\n",
       "    }\n",
       "</style>\n",
       "<table border=\"1\" class=\"dataframe\">\n",
       "  <thead>\n",
       "    <tr style=\"text-align: right;\">\n",
       "      <th></th>\n",
       "      <th>Table S3: Gene set used for Figure 1C, effector gene GSEA.</th>\n",
       "      <th>Unnamed: 1</th>\n",
       "      <th>Unnamed: 2</th>\n",
       "      <th>Unnamed: 3</th>\n",
       "      <th>Unnamed: 4</th>\n",
       "    </tr>\n",
       "  </thead>\n",
       "  <tbody>\n",
       "    <tr>\n",
       "      <th>0</th>\n",
       "      <td>NaN</td>\n",
       "      <td>NaN</td>\n",
       "      <td>NaN</td>\n",
       "      <td>NaN</td>\n",
       "      <td>NaN</td>\n",
       "    </tr>\n",
       "    <tr>\n",
       "      <th>1</th>\n",
       "      <td>d6ARM_vs_N</td>\n",
       "      <td>NaN</td>\n",
       "      <td>NaN</td>\n",
       "      <td>NaN</td>\n",
       "      <td>NaN</td>\n",
       "    </tr>\n",
       "    <tr>\n",
       "      <th>2</th>\n",
       "      <td>PSAT1</td>\n",
       "      <td>NaN</td>\n",
       "      <td>NaN</td>\n",
       "      <td>NaN</td>\n",
       "      <td>NaN</td>\n",
       "    </tr>\n",
       "    <tr>\n",
       "      <th>3</th>\n",
       "      <td>IL18RAP</td>\n",
       "      <td>NaN</td>\n",
       "      <td>NaN</td>\n",
       "      <td>NaN</td>\n",
       "      <td>NaN</td>\n",
       "    </tr>\n",
       "    <tr>\n",
       "      <th>4</th>\n",
       "      <td>41161</td>\n",
       "      <td>NaN</td>\n",
       "      <td>NaN</td>\n",
       "      <td>NaN</td>\n",
       "      <td>NaN</td>\n",
       "    </tr>\n",
       "    <tr>\n",
       "      <th>...</th>\n",
       "      <td>...</td>\n",
       "      <td>...</td>\n",
       "      <td>...</td>\n",
       "      <td>...</td>\n",
       "      <td>...</td>\n",
       "    </tr>\n",
       "    <tr>\n",
       "      <th>166</th>\n",
       "      <td>PRF1</td>\n",
       "      <td>NaN</td>\n",
       "      <td>NaN</td>\n",
       "      <td>NaN</td>\n",
       "      <td>NaN</td>\n",
       "    </tr>\n",
       "    <tr>\n",
       "      <th>167</th>\n",
       "      <td>HIST1H3C</td>\n",
       "      <td>NaN</td>\n",
       "      <td>NaN</td>\n",
       "      <td>NaN</td>\n",
       "      <td>NaN</td>\n",
       "    </tr>\n",
       "    <tr>\n",
       "      <th>168</th>\n",
       "      <td>CHTF18</td>\n",
       "      <td>NaN</td>\n",
       "      <td>NaN</td>\n",
       "      <td>NaN</td>\n",
       "      <td>NaN</td>\n",
       "    </tr>\n",
       "    <tr>\n",
       "      <th>169</th>\n",
       "      <td>NRM</td>\n",
       "      <td>NaN</td>\n",
       "      <td>NaN</td>\n",
       "      <td>NaN</td>\n",
       "      <td>NaN</td>\n",
       "    </tr>\n",
       "    <tr>\n",
       "      <th>170</th>\n",
       "      <td>NDUFAF2</td>\n",
       "      <td>NaN</td>\n",
       "      <td>NaN</td>\n",
       "      <td>NaN</td>\n",
       "      <td>NaN</td>\n",
       "    </tr>\n",
       "  </tbody>\n",
       "</table>\n",
       "<p>171 rows × 5 columns</p>\n",
       "</div>"
      ],
      "text/plain": [
       "    Table S3: Gene set used for Figure 1C, effector gene GSEA.   Unnamed: 1  \\\n",
       "0                                                  NaN                  NaN   \n",
       "1                                           d6ARM_vs_N                  NaN   \n",
       "2                                                PSAT1                  NaN   \n",
       "3                                              IL18RAP                  NaN   \n",
       "4                                                41161                  NaN   \n",
       "..                                                 ...                  ...   \n",
       "166                                               PRF1                  NaN   \n",
       "167                                           HIST1H3C                  NaN   \n",
       "168                                             CHTF18                  NaN   \n",
       "169                                                NRM                  NaN   \n",
       "170                                            NDUFAF2                  NaN   \n",
       "\n",
       "     Unnamed: 2  Unnamed: 3  Unnamed: 4  \n",
       "0           NaN         NaN         NaN  \n",
       "1           NaN         NaN         NaN  \n",
       "2           NaN         NaN         NaN  \n",
       "3           NaN         NaN         NaN  \n",
       "4           NaN         NaN         NaN  \n",
       "..          ...         ...         ...  \n",
       "166         NaN         NaN         NaN  \n",
       "167         NaN         NaN         NaN  \n",
       "168         NaN         NaN         NaN  \n",
       "169         NaN         NaN         NaN  \n",
       "170         NaN         NaN         NaN  \n",
       "\n",
       "[171 rows x 5 columns]"
      ]
     },
     "execution_count": 4,
     "metadata": {},
     "output_type": "execute_result"
    }
   ],
   "source": [
    "eff1 = pd.read_csv('../data/salt_data/Effector_gene_set_Table_S3.csv', sep = ';')\n",
    "eff1"
   ]
  },
  {
   "cell_type": "code",
   "execution_count": 31,
   "metadata": {},
   "outputs": [
    {
     "name": "stdout",
     "output_type": "stream",
     "text": [
      "WARNING: genes are not in var_names and ignored: [nan, 'd6ARM_vs_N', '41161', '41162', 'WBP5', 'SGOL1', 'WHSC1', 'CCDC109B']\n"
     ]
    },
    {
     "data": {
      "text/plain": [
       "<Figure size 600x750 with 0 Axes>"
      ]
     },
     "metadata": {},
     "output_type": "display_data"
    },
    {
     "data": {
      "text/plain": [
       "<Figure size 640x480 with 0 Axes>"
      ]
     },
     "metadata": {},
     "output_type": "display_data"
    }
   ],
   "source": [
    "module_score(adata, eff1['Table S3: Gene set used for Figure 1C, effector gene GSEA. '], 'Table S3: Gene set used for Figure 1C, effector gene GSEA (1. excel sheet)')"
   ]
  },
  {
   "cell_type": "code",
   "execution_count": 25,
   "metadata": {
    "tags": []
   },
   "outputs": [
    {
     "data": {
      "text/html": [
       "<div>\n",
       "<style scoped>\n",
       "    .dataframe tbody tr th:only-of-type {\n",
       "        vertical-align: middle;\n",
       "    }\n",
       "\n",
       "    .dataframe tbody tr th {\n",
       "        vertical-align: top;\n",
       "    }\n",
       "\n",
       "    .dataframe thead th {\n",
       "        text-align: right;\n",
       "    }\n",
       "</style>\n",
       "<table border=\"1\" class=\"dataframe\">\n",
       "  <thead>\n",
       "    <tr style=\"text-align: right;\">\n",
       "      <th></th>\n",
       "      <th>Table S3: Gene set used for Figure 1C, effector gene GSEA.</th>\n",
       "      <th>Unnamed: 1</th>\n",
       "      <th>Unnamed: 2</th>\n",
       "      <th>Unnamed: 3</th>\n",
       "      <th>Unnamed: 4</th>\n",
       "      <th>Unnamed: 5</th>\n",
       "    </tr>\n",
       "  </thead>\n",
       "  <tbody>\n",
       "    <tr>\n",
       "      <th>0</th>\n",
       "      <td>NaN</td>\n",
       "      <td>NaN</td>\n",
       "      <td>NaN</td>\n",
       "      <td>NaN</td>\n",
       "      <td>NaN</td>\n",
       "      <td>NaN</td>\n",
       "    </tr>\n",
       "    <tr>\n",
       "      <th>1</th>\n",
       "      <td>NAME</td>\n",
       "      <td>PROBE</td>\n",
       "      <td>RANK IN GENE LIST</td>\n",
       "      <td>RANK METRIC SCORE</td>\n",
       "      <td>RUNNING ES</td>\n",
       "      <td>CORE ENRICHMENT</td>\n",
       "    </tr>\n",
       "    <tr>\n",
       "      <th>2</th>\n",
       "      <td>row_0</td>\n",
       "      <td>RBM47</td>\n",
       "      <td>7</td>\n",
       "      <td>0,303581476211547</td>\n",
       "      <td>0,036805205</td>\n",
       "      <td>Yes</td>\n",
       "    </tr>\n",
       "    <tr>\n",
       "      <th>3</th>\n",
       "      <td>row_1</td>\n",
       "      <td>EPAS1</td>\n",
       "      <td>30</td>\n",
       "      <td>0,248808145523071</td>\n",
       "      <td>0,06596747</td>\n",
       "      <td>Yes</td>\n",
       "    </tr>\n",
       "    <tr>\n",
       "      <th>4</th>\n",
       "      <td>row_2</td>\n",
       "      <td>H1F0</td>\n",
       "      <td>68</td>\n",
       "      <td>0,201966762542724</td>\n",
       "      <td>0,08845972</td>\n",
       "      <td>Yes</td>\n",
       "    </tr>\n",
       "    <tr>\n",
       "      <th>...</th>\n",
       "      <td>...</td>\n",
       "      <td>...</td>\n",
       "      <td>...</td>\n",
       "      <td>...</td>\n",
       "      <td>...</td>\n",
       "      <td>...</td>\n",
       "    </tr>\n",
       "    <tr>\n",
       "      <th>162</th>\n",
       "      <td>row_160</td>\n",
       "      <td>ANXA1</td>\n",
       "      <td>15058</td>\n",
       "      <td>-0,104947358369827</td>\n",
       "      <td>0,019064121</td>\n",
       "      <td>No</td>\n",
       "    </tr>\n",
       "    <tr>\n",
       "      <th>163</th>\n",
       "      <td>row_161</td>\n",
       "      <td>GINS1</td>\n",
       "      <td>15213</td>\n",
       "      <td>-0,110784135758876</td>\n",
       "      <td>0,02316056</td>\n",
       "      <td>No</td>\n",
       "    </tr>\n",
       "    <tr>\n",
       "      <th>164</th>\n",
       "      <td>row_162</td>\n",
       "      <td>IL12RB2</td>\n",
       "      <td>15269</td>\n",
       "      <td>-0,113381095230579</td>\n",
       "      <td>0,033677608</td>\n",
       "      <td>No</td>\n",
       "    </tr>\n",
       "    <tr>\n",
       "      <th>165</th>\n",
       "      <td>row_163</td>\n",
       "      <td>ITIH5</td>\n",
       "      <td>15485</td>\n",
       "      <td>-0,124636098742485</td>\n",
       "      <td>0,035713237</td>\n",
       "      <td>No</td>\n",
       "    </tr>\n",
       "    <tr>\n",
       "      <th>166</th>\n",
       "      <td>row_164</td>\n",
       "      <td>IFITM1</td>\n",
       "      <td>15965</td>\n",
       "      <td>-0,162103191018104</td>\n",
       "      <td>0,026072312</td>\n",
       "      <td>No</td>\n",
       "    </tr>\n",
       "  </tbody>\n",
       "</table>\n",
       "<p>167 rows × 6 columns</p>\n",
       "</div>"
      ],
      "text/plain": [
       "    Table S3: Gene set used for Figure 1C, effector gene GSEA.  Unnamed: 1  \\\n",
       "0                                                  NaN                 NaN   \n",
       "1                                                 NAME               PROBE   \n",
       "2                                                row_0               RBM47   \n",
       "3                                                row_1               EPAS1   \n",
       "4                                                row_2                H1F0   \n",
       "..                                                 ...                 ...   \n",
       "162                                            row_160               ANXA1   \n",
       "163                                            row_161               GINS1   \n",
       "164                                            row_162             IL12RB2   \n",
       "165                                            row_163               ITIH5   \n",
       "166                                            row_164              IFITM1   \n",
       "\n",
       "            Unnamed: 2          Unnamed: 3   Unnamed: 4       Unnamed: 5  \n",
       "0                  NaN                 NaN          NaN              NaN  \n",
       "1    RANK IN GENE LIST   RANK METRIC SCORE   RUNNING ES  CORE ENRICHMENT  \n",
       "2                    7   0,303581476211547  0,036805205              Yes  \n",
       "3                   30   0,248808145523071   0,06596747              Yes  \n",
       "4                   68   0,201966762542724   0,08845972              Yes  \n",
       "..                 ...                 ...          ...              ...  \n",
       "162              15058  -0,104947358369827  0,019064121               No  \n",
       "163              15213  -0,110784135758876   0,02316056               No  \n",
       "164              15269  -0,113381095230579  0,033677608               No  \n",
       "165              15485  -0,124636098742485  0,035713237               No  \n",
       "166              15965  -0,162103191018104  0,026072312               No  \n",
       "\n",
       "[167 rows x 6 columns]"
      ]
     },
     "execution_count": 25,
     "metadata": {},
     "output_type": "execute_result"
    }
   ],
   "source": [
    "eff2 = pd.read_csv('../data/salt_data/NIHMS866030-supplement-Table_S3.csv', sep = ';')\n",
    "eff2"
   ]
  },
  {
   "cell_type": "code",
   "execution_count": 32,
   "metadata": {},
   "outputs": [
    {
     "name": "stdout",
     "output_type": "stream",
     "text": [
      "WARNING: genes are not in var_names and ignored: [nan, 'PROBE', 'CCDC109B', 'WHSC1', 'SGOL1', 'WBP5']\n"
     ]
    },
    {
     "data": {
      "text/plain": [
       "<Figure size 600x750 with 0 Axes>"
      ]
     },
     "metadata": {},
     "output_type": "display_data"
    },
    {
     "data": {
      "text/plain": [
       "<Figure size 640x480 with 0 Axes>"
      ]
     },
     "metadata": {},
     "output_type": "display_data"
    }
   ],
   "source": [
    "module_score(adata, eff2['Unnamed: 1'], 'Table S3: Gene set used for Figure 1C, effector gene GSEA (2. excel sheet)')"
   ]
  },
  {
   "cell_type": "code",
   "execution_count": 5,
   "metadata": {
    "tags": []
   },
   "outputs": [
    {
     "data": {
      "text/html": [
       "<div>\n",
       "<style scoped>\n",
       "    .dataframe tbody tr th:only-of-type {\n",
       "        vertical-align: middle;\n",
       "    }\n",
       "\n",
       "    .dataframe tbody tr th {\n",
       "        vertical-align: top;\n",
       "    }\n",
       "\n",
       "    .dataframe thead th {\n",
       "        text-align: right;\n",
       "    }\n",
       "</style>\n",
       "<table border=\"1\" class=\"dataframe\">\n",
       "  <thead>\n",
       "    <tr style=\"text-align: right;\">\n",
       "      <th></th>\n",
       "      <th>genes</th>\n",
       "    </tr>\n",
       "  </thead>\n",
       "  <tbody>\n",
       "    <tr>\n",
       "      <th>0</th>\n",
       "      <td>HLA-C</td>\n",
       "    </tr>\n",
       "    <tr>\n",
       "      <th>1</th>\n",
       "      <td>CD1D</td>\n",
       "    </tr>\n",
       "    <tr>\n",
       "      <th>2</th>\n",
       "      <td>CD1E</td>\n",
       "    </tr>\n",
       "    <tr>\n",
       "      <th>3</th>\n",
       "      <td>SLC22A13</td>\n",
       "    </tr>\n",
       "    <tr>\n",
       "      <th>4</th>\n",
       "      <td>HLA-F</td>\n",
       "    </tr>\n",
       "    <tr>\n",
       "      <th>5</th>\n",
       "      <td>MR1</td>\n",
       "    </tr>\n",
       "    <tr>\n",
       "      <th>6</th>\n",
       "      <td>P2RX7</td>\n",
       "    </tr>\n",
       "    <tr>\n",
       "      <th>7</th>\n",
       "      <td>CD1A</td>\n",
       "    </tr>\n",
       "    <tr>\n",
       "      <th>8</th>\n",
       "      <td>ULBP3</td>\n",
       "    </tr>\n",
       "    <tr>\n",
       "      <th>9</th>\n",
       "      <td>XCL1</td>\n",
       "    </tr>\n",
       "    <tr>\n",
       "      <th>10</th>\n",
       "      <td>HFE</td>\n",
       "    </tr>\n",
       "    <tr>\n",
       "      <th>11</th>\n",
       "      <td>ULBP1</td>\n",
       "    </tr>\n",
       "    <tr>\n",
       "      <th>12</th>\n",
       "      <td>ULBP2</td>\n",
       "    </tr>\n",
       "    <tr>\n",
       "      <th>13</th>\n",
       "      <td>HLA-A</td>\n",
       "    </tr>\n",
       "    <tr>\n",
       "      <th>14</th>\n",
       "      <td>HLA-DRB1</td>\n",
       "    </tr>\n",
       "    <tr>\n",
       "      <th>15</th>\n",
       "      <td>RAET1E</td>\n",
       "    </tr>\n",
       "    <tr>\n",
       "      <th>16</th>\n",
       "      <td>B2M</td>\n",
       "    </tr>\n",
       "    <tr>\n",
       "      <th>17</th>\n",
       "      <td>NECTIN2</td>\n",
       "    </tr>\n",
       "    <tr>\n",
       "      <th>18</th>\n",
       "      <td>TAP2</td>\n",
       "    </tr>\n",
       "    <tr>\n",
       "      <th>19</th>\n",
       "      <td>PTPRC</td>\n",
       "    </tr>\n",
       "    <tr>\n",
       "      <th>20</th>\n",
       "      <td>IL12B</td>\n",
       "    </tr>\n",
       "    <tr>\n",
       "      <th>21</th>\n",
       "      <td>IL12A</td>\n",
       "    </tr>\n",
       "    <tr>\n",
       "      <th>22</th>\n",
       "      <td>RAET1L</td>\n",
       "    </tr>\n",
       "    <tr>\n",
       "      <th>23</th>\n",
       "      <td>IL23A</td>\n",
       "    </tr>\n",
       "    <tr>\n",
       "      <th>24</th>\n",
       "      <td>HLA-G</td>\n",
       "    </tr>\n",
       "    <tr>\n",
       "      <th>25</th>\n",
       "      <td>CD1C</td>\n",
       "    </tr>\n",
       "    <tr>\n",
       "      <th>26</th>\n",
       "      <td>CD1B</td>\n",
       "    </tr>\n",
       "    <tr>\n",
       "      <th>27</th>\n",
       "      <td>MICA</td>\n",
       "    </tr>\n",
       "    <tr>\n",
       "      <th>28</th>\n",
       "      <td>MICB</td>\n",
       "    </tr>\n",
       "    <tr>\n",
       "      <th>29</th>\n",
       "      <td>HLA-E</td>\n",
       "    </tr>\n",
       "    <tr>\n",
       "      <th>30</th>\n",
       "      <td>HLA-DRA</td>\n",
       "    </tr>\n",
       "    <tr>\n",
       "      <th>31</th>\n",
       "      <td>HLA-H</td>\n",
       "    </tr>\n",
       "    <tr>\n",
       "      <th>32</th>\n",
       "      <td>HLA-B</td>\n",
       "    </tr>\n",
       "    <tr>\n",
       "      <th>33</th>\n",
       "      <td>PVR</td>\n",
       "    </tr>\n",
       "    <tr>\n",
       "      <th>34</th>\n",
       "      <td>STX7</td>\n",
       "    </tr>\n",
       "    <tr>\n",
       "      <th>35</th>\n",
       "      <td>FADD</td>\n",
       "    </tr>\n",
       "    <tr>\n",
       "      <th>36</th>\n",
       "      <td>RAET1G</td>\n",
       "    </tr>\n",
       "    <tr>\n",
       "      <th>37</th>\n",
       "      <td>CYRIB</td>\n",
       "    </tr>\n",
       "    <tr>\n",
       "      <th>38</th>\n",
       "      <td>IL23R</td>\n",
       "    </tr>\n",
       "    <tr>\n",
       "      <th>39</th>\n",
       "      <td>IL12RB1</td>\n",
       "    </tr>\n",
       "  </tbody>\n",
       "</table>\n",
       "</div>"
      ],
      "text/plain": [
       "       genes\n",
       "0      HLA-C\n",
       "1       CD1D\n",
       "2       CD1E\n",
       "3   SLC22A13\n",
       "4      HLA-F\n",
       "5        MR1\n",
       "6      P2RX7\n",
       "7       CD1A\n",
       "8      ULBP3\n",
       "9       XCL1\n",
       "10       HFE\n",
       "11     ULBP1\n",
       "12     ULBP2\n",
       "13     HLA-A\n",
       "14  HLA-DRB1\n",
       "15    RAET1E\n",
       "16       B2M\n",
       "17   NECTIN2\n",
       "18      TAP2\n",
       "19     PTPRC\n",
       "20     IL12B\n",
       "21     IL12A\n",
       "22    RAET1L\n",
       "23     IL23A\n",
       "24     HLA-G\n",
       "25      CD1C\n",
       "26      CD1B\n",
       "27      MICA\n",
       "28      MICB\n",
       "29     HLA-E\n",
       "30   HLA-DRA\n",
       "31     HLA-H\n",
       "32     HLA-B\n",
       "33       PVR\n",
       "34      STX7\n",
       "35      FADD\n",
       "36    RAET1G\n",
       "37     CYRIB\n",
       "38     IL23R\n",
       "39   IL12RB1"
      ]
     },
     "execution_count": 5,
     "metadata": {},
     "output_type": "execute_result"
    }
   ],
   "source": [
    "cyto1 = pd.read_csv('../data/salt_data/cyto_list1.csv')\n",
    "cyto1"
   ]
  },
  {
   "cell_type": "code",
   "execution_count": 6,
   "metadata": {},
   "outputs": [
    {
     "name": "stdout",
     "output_type": "stream",
     "text": [
      "WARNING: genes are not in var_names and ignored: ['HLA-H', 'CYRIB']\n"
     ]
    },
    {
     "data": {
      "text/plain": [
       "<Figure size 600x750 with 0 Axes>"
      ]
     },
     "metadata": {},
     "output_type": "display_data"
    },
    {
     "data": {
      "text/plain": [
       "<Figure size 640x480 with 0 Axes>"
      ]
     },
     "metadata": {},
     "output_type": "display_data"
    }
   ],
   "source": [
    "module_score(adata, cyto1['genes'], 'Cyto_list1 GO:0001916')"
   ]
  },
  {
   "cell_type": "code",
   "execution_count": 35,
   "metadata": {},
   "outputs": [
    {
     "data": {
      "text/html": [
       "<div>\n",
       "<style scoped>\n",
       "    .dataframe tbody tr th:only-of-type {\n",
       "        vertical-align: middle;\n",
       "    }\n",
       "\n",
       "    .dataframe tbody tr th {\n",
       "        vertical-align: top;\n",
       "    }\n",
       "\n",
       "    .dataframe thead th {\n",
       "        text-align: right;\n",
       "    }\n",
       "</style>\n",
       "<table border=\"1\" class=\"dataframe\">\n",
       "  <thead>\n",
       "    <tr style=\"text-align: right;\">\n",
       "      <th></th>\n",
       "      <th>genes</th>\n",
       "    </tr>\n",
       "  </thead>\n",
       "  <tbody>\n",
       "    <tr>\n",
       "      <th>0</th>\n",
       "      <td>GZMA</td>\n",
       "    </tr>\n",
       "    <tr>\n",
       "      <th>1</th>\n",
       "      <td>GZMB</td>\n",
       "    </tr>\n",
       "    <tr>\n",
       "      <th>2</th>\n",
       "      <td>GNLY</td>\n",
       "    </tr>\n",
       "    <tr>\n",
       "      <th>3</th>\n",
       "      <td>PRF1</td>\n",
       "    </tr>\n",
       "    <tr>\n",
       "      <th>4</th>\n",
       "      <td>IFNG</td>\n",
       "    </tr>\n",
       "  </tbody>\n",
       "</table>\n",
       "</div>"
      ],
      "text/plain": [
       "  genes\n",
       "0  GZMA\n",
       "1  GZMB\n",
       "2  GNLY\n",
       "3  PRF1\n",
       "4  IFNG"
      ]
     },
     "execution_count": 35,
     "metadata": {},
     "output_type": "execute_result"
    }
   ],
   "source": [
    "cyto2 = pd.read_csv('../data/salt_data/cyto_list2.csv')\n",
    "cyto2"
   ]
  },
  {
   "cell_type": "code",
   "execution_count": 36,
   "metadata": {},
   "outputs": [
    {
     "data": {
      "text/plain": [
       "<Figure size 600x750 with 0 Axes>"
      ]
     },
     "metadata": {},
     "output_type": "display_data"
    },
    {
     "data": {
      "text/plain": [
       "<Figure size 640x480 with 0 Axes>"
      ]
     },
     "metadata": {},
     "output_type": "display_data"
    }
   ],
   "source": [
    "module_score(adata, cyto2['genes'], 'Cyto_list2')"
   ]
  },
  {
   "cell_type": "code",
   "execution_count": 37,
   "metadata": {},
   "outputs": [
    {
     "data": {
      "text/html": [
       "<div>\n",
       "<style scoped>\n",
       "    .dataframe tbody tr th:only-of-type {\n",
       "        vertical-align: middle;\n",
       "    }\n",
       "\n",
       "    .dataframe tbody tr th {\n",
       "        vertical-align: top;\n",
       "    }\n",
       "\n",
       "    .dataframe thead th {\n",
       "        text-align: right;\n",
       "    }\n",
       "</style>\n",
       "<table border=\"1\" class=\"dataframe\">\n",
       "  <thead>\n",
       "    <tr style=\"text-align: right;\">\n",
       "      <th></th>\n",
       "      <th>genes</th>\n",
       "    </tr>\n",
       "  </thead>\n",
       "  <tbody>\n",
       "    <tr>\n",
       "      <th>0</th>\n",
       "      <td>CTSW</td>\n",
       "    </tr>\n",
       "    <tr>\n",
       "      <th>1</th>\n",
       "      <td>GNLY</td>\n",
       "    </tr>\n",
       "    <tr>\n",
       "      <th>2</th>\n",
       "      <td>GZMA</td>\n",
       "    </tr>\n",
       "    <tr>\n",
       "      <th>3</th>\n",
       "      <td>GZMB</td>\n",
       "    </tr>\n",
       "    <tr>\n",
       "      <th>4</th>\n",
       "      <td>GZMH</td>\n",
       "    </tr>\n",
       "    <tr>\n",
       "      <th>5</th>\n",
       "      <td>IFNG</td>\n",
       "    </tr>\n",
       "    <tr>\n",
       "      <th>6</th>\n",
       "      <td>KLRB1</td>\n",
       "    </tr>\n",
       "    <tr>\n",
       "      <th>7</th>\n",
       "      <td>KLRD1</td>\n",
       "    </tr>\n",
       "    <tr>\n",
       "      <th>8</th>\n",
       "      <td>KLRK1</td>\n",
       "    </tr>\n",
       "    <tr>\n",
       "      <th>9</th>\n",
       "      <td>NKG7</td>\n",
       "    </tr>\n",
       "    <tr>\n",
       "      <th>10</th>\n",
       "      <td>PRF1</td>\n",
       "    </tr>\n",
       "  </tbody>\n",
       "</table>\n",
       "</div>"
      ],
      "text/plain": [
       "    genes\n",
       "0    CTSW\n",
       "1    GNLY\n",
       "2    GZMA\n",
       "3    GZMB\n",
       "4    GZMH\n",
       "5    IFNG\n",
       "6   KLRB1\n",
       "7   KLRD1\n",
       "8   KLRK1\n",
       "9    NKG7\n",
       "10   PRF1"
      ]
     },
     "execution_count": 37,
     "metadata": {},
     "output_type": "execute_result"
    }
   ],
   "source": [
    "cyto3 = pd.read_csv('../data/salt_data/cyto_list3.csv')\n",
    "cyto3"
   ]
  },
  {
   "cell_type": "code",
   "execution_count": 38,
   "metadata": {},
   "outputs": [
    {
     "data": {
      "text/plain": [
       "<Figure size 600x750 with 0 Axes>"
      ]
     },
     "metadata": {},
     "output_type": "display_data"
    },
    {
     "data": {
      "text/plain": [
       "<Figure size 640x480 with 0 Axes>"
      ]
     },
     "metadata": {},
     "output_type": "display_data"
    }
   ],
   "source": [
    "module_score(adata, cyto3['genes'], 'Cyto_list3')"
   ]
  },
  {
   "cell_type": "code",
   "execution_count": 5,
   "metadata": {},
   "outputs": [],
   "source": [
    "tissure_residency_gustavo = ['XIST', 'UBC', 'LGALS3', 'MT-CO2', 'VIM', 'ANKRD28', 'RGS1', 'RGCC', 'HSPA1B', 'MT-ND4', 'HSP90Ab1', 'PPP1R15A']"
   ]
  },
  {
   "cell_type": "code",
   "execution_count": 6,
   "metadata": {},
   "outputs": [
    {
     "name": "stdout",
     "output_type": "stream",
     "text": [
      "WARNING: genes are not in var_names and ignored: ['HSP90Ab1']\n"
     ]
    },
    {
     "data": {
      "text/plain": [
       "<Figure size 600x750 with 0 Axes>"
      ]
     },
     "metadata": {},
     "output_type": "display_data"
    },
    {
     "data": {
      "text/plain": [
       "<Figure size 640x480 with 0 Axes>"
      ]
     },
     "metadata": {},
     "output_type": "display_data"
    }
   ],
   "source": [
    "module_score(adata, tissure_residency_gustavo, 'Tissue residency markers in host vs. donor CD8+ T cells')"
   ]
  },
  {
   "cell_type": "code",
   "execution_count": 7,
   "metadata": {
    "tags": []
   },
   "outputs": [
    {
     "name": "stdout",
     "output_type": "stream",
     "text": [
      "#goldrath_cir_signature_genes\n",
      "1.0\n",
      "#goldrath_trm_signature_genes\n",
      "0.0\n",
      "#gratz_cir_signature_genes_CD103+CCR7-_skin_vs_CD103+CCR7-_blood_lfc<-2_padj<0.05\n",
      "WARNING: genes are not in var_names and ignored: ['gene', 'RARRES3', 'C10orf128', 'KDELC2', 'FAM173A', 'C7orf49', 'FAM173B', 'C16orf59']\n",
      "0.8745756373355293\n",
      "#gratz_trm_signature_genes_CD103+CCR7-_skin_vs_CD103-CCR7-_blood_lfc>2_padj<0.05\n",
      "WARNING: genes are not in var_names and ignored: ['gene', 'C15orf53', 'FAM129A', 'FAM212A', 'GATS', 'KIAA1107', 'KIAA1683', 'SEPT10']\n",
      "0.0\n",
      "#gratz_cir_signature_genes_CD103+CCR7-_skin_vs_CD103+CCR7-_blood_lfc<-2_padj<0.05\n",
      "WARNING: genes are not in var_names and ignored: ['gene', 'RARRES3', 'C10orf128', 'KDELC2', 'FAM173A', 'C7orf49', 'FAM173B', 'C16orf59']\n",
      "0.8745756373355293\n",
      "#gratz_trm_signature_genes_CD103+CCR7-_skin_vs_CD103+CCR7-_blood_lfc>2_padj<0.05\n",
      "WARNING: genes are not in var_names and ignored: ['gene', 'FAM129A', 'FAM105A', 'KIAA1683', 'GATS', 'SEPT4', 'KIAA1107', 'FAM212A']\n",
      "0.0\n",
      "#gratz_cir_signature_genes_CD103+CCR7-_skin_vs_CD103-CCR7-_skin_lfc<-2_padj<0.05\n",
      "WARNING: genes are not in var_names and ignored: ['gene']\n",
      "1.0\n",
      "#gratz_trm_signature_genes_CD103+CCR7-_skin_vs_CD103-CCR7-_skin_lfc>2_padj<0.05\n",
      "WARNING: genes are not in var_names and ignored: ['gene']\n",
      "0.40909975081064387\n",
      "#gratz_cir_signature_genes_CD103+CCR7-_blood_vs_CD103-CCR7-_blood_lfc<-2_padj<0.05\n",
      "WARNING: genes are not in var_names and ignored: ['gene']\n",
      "1.0\n",
      "#gratz_trm_signature_genes_CD103+CCR7-_blood_vs_CD103-CCR7-_blood_lfc>2_padj<0.05\n",
      "WARNING: genes are not in var_names and ignored: ['gene']\n",
      "8.572504257912831e-08\n",
      "#mackay_cir_signature_genes_skin_CD103+_trm_vs_spleen_tcm_lfc<0_padj<0.05\n",
      "WARNING: genes are not in var_names and ignored: ['gene', 'GIMAP1-GIMAP5', 'AC008878.3', 'KLRC4-KLRK1']\n",
      "0.9909194455784361\n",
      "#mackay_trm_signature_genes_skin_CD103+_trm_vs_spleen_tcm_lfc>0_padj<0.05\n",
      "WARNING: genes are not in var_names and ignored: ['gene', 'ISY1-RAB43', 'AC134669.1']\n",
      "9.051891705727707e-239\n",
      "#mackay_cir_signature_genes_lung_CD103+_trm_vs_spleen_tcm_lfc<0_padj<0.05\n",
      "WARNING: genes are not in var_names and ignored: ['gene', 'KLRC4-KLRK1', 'AC008878.3']\n",
      "1.0\n",
      "#mackay_trm_signature_genes_lung_CD103+_trm_vs_spleen_tcm_lfc>0_padj<0.05\n",
      "WARNING: genes are not in var_names and ignored: ['gene']\n",
      "3.9287816294844336e-73\n",
      "#mackay_cir_signature_genes_gut_CD103+_trm_vs_spleen_tcm_lfc<0_padj<0.05\n",
      "WARNING: genes are not in var_names and ignored: ['gene', 'KLRC4-KLRK1', 'AC008878.3', 'AC068580.4']\n",
      "1.0\n",
      "#mackay_trm_signature_genes_gut_CD103+_trm_vs_spleen_tcm_lfc>0_padj<0.05\n",
      "WARNING: genes are not in var_names and ignored: ['gene', 'AC013394.1', 'ISY1-RAB43']\n",
      "2.7701340617894393e-42\n",
      "#eidsmo_cir_signature_genes_derm_CD103+_trm_vs_blood_CLA-_tem_lfc<-2_padj<0.05\n",
      "WARNING: genes are not in var_names and ignored: ['gene', 'GVINP1', 'AC245100.4', 'AL109811.3', 'A2MP1', 'AL365475.1', 'AC120114.3', 'VDAC2P2', 'RARRES3', 'AC068152.1', 'AC092070.2', 'AC243772.3', 'AC091564.1', nan, 'SGK494', 'AC012020.2', 'PWAR6', 'FAM172BP', 37135, 'PLA2G16', 'RPL21P89', 'B3GALNT1P1', 'SNX29P2', 'HNRNPA1P34', 'AC006518.2', 'CDH12P2', 'CROCCP2', 'AL513534.1', 'AL591926.7', 'TLK2P2', 'FAM32BP', 'ATP6V1G2-DDX39B', 'AL157392.5', 'AC073857.1', 'RF00019', 'AL022318.4', 'AC105749.1', 'AC020910.6', 'SCAND2P', 'LINC00680', 'CDH12P3', 'AJ003147.3', nan, 'AC003072.1', 'AC010894.5', 'AC092279.2', 'AC005099.1', 'RN7SL50P', 'C8orf44', 'AL691432.1', 'KRT18P5', 'SPDYE11', 'LINC01145', 'RNU6-1107P', 'AC046185.3', 'AC022415.1', 'AC146507.2', 'AC018635.1', 'STAG3L5P-PVRIG2P-PILRB', 'PDCL3P4', 'GUSBP2', 'EEF1A1P30', 'AC012409.5', 'AC024568.1', 'KRT8P39', 'PPIAP41', 'GUSBP3', 'FLJ37035', 'AL035563.1', 'BET1P1', 'FTH1P22', 'AC011342.1', 'SEC14L1P1', 'AC140134.1', 'AP000346.2', 'GUSBP4', 'MTND4P11', 'AC241585.3', 'AC139495.1', 'AC105129.3', 'SPDYE15P', 'AC004865.1', 'AC241952.1', 'AMD1P3', 'AC027281.2', 'TMEM256P2', 'RPS12P27', 'AC007485.2', 'AC124303.1', 'AL139352.1', 'AL359258.3', 'AC109826.1', 'AC009120.1', 'C6orf203', 'AL137058.2', 'HSPA8P15', 'AC098614.1', 'AC211476.3', 'AC114490.3', 'AL121753.2', 'HMGB1P19', 'BTG1P1', 'AC073111.5', 'AC127502.1', 'FGF7P6', 'NKAPP1', 'KLRA1P', 'SDHDP6', 'CCDC58P5', 'FTOP1', 'AC109454.4', 'AC133552.2', 'IPO5P1', 'BMS1P2', 'LINC02081', 'AC084033.3', 'STAG3L1', 'AC244157.2', 'AC139495.2', 'MTND2P40', 'STRA6LP', 'AC016065.2', 'AC009093.3', 'RPS3AP29', 'AC010132.3', 'AL121952.1', 'RPL5P4', 'FAM86EP', 'FDPSP7', 'AL590399.2', 'AL513365.1', 'RAB5CP1', 'AC131392.2', 'EEF1GP7', 'AC015911.4', 'AC010627.1', 'LINC00680-GUSBP4', 'LSM3P2', 'POLR2J4', 'SPDYE10P', 'AC105129.1', 'AC126544.1', 'AC135983.3', 'AL513475.2', 'BEND3P1', 'AL117344.1', 'AL137159.1', 'AC018523.1', 'AL590704.1', 'SERBP1P3', 'SNORA15B-1', 'COX5BP6', 'AP006621.5', 'AC015911.7', 'AC098827.1', 'AC015982.1', 'DDX11L2', 'AP001582.1', 'EBAG9P1', 'ADAM1B', 'AC124312.1', 'AC004656.1', 'AC012146.2', 'AC022400.3', 'AL513475.1', 'Z99127.2', 'AC005538.2', 'AC073585.1', 'AC006449.7', 'RPL7AP10', 'AC008555.8', 'AC112184.1', 'AP002884.4', 'AC116407.4', 'PA2G4P4', 'Z98752.2', 'RN7SL385P', 'ZNF890P', 'FAAHP1', 'OR7E128P', 'AC010435.1', 'AC087164.2', 'ENPP7P8', 'KRT18P61', 'AC011290.2', 'RPL26P6', 'ZDHHC4P1', 'CYP4F35P', 'RPAP2P1', 'AC084754.1', 'NTAN1P2', 'AC055839.1', 'AL022722.1', 'ZNF658B', 'RPL21P32', 'TPTE2P5', 'FAM238A', 'C1DP5', 'VN1R83P', 'CCT4P2', 'LRRC37A17P', 'AC020917.4', 'AL121839.1', 'FAM173B', 'DSTNP1', 'HERC2P2', 'AC012618.2', 'ASLP1', 'NPM1P29', 'AC243756.1', 'RPSAP18', 'AL356272.1', 'CHCHD2P5', 'EIF3EP1', 'AC046136.1', 'AC016954.1', 'SDAD1P1', 'AL096817.1', 'BNIP3P25', 'AC138866.1', nan, 'AC138409.1', 'RF00100', 'AC005086.1', 'AC091167.7', 'PRORSD1P', 'AC144548.1', 'AC139795.1', 'RN7SL23P', 'AC027575.1', 'AC241585.2', 'AC020915.3', 'RPL9P2', 'SPDYE18', 'LY75-CD302', 'AC010655.4', 'AC025884.1', 'TRIM60P18', 'AC092747.2', 'MIR4446', 'AC211486.1', 'DAP3P2', 'RNU6-418P', 'AC133552.3', 'PRMT1P1', 'PMS2P4', 'PRELID3BP7', 'AC131392.1', 'DUTP6', 'RNU6-610P', 'AC234782.3', 'PMS2P1', 'RN7SL397P', 'DNM1P47', 'GIMAP3P', 'GS1-124K5.4', 'AC002400.1', 'AC103736.1', 'AC008267.3', 'MRPS31P5', 'RPL21P10', 'NFE2L3P1', 'PDIA3P1', 'C9orf84', 'AC010878.1', 'AC105036.1', 'AC012513.3', 'RPS2P28', 'AC073073.1', 'AC022400.6', 'AC007494.3', 'FAM86C2P', 'AC007000.2', 'RNA5SP483', 'AC242376.2', 'AC110994.2', 'AC090617.6', 'RF00554', 'AC135048.1', 'PFN1P8', 'PTGES3P1', 'RNU6-1188P', 'CASP1P2', 'AC007546.2', 'AC005324.3', 'AL138688.2', 'AC012065.2', 'KIAA1024', 'AC015910.1', 'HMGB1P3', 'AL353807.3', 'AC026402.1', 'SLC25A5P1', 'FAM185BP', 'ZNF101P2', 'MORF4L1P3', 'AC145422.1', 'AL353813.1', 'AC009093.8', 'AC010273.1', 'AC025809.2', 'RPS7P3', 'AC019226.2', 'AC007342.9', 'AC138466.5', 'RNU6-957P', 'PRKXP1', 'RN7SL203P', 'FXNP2', 'RN7SL556P', 'ZRSR2P1', 'AC135506.1', 'AL451074.4', 'AC087163.2', 'AC090286.2', 'GOLGA8VP', 'AC007842.1', 'RF00003', 'CCT8P1', 'RF00019', 'RPS12P20', 'CTHRC1P1', 'AC012254.4', 'AC009961.2', 'MRPS31P4', 'AC007382.1', 'VPS26AP1', 'PGAM1P6', 'RNU2-7P', 'AP002364.1', 'SUMO2P17', 'AL441964.1', 'AC112702.1', 'AC105277.1', 'GBP1P1', 'AC254562.1', 'POM121L7P', 'HMGB1P31', 'RPS3AP34', 'RF00019', 'MIR374B', 'GUSBP9', 'GLRX3P2', 'RNU6-678P', 'AC090617.7', 'AL137798.3', 'CFL1P5', 'JTBP1', 'AC004024.1', 'TGIF2P1', 'PRO1804', 'OR10AC1', 'ASS1P2', 'AL132656.4', 'AC096921.1', 'AC019226.1', 'VN1R84P', 'AP000442.2', 'HNRNPA1P68', 'MTCO3P20', 'AC024940.3', 'AC008850.1', 'TPT1P12', 'RNU6-1153P', 'AL356317.1', 'TAS2R6P', 'AC004951.4', 'RPL3P1', 'HMGN1P28', 'HMGB3P32', 'DPRXP4', 'AP002986.1', 'AP003170.1', 'RNA5SP78', 'AC079880.2', 'AC015849.6', 'AC046185.2', 'AC140076.1', 'AC009093.10', 'CALR4P', 'RN7SL799P', 'TUBG1P', 'AL035413.2', 'ZNF204P', 'AC131160.1', 'HNRNPA3P2', 'AL353597.3', 'RF00012', 'METTL13', 'AP003717.3', 'RPL4P1', 'PSMD10P1', 'AC010422.6', 'PRSS30P', 'SNORA22C', 'AL356270.1', 'PMS2P10', 'MRPS18AP1', 'RNA5SP364', 'SUGT1P4-STRA6LP', 'AC104634.1', 'RPLP1P6', 'AL161911.1', 'GBAP1', 'AC020915.5', 'HIST2H2BD', 'MIR548AD', 'DLSTP1', 'AC092919.2', 'LINC00933', 'RPS2P36', 'AC021171.2', 'AL513165.2', 'AL359073.1', 'VDAC1P11', 'RN7SKP150', 'RNU6-1278P', 'MIR421', 'RN7SL380P', 'NPM1P49', 'AL445523.1', 'ABCA11P', 'CYCSP34', 'AC018797.2', 'SUMO2P8', 'RF00139', 'AC005614.2', 'AL136295.1', 'RAB11FIP1P1', 'AC138894.1', 'RPL23AP87', 'RF00012', 'AC016747.4', 'RNU6-242P', 'MIR5009', 'TMPRSS11CP', 'AL021937.2', 'RDM1P3', 'RN7SL220P', 'AC073210.1', 'AC005156.1', 'AC020763.3', 'AC093899.2', 'Z86062.1', 'RNA5SP363', 'AC064836.1', 'RN7SL384P', 'AC211476.1', 'AL136038.4', 'RN7SL812P', 'RNU6-315P', 'AL355472.1', 'NCBP2-AS2', 'ALMS1P1', 'HRASLS2', 'GAPDHP37', 'AL049844.1', 'AC060766.7', 'NDUFAF4P4', 'KRT8P12', 'PPIAP72', 'MIR1294', 'AC090617.8', 'MRPL35P3', 'RPL39P36', 'AC010547.4', 'FAM86JP', 'RNU6-834P', 'MRPL57P3', 'ULK4P1', 'FUNDC2P4', 'RN7SKP292', 'RAB4B-EGLN2', 'AL022400.1', 'TMX2P1', 'RNU7-45P', 'AC089984.3', 'AC007598.3', 'RNU6-254P', 'AC026362.1', 'HNRNPA1P16', 'DEFB122', 'DHRS4L1', 'HMGN2P28', 'MLLT10P1', 'AL450124.1', 'RF00425', 'RF00019', 'AL121978.1', 'AC113935.1', 'AL138713.1', 'KIR2DS4', 'FDPSP8', 'AC239798.1', 'RNU4ATAC18P', 'AP003108.3', 'AL445189.2', 'PIGCP1', 'RN7SL174P', 'RNU4-78P', 'AL590762.4', 'RPL7AP65', 'AC246785.2', 'RF00012', 'RPL23AP64', 'AC090617.9', 'BMS1P4', 'GNL3LP1', 'ATP5MF-PTCD1', 'RF00019']\n",
      "1.0\n",
      "#eidsmo_trm_signature_genes_derm_CD103+_trm_vs_blood_CLA-_tem_lfc>2_padj<0.05\n",
      "WARNING: genes are not in var_names and ignored: ['gene', 'AL390719.1', 'NAMPTP1', 'HNRNPA1P21', 40787, 'RNU4-40P', 'HIGD1AP16', 'AC004014.2', 'AP000769.1', 'SNORD99', 'AC016831.4', 'AL353743.4', 'CXorf57', 'AC004832.3', 'RNU6-786P', 'AC090950.1', 'AC020571.1', 'PPP4R1L', 40422, 'SNORD14E', 'RF00017', 'AC096751.1', 'SMG1P1', 'AC018644.1', 'AC067931.1', 'AC090950.2', 'PQLC1', 'AC093663.2', 'SMG1P3', 'AL356234.1', 'RN7SL14P', 'AC027348.2', 'ELL2P1', 'AC016831.2', 'AL033519.1', 'AL365436.1', 'AP000781.2', 'RPS20P22', 'AMZ2P2', 'MIR5190', 'CTGF', 'AC112225.1', 'Z94721.2', 'RPL17P40', 'RN7SL600P', 'RF00561', 'EEF1A1P24', 'UBE2FP1', 'BMS1P10', 'MIR616', 'AC012254.2', 'ANKRD30BP2', 'RN7SL254P', 'BMS1P8', 'RF00397', 'AL928654.3', 'HSPE1-MOB4', 'SNORD13E', 'RN7SL809P', 'RF01293', nan, 'MIR6514', 'EIF4EP1', 'RNU6-1092P', 'PAIP1P1', 'AC013394.1', 'MIR98', 'AL158207.1', 'AC012486.1', 'WISP1', 'BCAS2P2', 'AL163636.2', 'RNU6-937P', 'RNU4-51P', 'HSPE1P26', 'RPL31P47', 'RN7SL749P', 'AC109326.1', 'ATP5MFP6', 'RNU2-63P', 'GVINP2', 'RPL35AP32', 'AL353898.2', 'RN7SL386P', 'AC087385.1', 'AC117503.3', 'RN7SL34P', 'KCCAT333', 'AGPAT4-IT1', 'AC138907.8', 'AL133517.1', 'AL445665.1', 'MIR548AP', 'MIR3680-1', 'NBPF13P', 'MRPL53P1', 'RPL7P21', 'ZNF72P', 'GLUD1P2', 'ZDHHC20P1', 'RPL22P18', 'AMYH02020865.1', 'NPM1P10', 'AC011755.1', 'AC005476.1', 'MT1JP', 'AL162726.3', 'RF00019', 'RNU6-595P', 'RNU7-13P', 'TBCAP3', 'RPS12P17', 'RF00019', 'PHF5CP', 'AL591806.3', 'RF00019', 'OR51A3P', 'AC132872.4', 'SNORA14A', 'AC104046.1', 'RNU6-1010P', 'AC087386.2', 'NUDT9P1', 'SNORA41', 'SNORA73B', 'SNORD63', 'BZW1P2', 'AP002505.2', 'RN7SL610P', 'AP005263.1', 'SNORA28', 'AC135776.4', 'FABP5P7', 'AC018529.3', 'PCNPP5', 'SNORA31', 'ANXA2P2', 'RNU2-70P', 'MTND5P11', 'AC241584.1', 'RPLP1P13', 'MRPL37P1', 'TXNP1', 'AC090004.1', 'RF00019', 'MIR5690', 'RN7SL368P', 'RF00017', 'AC024405.2', 'RF02116', 'AC010733.1', 'GTF3AP2', 'AC093824.1', 'AC127070.3', 'SNORD3H', 'TXNP6', 'AL137129.1', 'NONOP2', 'AC138907.9', 'RNU6-529P', 'SCARNA7', 'AL929601.4', 'CR848007.1', 'AL390726.5', 'RNA5SP527', 'AL365440.1', 'AC010469.1', 'AC009313.2', 'HMGN2P34', 'SNORD19', 'AL118558.2', 'RNY4P36', 'MIR3662', 'HMGB1P41', 'AC007182.2', 'RPS12P31', 'HMGB1P44', 'PRDX3P1', 'AC007751.2', 'AC012313.3', 'AC036214.3', 'TMEM56', 'UBBP3', 'SRSF10P1', 'RN7SL402P', 'AL031133.1', 'AC108471.1', 'RPL38P4', 'AC006001.4', 'RNU6-1005P', 'AL137849.1', 'HSPD1P7', 'AC110027.1', 'RF00017', 'BMS1P12', 'AC245297.1', 'NMNAT1P1', 'FAM129B', 'CDC27P1', 'CYP2F2P', 'ISCA1P1', 'AC005776.1', 'DPRXP3', 'RF00612', 'ANAPC1P1', 'RF00569', 'OSTCP8', 'AC022748.2', 'EGFEM1P', 'COX7CP1', 'AC034207.1', 'HSPA8P1', 'HNRNPCP4']\n",
      "7.603777311269914e-281\n",
      "#eidsmo_cir_signature_genes_derm_CD103+_trm_vs_blood_CLA+_tem_lfc<-2_padj<0.05\n",
      "WARNING: genes are not in var_names and ignored: ['gene', 'GVINP1', 'AC091564.1', 'C6orf203', 'AC245100.4', 'RARRES3', 'DTX2P1-UPK3BP1-PMS2P11', 'AL022318.4', 'AL157392.5', 'AL513534.1', 'SGK494', 'FAM32BP', nan, 'AC241952.1', 'AL365475.1', 'NSUN5P1', 'CDH12P3', 'C7orf55-LUC7L2', 'ENPP7P8', 'AC244157.2', 'AC073111.5', 'AC139495.1', 'LINC00680', 'AC012020.2', 'A2MP1', 'AC139495.2', 'CDH12P2', 'CROCCP2', 'SDHDP6', 'AC146507.2', 'AC046185.3', 'AC010894.5', 'AC022400.3', 'POLR2J4', 'ZNF137P', 'SEPT1', 'AL035563.1', 'C8orf44', 'AC073857.1', 'AC009093.10', 'PA2G4P4', 'PDCL3P4', 'VDAC2P2', 'AC243772.3', 'STAG3L5P-PVRIG2P-PILRB', 'AC015911.7', 'AL356272.1', 'AL109811.3', 'KRT18P5', 'AC138409.1', 'AC026362.1', 'AC006518.2', 'AL591926.7', 'AC103736.1', 'AL513365.1', 'FGF7P6', 'AL121753.2', 'AC005099.1', 'LINC00680-GUSBP4', 'AC105749.1', 'AC008555.8', 'AL139352.1', 'PRELID3BP7', 'AL137058.2', 'AL732372.3', 'PPIAP45', 'AC008878.3', 'RN7SL385P', 'AC241585.2', 'AC025884.1', 'ZNF658B', 'COX5BP6', 'RN7SL50P', 'RPL12P43', 'MLLT10P1', 'AC109826.1', 'PSMD10P1', 'AC007494.3', 'RF00019', 'AL157935.2', 'AC073896.1', 'AP006621.5', 'RPL11P3', 'AL139415.1', 'AC010132.3', 'JMJD7-PLA2G4B', 'CICP14', 'RF00019', 'ZNF890P', 'SPDYE15P', 'AC010487.3', 'VN1R81P', 'HNRNPA1P34', 'COMMD3-BMI1', 'HIST2H2BD', 'AC144548.1', 'AC020915.3', 'DSTNP1', 'AC097374.1', 'AC008758.4', 'AC131392.2', 'TAF13P2', 'RPL4P1', 'PMS2P1', 'STX8P1', 'AL645568.2', 'AC131392.1', 'AC016065.2', 'SEC14L1P1', 'PPIAP41', 'RPAP2P1', 'AC008267.3', 'AC018523.1', 'AC084033.3', 'FAAHP1', 'PWAR6', 'MSX2P1', 'OR1X5P', 'AC084754.1', 'FAM173B', 'DPRXP4', 'LRRC37A17P', 'RPL21P89', 'AC018635.1', 'AC073585.1', 'AC093899.2', 'RPS7P3', 'HMGB1P19', 'AC068647.1', 'AC013489.1', 'AL596220.1', 'HSPA8P15', 'AC068946.1', 'AL031282.1', 'AC105129.1', 'BMS1P21', 'FTH1P22', 'AC022916.3', 'AC138866.1', 'AC069282.1', 'FAM86EP', 'AC137056.2', 'GS1-124K5.4', 'AC010435.1', 'AL691449.1', 'AC096921.1', 'BPTFP1', 'AC010522.1', 'SPDYE10P', 'FAM157B', 'AP000526.1', 'AC009093.8', 'RNU6-418P', 'Z95114.3', 'DCAF13P3', 'AC046136.1', 'AL021937.2', 'DDX12P', 'AC022415.1', 'CHCHD2P5', 'BMS1P4', 'RNU6-610P', 'SLC25A5P1', 'AC129492.3', 'OR2A20P', 'ABCA11P', 'KPNA2P3', 'AC046185.2', 'AP001582.1', 'AC117503.2', 'HCP5B', 'RN7SK']\n",
      "1.0\n",
      "#eidsmo_trm_signature_genes_derm_CD103+_trm_vs_blood_CLA+_tem_lfc>2_padj<0.05\n",
      "WARNING: genes are not in var_names and ignored: ['gene', 'NAMPTP1', 'AC090950.2', 'SEPT11', 'AL390719.1', 'AC067931.1', 'AC016831.4', 'AC027290.2', 'AC090950.1', 'CTGF', 'AL353743.4', 'SNORD14E', 'MIR5190', 'PHF5CP', 'AC104662.2', 'AL356234.1', 'AMZ2P2', 'SNORD99', 'FAM129A', 'SMG1P3', 'AC112225.1', 'RN7SL749P', 'AC011939.1', 'AC004832.3', 'UBE2FP1', 'AC093663.2', 'ASS1P1', 'GLUD1P2', 'RPL17P40', 'PAIP1P1', 'SNORA33', 'VPS26BP1', 'SNORD13E', 'MRPL37P1', 'HNRNPA1P21', 'MIR616', 'RN7SL254P', 'RNU6-790P', 'RF00017', 'RNU6-786P', 'RPL29P14', 'AC096751.1', 'AC016831.2', 'RNU6-1092P', 'PPP4R1L', 'AP000781.2', 'AL365436.1', 'RPL7L1P3', 'PCNPP5', 'RF00017', 'HMGN2P20', 'BMS1P10', 'AC241584.1', 'AC018529.3', 'AC132872.4', 'RN7SL14P', 'MIR6514', 'WISP1', 'MIR98', 'AL033519.1', 'OSTCP8', 'Z94721.2', 'RF00561', 'AL163636.2', 'RPS20P22', 'MIR5690', 'RNU4-40P', 'RPSAP16', 'HSPE1P26', 'ELL2P1', 'AP000769.1', 'RN7SL34P', 'AGPAT4-IT1', 'HIGD1AP16', 'HMGN2P34', 'QRSL1P3', 'UBE2V1P1', 'AC122718.1', 'ATP5MFP6', 'AC087385.1', 'RNU6-937P', 'RPS15AP30', 'RN7SL600P', 'NDUFV2P1', 'SNRPGP5', 'AL591719.1', 'AL512378.1', 'ZNF72P', 'AC090004.1', 'AL137129.1', 'RN7SL492P', 'GVINP2', 'AC127070.3', 'SCARNA4', 'LINC00515', 'RF00019', 'RNU6-979P', 'NONOP2', 'COX7BP2', 'AC010733.1', 'SRP14P3', 'SNORA28', 'AL445665.1', 'AL158207.1', 'AC020898.1', 'AL133517.1', 'AP000936.3', 'RN7SL610P', 'ICE2P2', 'AC234782.1', 'KIF4CP', 'MT1JP', 'KDELC1', 'AP002490.2', 'RN7SL809P', 'RPL6P24', 'MGC12916', 'RF00019', 'RPL22P18', 'C3orf58', 'HTR5BP', 'RPL3P6', 'AC064801.2', 'ZNF300P1', 'RPL18P10', 'AC032044.2', 'AC012486.1', 'SNORA53', 'AC010469.1', 'AC011498.4', 'RF00019', 'RPL7P21', 'AC016542.2', 'AP003084.1', 'RF00017', 'RF00397', 'RF01293', 'BTBD10P2', 'RNU4-24P', 'EIF4EP1', 'AP002505.2', 'FNDC3CP', 'AC135507.2', 'RN7SL473P', 'HSPE1-MOB4', 'AC022069.1', 'ATP5PBP1', 'CXorf57', 'AMYH02020865.1', 'BMS1P8', 'RPL35AP32', 'FDPSP3', 'SNORA73B', 'AC104109.4', 'AL353625.1', 'MIR3128', 'PPIAP89', 'AC005632.2', 'SEC63P2', 'SNORA84', 'AL353898.2', 'AC011755.1', 'AL606489.2', 'SNORD3H', 'SNORD70', 'RN7SL116P', 'BZW1P2', 'RN7SL7P', 'AL591846.1', 'AC004014.2', 'NUDT9P1', 'MIR3680-1', 'AC004233.4', 'RPL31P47', 'RF00413', 'AC027644.2', 'SNORD100', 'MIR548AP', 'AL031009.1', 'RPS27AP7', 'RPS12P31', 'METTL15P1', 'PAICSP1', 'RAET1K', 'SNORD69', 'ATP5PDP4', 'PEBP1P3', 'AC069547.1', 'AL022393.1', 'RPS5P2', 'AC012254.2', 'RPL7P46', 'RNU6-1010P', 'RNU4-51P', 'NPM1P10', 'AL355877.2', 'MRE11P1', 'COX6B1P3', 'PABPC1P12', 'RNU2-63P', 'RPL10P19', 'RF00019', 'RF00017', 'RPL7P49', 'AL356056.3', 'AL669831.4', 'RPL13AP6', 'COX6CP17', 'RN7SL368P', 'TXNP1', 'CR848007.1', 'SEPT10', 'HSPA8P1', 'AC108471.1', 'RNU6-375P', 'AL031133.1', 'AC122718.2', 'AC007228.1', 'RNU6-196P', 'RF00017', 'AC068631.2', 'AL391825.1', 'RPL12P44', 'AL513343.1', 'AL512356.3', 'RNY1P12', 'UBE2D3P2', 'ANAPC1P1', 'RNA5SP282', 'RN7SL233P', 'SNORD63', 'RN7SL48P', 'RNU6-595P', 'FAM19A1', 'RN7SL502P', 'AL136981.1', 'AC034105.3', 'AL031577.2', 'RN7SL76P', 'AL158801.1', 'AC089984.2', 'RN7SKP69', 'RNU6-529P', 'AC099667.1', 'FZD10-DT', 'HNRNPCP4', 'AL355987.4', 'TXNP6', 'AC073052.1', 'RPL5P23', 'AC098591.2', 'RNU7-41P', 'AL139174.1', 'AC073610.3', 'AL035456.1', 'RNU7-13P', 'RN7SL336P', 'RF00560', 'AC010240.2', 'SNORA14A', 'AL139128.1', 'RF00612', 'RN7SL186P', 'RNU6-1005P', 'AC097059.2', 'FAM129B', 'ACTG1P14']\n",
      "5.584791777832232e-264\n",
      "#eidsmo_cir_signature_genes_derm_CD103+_trm_vs_derm_CD103-_trm_lfc<-2_padj<0.05\n",
      "WARNING: genes are not in var_names and ignored: ['gene', 'AL583844.1', 'KIR2DS4', 'AL031736.2', 'AL365475.1', 'AC010655.4', 'CENPUP2', 'SEPT1', 'AC092135.3', 'FP671120.3', 'C7orf55-LUC7L2', 'KLRA1P', 'FAM172BP', 'AC069431.2', 'AC244154.1', 'AP000295.1', nan, 'AC002400.1', 'AL356057.1', 'AC015911.7', 'RBM14-RBM4', 'MTHFD1P1', 'AL022318.4', 'AL713922.2', 'AL031736.1', 'HIST2H2BD', 'KDELC1P1', 'RPS2P36', 'AC090018.1']\n",
      "1.0\n",
      "#eidsmo_trm_signature_genes_derm_CD103+_trm_vs_derm_CD103-_trm_lfc>2_padj<0.05\n",
      "WARNING: genes are not in var_names and ignored: ['gene', 'ZNF72P', 'MIR5190']\n",
      "1.912975394038818e-24\n",
      "#eidsmo_cir_signature_genes_epiderm_CD49a+_trm_vs_blood_CLA-_tem_lfc<-2_padj<0.05\n",
      "WARNING: genes are not in var_names and ignored: ['gene', 'A2MP1', 'VDAC2P2', 'PRAL', 'ARHGAP19-SLIT1', 'FAM32BP', 'PWAR6', 'GVINP1', 'AC091564.1', 'TMEM256P2', 'FLJ37035', 'AL513534.1', 'FAM173B', 'HNRNPA1P34', 'AC012409.5', nan, 'EEF1A1P30', 'RPS3AP34', 'AL365475.1', 'AC046185.3', 'HMGB1P19', 'RPL26P6', 'AL121952.1', 'AC127502.1', 'C9orf84', 'AC006518.2', 'RNU6-1107P', 'AC139495.1', 'AL035563.1', 'CCT4P2', 'GBP1P1', 'ZMYND19P1', 'PPIAP41', 'BTG1P1', 'ZNF204P', 'AF127577.4', 'AC010203.1', 'AC105749.1', 'DSTNP1', 'Z99127.2', 'NSUN5P1', 'AC131392.2', 'AC025262.2', 'AC068152.1', 'RARRES3', 'HSP90AB4P', 'AL356272.1', 'MTND2P40', 'AC120114.3', 'AC010435.1', 'ZNF702P', 'AC073857.1', 'PDCL3P4', 'AC098614.1', 'BEND3P1', 'KRT18P61', 'AMD1P3', 'Z98752.2', 'AL139352.1', 'AC005099.1', 'AC241585.3', 'AP000919.1', 'AC022400.7', 'BNIP3P25', 'AL513365.1', 'KRT18P5', 'FAM238A', 'TAS2R64P', 'MTND4P11', 'NDUFA5P11', 'AC012618.2', 'STRA6LP', 'AC138409.1', 'GUSBP4', 'TLK2P2', 'AL357078.3', 'AJ003147.3', 'AC024568.1', 'AC012513.3', 'AC139495.2', 'AC011342.1', 'AC092747.2', 'AC073585.1', 'MTND5P2', 'AC138466.5', 'STAG3L1', 'AC003072.1', 'RF00019', 'AC013474.1', 'AC020910.6', 'SPDYE18', 'AC009093.3', 'RNU6-1152P', 'AC098827.1', 'RPL11P3', 'KLRA1P', nan, 'GAPDHP62', 'AC135983.3', 'AC110994.2', 'AC005086.1', 'FAAHP1', 'AC022021.1', 'C1DP5', 'RN7SKP127', 'DDX11L2', 'AC124303.1', 'PRH1-PRR4', 'AL591719.1', 'DNM1P46', 'COX5BP6', 'AC008895.1', 'AC012146.2', 'AC019226.2', 'AC010894.5', 'AC084754.1', 'DNM1P47', 'TRIM60P18', 'CICP27', 'RPL21P89', 'AL109811.3', 'AP002986.1', 'AC060766.7', 'BLOC1S5-TXNDC5', 'AC105129.3', 'AP002364.1', 'AL049844.1', 'BTF3P12', nan, 'FAM133DP', 'RN7SL50P', nan, 'METTL13', 'AC026402.1', 'FAM172BP', 'AC139792.2', 'RF00012', 'AL022722.1', 'AC092070.2', 'ZNF890P', 'EIF3EP1', 'ATP6V1G2-DDX39B', 'HNRNPA3P7', 'PLA2G16', 'AC109826.1', 'C8orf44', 'GUSBP3', 'AC126773.1', 'AC018523.1', 'GOLGA8VP', 'AC025809.2', 'AC009093.8', 'SERBP1P3', 'AC009120.1', 'HRASLS2', 'PIGCP1', 'AC007342.6', 'AP001206.1', 'AC007283.2', 'SPDYE11', 'AC146507.2', 'SEC14L1P1', 'RN7SL308P', 'AC004951.4', 'CDH12P2', 'AP002490.2', 'RPAP2P1', 'ASS1P2', 'LSM3P2', 'AC073410.1', 'ADAM1B', 'SRMP2', 'AC135507.2', 'AL136310.1', 'RPS2P45', 'RPL5P4', 'SNX29P2', 'AC135506.1', 'AC019227.1', 'MIR5009', 'AL359915.2', 'AL096817.1', 'ENPP7P8', 'AC073335.2', 'FAM86EP', 'AL163051.2', 'TAS2R6P', 'LINC00680-GUSBP4', 'AC096558.2', 'AC104662.2', 'HSPA8P15', 'AC139495.3', 'AC117503.4', 'AC007000.2', 'AL137159.1', 'AC073111.5', 'AC112184.1', 'ANKRD20A8P', 'RF00019', 'NIP7P3', 'AL049697.1', 'AL590704.1', 'HMGB1P3', 'AC108704.2', 'AC007485.2', 'CHCHD2P5', 'AL117344.1', 'EBAG9P1', 'RPS12P27', 'AL513475.2', 'AC126544.1', 'RAB5CP1', 'AL121594.1', 'AC090617.7', 'AL671986.1', 'AC138207.6', 'RN7SL385P', 'RPL9P2', 'AL136038.4', 'AL353763.1', 'VN1R83P', 'AC244157.2', 'AL136295.1', 'RPS3AP29', 'PTGES3P1', 'ZNF101P2', 'AC004865.1', 'MRPL35P3', 'AC018797.2', 'H2AFZP2', 'RNU6-418P', 'AL513475.1', 'NHP2P1', 'SDHDP6', 'AC092919.2', 'STX16-NPEPL1', 'AC015920.1', 'AC241952.1', nan, 'AL132656.4', 'RPS7P3', 'AC022415.1', 'SMARCE1P6', 'KRT8P39', 'RN7SL465P', 'GTF2H2B', 'RNA5SP483', 'AC015911.8', 'AC012020.2', 'CHMP1B2P', 'DAP3P2', 'NPM1P29', 'AC134349.2', 'AC027279.4', 'HNRNPA1P76', 'AC008481.2', 'AL161911.1', 'AL591926.7', 'AC002558.1', 'BET1P1', 'RF00017', 'RN7SL397P', 'RN7SL380P', 'AC067942.1', 'BNIP3P10', 'AP001273.1', 'RF00019', 'FXNP2', 'EMBP1', 'RPL31P52', 'AC133552.2', 'RNU6-610P', 'AL357054.1', 'AC007683.1', 'AC004024.1', 'GIMAP3P', 'AC004453.1', 'AP000347.1', 'CDH12P3', 'MRPL57P3', 'ABCA11P', 'AL353807.4', 'AC007161.3', 'LRRC37A16P', 'MIR4446', 'RNU6-678P', 'ZNRD1ASP', 'AL096855.1', 'RN7SL239P', 'RN7SL329P', 'AC211486.1', 'AC140076.1', 'DDX3P1', 'EEF1GP7', 'AL022318.4', 'AC016954.1', 'AC131160.1', 'AC016065.2', 'USP32P2', 'BMS1P4', 'KRT8P15', 'TMPRSS11CP', 'AC090286.2', 'EXOSC3P1', 'ACTG1P17', 'VN1R81P', 'AC063949.2', 'AC114546.3', 'FLJ42351', 'AC111170.3', 'AC069282.1', 'RF00017', 'AC010127.1', 'RN7SL203P', 'NFE2L3P1', 'PRSS30P', 'AL049779.1', 'RNU6-539P', 'AC091132.3', 'AC246785.2', 'CCDC58P5', 'AP000346.2', 'AC009153.1', 'FAM86JP', 'AC011290.2', 'RNU7-73P', 'AL160287.1', 'ZNF625-ZNF20', 'AL451074.4', 'C1QTNF3-AMACR', 'AC010627.1', nan, 'AC005538.2', 'TEX21P', 'AC022973.2', 'AC004801.1', 'FNBP1P1', 'AC120349.2', 'ZDHHC4P1', 'RN7SL799P', 'NTAN1P2', 'AC107918.4', 'AL512306.1', 'AC078857.1', 'AL590399.2', 'AC063950.1', 'MRPS18AP1', 'HMGB1P31', 'PMS2P10', 'AC079203.1', 'CR381670.1', 'CASP17P', 'OR7E128P', 'AC011330.1', 'PDIA3P1', 'SPDYE15P', 'AL645568.2', 'RN7SL265P', 'AL078621.3', 'AGAP10P', 'AP002990.1', 'CR382285.1', 'AC139792.3', 'HMGN1P28', 'CALR4P', 'DUTP6', 'AC009961.2', 'AL353743.1', 'RNA5SP490', 'AC017099.1', 'AC097103.2', 'AC010422.6', 'AC243772.3', 'Z86062.1', 'AC091167.7', 'AC040162.1', 'KRT8P12', 'PRORSD1P', 'AC025884.1', 'AP002884.4', 'LRRC37A17P', 'LINC02081', 'PA2G4P4', 'AL031587.5', 'HTR1DP1', 'FDPSP7', 'RF00017', 'RN7SL180P', 'AP006621.5', 'RN7SL834P', 'AC144530.1', 'CASP1P2', 'AC015909.5', 'POM121L7P', 'CR382285.2', 'VDAC1P11', 'CR391992.1', 'RPS27AP7', 'AC103736.1', 'AC015911.7', 'PPIAP72', 'AC113935.1', 'AC084033.3', 'MRPS31P5', 'AC242376.2', 'AC087163.2', 'RF00139', 'CBX3P2', 'PWAR5', 'RPL7AP10', 'AC015982.1', 'AC005154.2', 'AC243756.1', 'AC027281.2', 'SNORA15B-1', 'AL109755.1', 'B3GALNT1P1', 'RN7SKP69', 'BPIFB9P', 'IPO5P1', 'AL022400.1', 'PRMT1P1', 'AC104472.3', 'AC006449.7', 'VPS26AP1', 'AC135048.1', nan, 'RNU2-7P', 'RF00003', 'MIR421', 'RF00156', 'AC140134.1', 'AC020915.3', 'RPS12P20', 'AC114490.3', 'AC008993.2', 'PRELID3BP7', 'AC046136.1', 'SCAND2P', 'AC074348.1', 'ZNF252P', 'Z95114.3', 'RN7SL441P', 'AC133552.3', 'AC012065.2', 'AC005614.2', 'GOLGA2P5', 'AC008267.3', 'AC002543.1', 'AL031009.1', 'Z99127.3', 'CFL1P5', 'AC004777.1', 'NCBP2-AS2', 'AC005156.1', 'AC027575.1', 'AC007342.9', 'MIR4697HG', 'AC046185.2', 'AC092279.2', 'JTBP1', 'RF00019', 'MTCO3P20', 'AC007494.3', 'FTOP1', 'AL691432.1', 'AC016747.4', 'RDM1P3', 'GOLGA5P1', 'AC109454.4', 'AL603914.1', 'AC244230.2', 'AL591623.2', 'RF00019', 'RPS15AP29', 'PMS2P7', 'AC089987.1', 'AL450124.1', 'RN7SL57P', 'HMGB3P32', 'TPTE2P5', 'AC124312.4', 'AC096558.1', 'VN1R84P', 'AC079781.1', 'RNA5SP78', 'RN7SL23P', 'MTND6P18', 'AP001582.1', 'AC090114.3', 'RN7SKP150', 'MIR644A', 'RF00019', 'AC092436.4', 'MIRLET7D', 'AC008850.1', 'AC105036.1', 'ZNF137P', 'AP003717.3', 'AC010615.1', 'AL353807.3', 'AL109811.4', 'AC008758.4', 'Z97353.1', 'RF00019', 'CCT8P1', 'AL031320.2', 'AC004656.1', 'AC087164.2', 'HRASLS5', 'MSTO2P', 'FAR2P2', 'RN7SL293P', 'MIR548I1', 'AC145422.1', 'AC093311.1', 'AC019080.3', 'GAPDHP37', 'RNU6-254P', 'MIR374B', 'AC010619.2', 'AL356057.1', 'AC007161.1', 'AC211476.3', 'AL513329.1', 'AC105074.1', 'AC004824.1', 'CCNL2P1', 'RF00019', 'AC010878.1', 'RN7SL589P', 'AC005682.1', 'AC090984.1', 'AC092757.1', 'RN7SL604P', 'RN7SL587P', 'AC020910.1', 'SUGT1P1', 'COX6CP13', 'AL132838.2', 'ALMS1P1', 'RNA5SP364', 'SPDYE10P', 'GNL3LP1', 'AL137013.1', 'TUBG1P', 'SLC25A5P1', 'PGAM1P6', 'RNU7-45P', 'AC241520.1', 'C6orf203', 'C15orf38-AP3S2', 'RASA4CP', 'AC133435.1', 'AC003973.3', 'BTBD10P2', 'AL138688.2', 'PMS2P4', 'DYNLT3P2', 'MIR320D1', 'RNU6-1176P', 'RN7SL530P', 'STAG3L5P-PVRIG2P-PILRB', 'RNU6-1209P', 'AC091390.4', 'HNRNPA1P16', 'FAM206A', 'AP003170.1', 'AC131392.1', 'AC243960.7', 'RPS20P33', 'RF00554', 'CTHRC1P1', 'RNU6-1278P', 'AL158210.1', 'RPL3P1', 'DCAF13P3', 'AL136981.1', 'KIAA1024', 'HERC2P3', 'AL157392.5', 'RNU6-94P', 'DLSTP1', 'PMCHL1', 'RNU4ATAC18P', 'AC027176.2', 'AL031727.1', 'AC019226.1', 'RN7SL487P', 'AC091390.1', 'RPL21P44', 'AL022326.2', 'OR2A20P', 'RN7SL330P', 'RAB4B-EGLN2', 'CYP4F35P', 'GUSBP9', 'DOC2GP', 'AC116366.3', 'AL512652.2', 'AP002812.1', 'AL050341.1', 'NKAPP1', 'RPL34P6', 'HSPE1P3', 'HRAT5', 'AC005183.1', 'NPAP1P3', 'RNU1-87P', 'AL355987.4', 'AC105129.1', 'SNRPCP3', 'CDCA4P4', 'AC007790.1', 'RNU6-828P', 'RF00334', 'MIR7851', 'ATP6V1G1P7', 'RF00012', 'GS1-124K5.4', 'RPL39P36', 'AC104115.2', 'RF00425', 'GLRX3P2', 'AF107885.1', 'SNORA22C', 'AC015849.6', 'AC012254.4', 'AL445523.1', 'AC079880.2', 'CH17-340M24.3', 'PPIAP19', 'RF00019', 'AC245100.4', 'AL441964.1', 'AC116407.4', 'PTMAP4', 'IGBP1P1', 'TSNAX-DISC1', 'AC055839.1', 'AC090506.2', 'AP001330.2', 'AC211476.1', 'AC243654.2', 'AL512326.1', 'PIN4P1', 'SH3GL1P1', 'RPL4P1', 'MST1L', 'C16orf45', 'AL158068.1', 'RNU6-242P', 'AC069528.2', 'MIPEPP3', 'AC110774.1', 'RPL12P44', 'MORF4L1P3', 'AC007546.2', 'AC022400.6', 'RPL21P32', 'TATDN1P1', 'EEF1B2P7', 'RF00019', 'AC010273.1', 'RPLP1P6', 'RNU6-32P', 'AC008752.3', 'AC108010.1', 'AC024060.1', 'RNA5SP363', 'AL022331.1', 'AC091516.1', 'RF00019', 'AL157791.1', 'RIMKLBP2', 'AC244100.1', 'LARP4P', 'OGFOD1P1', 'RN7SL285P', 'AC012676.5', 'MKRN9P', 'AC010329.5', 'CPHL1P', 'HNRNPMP1', 'LRRC37A9P', 'AP001992.1', 'ISY1-RAB43', 'AC008878.3', 'MIR1294', 'RN7SL346P', 'BNIP3P13', 'ATP5PDP4', 'RN7SL559P', 'AL121978.1', 'RNU2-68P', 'RPSAP18', 'NANOGP5', 'DDX6P2', 'AC016957.1', 'AC104634.1', 'ATP6V0E1P1', 'Z99496.1', 'TBC1D27P', 'AC018445.4', 'AC017035.1', 'RF00019', 'PIGFP2', 'SUMO2P17', 'AC017104.5', 'SEPT7P9', 'AC114402.1', 'MFSD13B', 'FAM238C', 'AC006349.1', 'FUNDC2P4', 'RN7SL220P', 'AL121753.2', 'AC005722.2', 'RPS18P9', 'XBP1P1', 'RNU6-1170P', 'ZNF658B', 'RF00017', 'AC068647.1', 'AC090617.8', 'SOD1P3', 'AC108693.1', 'RNA5SP307', 'DPRXP4', 'RNU5A-6P', 'MIR4714', 'LINC00888', 'MIR548H4', 'RPL6P24', 'RN7SKP110', 'MIR3682', 'AC007998.5', 'FLJ42393', 'RP9P', 'RN7SL812P', 'AL353597.3', 'AC025449.1', 'RNU6-238P', 'BAGE2', 'MTND1P32', 'RNU6-387P', 'AC124312.1', 'NDUFB8P2', 'AC105277.1', 'RPS2P28', 'ULK4P1', 'AC004980.1', 'RF00017', 'AL031282.1', 'AL359073.1', 'NPM1P49', 'SNRPGP15', 'TEKT4P2', 'AC004951.2', 'AC105036.3', 'AL353813.1', 'AC092032.1', 'RPS12P26', 'SCARNA13', 'CBX3P3', 'TPT1P12', 'NHEG1', 'AL109809.1', 'AC021171.2', 'RNU6-315P', 'BNIP3P5', 'AL353662.2', 'AL162578.1', 'AC096921.1', 'TP73-AS1', 'AC004922.1', 'FCGR2C', 'AL137918.1', 'AC002127.2', 'AL118556.2', 'SMG1P6', 'RNU6-834P', 'FGF7P6', 'RN7SL47P', 'AC089984.3', 'EEF1DP7', 'AC090617.6', 'RN7SL225P', 'RF00019', 'RNU6-957P', 'AL359740.1', 'RNU7-181P', 'AC138866.1', 'AC211486.3', 'POLR2J4', 'RNU6-652P', 'SNORA59B']\n",
      "1.0\n",
      "#eidsmo_trm_signature_genes_epiderm_CD49a+_trm_vs_blood_CLA-_tem_lfc>2_padj<0.05\n",
      "WARNING: genes are not in var_names and ignored: ['gene', 'AL390719.1', 'NAMPTP1', 'FAM129A', 'AC020571.1', 'HNRNPA1P21', 'SEPT10', 'AC004014.2', 'SNORD14E', 'AP000769.1', 'AC006122.1', 'RF00017', 'CXorf57', 'ISCA1P1', 'AL031846.1', 'AL138895.2', 'SEPT11', 'MIR616', 'AC016831.2', 'SMG1P3', 'SIGLEC17P', 'FABP5P7', 'AL591806.3', 'AL356234.1', 'AMZ2P2', 'EIF1AXP1', 'RNU2-63P', 'AC068631.2', 'SNORA31', 'AL031777.3', 'AC004832.3', 'AL928654.3', 'AP000781.2', 'HSPE1-MOB4', 'RNY1P16', 'SNORD13E', 'RPL38P4', 'AC087385.1', 'MIR98', 'FAM57A', 'ANXA2P2', 'CSPG4P11', 'SNORD99', 'SMG1P4', 'AC067931.1', 'SLC7A5P1', nan, 'ZSCAN12P1', 'AL031736.2', 'ENO1P1', 'AL139174.1', 'NONOP2', 'AC011825.3', 'RNU6-786P', 'RPPH1', 'SNORD19', 'RNU1-1', 'AC132872.4', 'ELL2P1', 'BZW1P2', 'AC109326.1', 'RN7SL368P', 'AC245297.1', 'AL358075.4', 'AC092135.3', 'BRCC3P1', 'AL158207.1', 'UBE2FP1', 'RF00592', 'AL353898.2', 'RN7SL254P', 'RN7SL34P', 'AL353743.4', 'FLJ20021', 'RF02271', 'RPL12P16', 'SNORD3H', 'AC099521.2', 'PRDX3P1', 'AC006001.4', 'AC092066.1', 'AC244197.3', 'FNDC3CP', 'RPL7P21', 'MIR3929', 'AC090950.2', 'AL049758.1', 'AC034102.2', 'UBE2D3P2', nan, 'RNU6-937P', 'FAM173A', 'RF00019', 'AC011755.1', 'CBX3P5', 'EEF1A1P16', 'AC138811.2', 'MIR1268A', 'SNORD3A', 'AC093663.2', 'SPCS2P4', 'NBPF13P', 'SNORA73B', 'SNORA41', 'AC073548.1', 'AC104046.1', 'RN7SL208P', 'RF00100', 'AC092580.1']\n",
      "4.130305354888189e-216\n",
      "#eidsmo_cir_signature_genes_epiderm_CD49a+_trm_vs_blood_CLA+_tem_lfc<-2_padj<0.05\n",
      "WARNING: genes are not in var_names and ignored: ['gene', 'A2MP1', 'GVINP1', 'FAM32BP', 'AC091564.1', 'AL513534.1', 'Z95114.3', 'AL356272.1', 'FAM173B', 'AC139495.1', 'AC046185.3', 'DSTNP1', 'PRAL', 'AC008758.4', 'RARRES3', 'AL035563.1', 'HERC2P3', 'ENPP7P8', 'CTD-2201I18.1', 'ARHGAP19-SLIT1', 'AC073111.5', nan, 'PWAR6', 'VN1R81P', 'RPL11P3', 'ZNF137P', 'NSUN5P1', 'AL121594.1', 'TMEM256P2', 'AC069282.1', 'AC012409.5', 'COX5BP6', 'CBX3P2', 'AL357078.3', 'AP005263.1', 'AC244157.2', 'AL513365.1', 'C8orf44', 'BMS1P4', 'AC138409.1', 'FAM133DP', 'RF00017', 'AC073857.1', 'AF127577.4', nan, 'NDUFB8P2', 'AC139495.3', 'AC008878.3', 'RPAP2P1', 'LINC00643', 'AC103736.1', 'AC012513.3', 'MSTO2P', 'HMGB1P19', 'AL512652.2', 'ABCA11P', 'AC024568.1', 'VDAC2P2', 'AC010894.5', 'AL139415.1', 'PDCL3P4', 'AL591926.7', 'CCT4P2', 'C9orf84', 'AC241952.1', 'AC009093.8', 'RN7SL385P', 'AC009542.2', 'AC105749.1', 'RN7SL180P', 'AC006518.2', 'C6orf203', 'LINC00680-GUSBP4', 'PA2G4P4', 'PPIAP41', 'AC010435.1', 'AC026362.1', 'AC011475.1', 'RPS3AP34', 'SDHDP6', 'KRT18P5', 'CHMP1B2P', 'AC009093.10', 'MIR4697HG', 'AC012676.5', 'RPEP4', 'RN7SL559P', 'AC005099.1', 'RPL12P43', 'AL031282.1', 'ZNF890P', 'RN7SL441P', 'RN7SL50P', 'METTL13', 'RN7SL329P', 'BEND3P1', 'AC007494.3', 'TAS2R64P', 'FLJ42351', 'AC044784.2', 'FAM86EP', 'RPS7P3', 'SNX29P2', 'CDH12P3', 'AC069528.2', 'TSNAX-DISC1', 'MIR4477A', 'BX571818.1', 'PPIAP45', 'AC068647.1', 'AC146507.2', nan, 'AC025884.1', 'AC092821.1', 'SEC14L1P1', 'AC109826.1', 'AP002360.3', 'AGAP10P', 'PRELID3BP7', 'AC139495.2', 'AC067942.1', 'LRRC37A16P', 'FAAHP1', 'ANKRD20A8P', 'AL137145.1', 'SPDYE15P', 'AC007342.6', 'AC020915.3', 'AC015911.7', 'SNORA59B', 'AL096711.2', 'SGK494', 'HTATSF1P2', 'AC127502.1', 'STX16-NPEPL1', 'AL139352.1', 'HSPA8P19', 'AC008267.3', 'NBEAP1', 'CDH12P2', 'FLJ37035', 'ZNF204P', 'AC022400.7', 'AC091132.3', 'AC018797.2', 'RF00019', 'AC073896.1', 'GAPDHP62', 'AES', 'MLLT10P1', 'HMGB1P3', 'STX8P1', 'LINC00888', 'CR381670.1', 'AC109583.2', 'AL022400.1', 'TMEM105', 'RN7SL834P', 'AC090617.7', 'AC096558.2', 'CR382285.1', 'AC012020.2', 'RNU6-418P', 'RP9P', 'JMJD7-PLA2G4B', 'AC008993.2', 'AL627309.6', 'AC110994.2', 'AL160287.1', 'AC117503.2', 'ST20', 'AL845472.2', 'LGALS17A', 'OR2A20P', 'AC135776.4', 'AC026402.1', 'AC131392.2', 'AC073585.1', 'AC084754.1', 'AC022415.1', 'AP002812.1', 'AC040162.1', 'AL671986.1', 'TAF13P2', 'AL365475.1', 'AP002990.1', 'AK3P5', 'AC018523.1', 'AL121952.1', 'AL645568.2', 'FAM238C', 'NECAP1P2', 'DPRXP4', 'FAM157B', 'AP006621.5', 'AL109811.3', 'AC017099.1', 'RPL9P2', 'RPS23P6', 'MIPEPP3', 'ANKRD18DP', 'RF00019', 'MSX2P1', 'AC016065.2', 'AL049844.2', 'AL132656.4', 'BMS1P4', 'RNU6-1152P', 'AC104986.2', 'AC010627.1', 'EMBP1', 'AC046185.2', 'AP000526.1', 'ANTXRLP1', 'OR1X5P', 'GUSBP4', 'AC139792.2', 'RPL4P1', 'MT-TD', 'FAR2P2', 'HNRNPA1P34', 'MRPL35P3', 'RNU6-610P', 'AC027176.2', 'PTGES3P1', 'MUC20P1', 'MTND4P11', 'AL136295.1', 'AL121753.2', 'AC007000.2', 'AC007485.2', 'FAM238A', 'AC090506.2', 'FXNP2', 'HSPA8P15', 'RASA4CP', 'BLOC1S5-TXNDC5', 'AC131392.1', 'AC138965.3', 'AC007283.2', 'PRH1-PRR4', 'CHCHD2P5', 'RF02271', 'GOLGA2P5', 'AC017104.5', 'ZNF849P', 'AL157392.5', 'DCAF13P3', 'TEKT4P2', 'FAM74A4', 'AL139274.1', 'ABCC13', 'STAG3L1', 'SEPT7-AS1', 'AL157871.3', 'FRG1KP', 'AL732372.3', 'RPL21P89', 'OR52B5P', 'ALOX15P1', 'CBWD4P', 'KPNA2P3', 'SEPT14P19', 'CMAHP', 'LRRC37A17P', 'AC243772.3', 'HNRNPA1P76', 'PPIAP19', 'RNU4ATAC18P', 'RN7SL740P', 'AC011342.1', 'FAM172BP', 'MARK2P4', 'AL513329.1', 'AC063949.2', nan, 'RNU7-73P', 'SCAND2P', 'BMS1P21', 'AC013489.1']\n",
      "1.0\n",
      "#eidsmo_trm_signature_genes_epiderm_CD49a+_trm_vs_blood_CLA+_tem_lfc>2_padj<0.05\n",
      "WARNING: genes are not in var_names and ignored: ['gene', 'NAMPTP1', 'FAM129A', 'FABP5P7', 'AL390719.1', 'SMG1P2', 'AL138895.2', 'SNORD14E', 'AMZ2P2', 'AC068631.2', 'SEPT11', 'SIGLEC17P', 'HNRNPA1P21', 'AC067931.1', 'RPL29P14', 'BZW1P2', 'SMG1P3', 'FAM57A', 'SNORD99', 'RPS15AP30', 'AC020571.1', 'SEPT10', 'RN7SL254P', 'AC087385.1', 'MIR98', 'POC1B-GALNT4', 'MIR616', 'AC132872.4', 'LDHAP4', 'AL139174.1', 'RPL38P4', 'SNORA33', 'RF00017', 'ASS1P1', 'AC004832.3', 'UBE2FP1', 'AC006122.1', 'HMGN2P20', 'AC090950.2', 'AL669831.4', 'SLC7A5P1', 'RN7SL76P', 'AL163636.2', 'AC122718.1', 'AL162430.1', 'SNORD13E', 'FLJ20021', 'RNU6-786P', 'AL031736.2', 'SNORD19', 'AC016831.2', 'AL391825.1', 'AC099521.2', 'HSPE1-MOB4', 'C3orf58', 'AL353743.4', 'AC098484.3', 'RN7SL368P', 'AC092881.1', 'PDPK2P', 'RPSAP16', 'AP000769.1', 'RPPH1', 'FNDC3CP', 'AL513343.1', nan, 'AL031777.3', 'AC011755.1', 'AP000781.2', 'AC004014.2', 'RNU2-63P', 'RN7SL34P', 'RPL7P21', 'RN7SL492P', 'SNORA31', 'RNU6-1092P', 'PEBP1P3', 'AL158207.1', 'AL591806.3', 'AL031846.1', 'RF00019', 'PPIAP89', 'RN7SL473P', 'RPL21P119', 'LINC00843', 'AL049758.1', 'RF00592', 'AC092066.1', 'AC008764.9', 'ZSCAN12P1', 'AC125612.1', 'SNORD100', 'AC096751.1', 'AP000648.3', 'SNORD3H', 'AC010733.1', 'DSTNP2', 'AC009951.1', 'AL356234.1', 'ELL2P1', 'RNU4-40P', 'AC015813.5', 'PRDX3P1', 'UBBP4', 'AL606489.2', 'AC018529.3', 'UBE2D3P2', 'AL353898.2', 'METTL15P1', 'RNY1P16', 'NCLP1', 'RPL3P6', 'RN7SL600P', 'AC020898.1', 'AC010186.4', 'NACA4P', 'AC073548.1', 'RF00409', 'RF00019', 'ENO1P1', 'AL355974.3', 'AC007228.1', 'AC068775.1', 'RF00015', 'RPL7L1P3', 'ANO7L1', 'RNU6-1301P', 'PDHA1P1', 'SMG1P4', 'RNU6-937P', 'RN7SL4P', 'NONOP2', 'HNRNPA1P50', 'MIR3128', 'FLJ30679', 'ISCA1P1', 'CXorf57']\n",
      "8.373359322677872e-221\n",
      "#eidsmo_cir_signature_genes_epiderm_CD49a+_trm_vs_derm_CD103-_trm_lfc<-2_padj<0.05\n",
      "WARNING: genes are not in var_names and ignored: ['gene', 'ARHGAP19-SLIT1', 'AL121594.1', 'DPRXP3', 'CENPUP2', 'RPS3AP34', 'AP005263.1', 'ARMCX7P', 'BLOC1S5-TXNDC5', 'AL591719.1', 'MTND5P2', 'A2MP1', 'AC112225.1', 'TMEM256P2', 'KRT18P15', 'AL445220.1', 'MSH5-SAPCD1', 'AP001206.1', 'SNORA14A', 'RPL11P3', 'AC013474.1', 'FLJ42393', 'TATDN1P1', 'ZDHHC20P1', 'MRPL37P1', 'AL139274.1', 'PWAR5', 'AC134349.2', 'RBMS2P1', 'AC022021.1', 'KLRA1P', 'AF127577.4', 'PRH1-PRR4', 'RHEBP1', 'RPL5P23', 'AL356057.1', 'AC114801.2', 'PAIP1P1', 'AL163051.2', 'STRA6LP', 'AURKAP1', 'RPS18P1', 'RNU2-70P', 'RP9P', 'METTL13', 'OSTCP8', 'SRSF10P1', 'BNIP3P25', 'Z99127.2', 'GVINP1', 'ANKRD18DP', 'FDPSP3', 'EGFEM1P', 'AL671986.1', 'AC002558.1', 'FAM198B', 'AC090971.4', 'AP002990.1', 'RPL22P3', 'AC135507.2', 'CTGF', 'AL357078.3', 'RPS27AP7', 'AL590233.1', 'TAS2R64P', 'AC079203.1', 'AC002543.1', 'RF00561', 'HMGB1P41', 'ATP5MFP6', 'AC010203.1', 'CCT4P2', 'BMS1P11', 'GTF3AP2', 'AC005086.1', 'SMARCE1P6', 'FCF1P5', 'AC069503.2', 'RN7SKP69', 'ZMYND19P1', 'RN7SKP110', 'FABP7P1', 'ANKRD20A8P', 'RALGAPA1P1', 'AC139491.7', 'AC073335.2', 'ELOCP33', nan, 'ATP5MC2P3', 'SLC25A39P1', 'SUMO2P14', 'AC108704.2', 'XBP1P1', 'AC004918.3', 'LINC01336', 'PHF5CP', 'AK3P5', 'AL096711.2', 'RPL23AP23', 'SAMD11P1', 'AC022069.1', 'AL034418.1', 'FAM133DP', 'AL031736.1', 'KRT8P48', 'EEF1A1P25', 'AL365475.1', nan, 'AC011330.1', 'AL049844.2', 'PRAL', 'RF01293', 'NDUFB8P2', 'SOD1P3', 'BMS1P4', 'AL355987.4', 'AC016026.1', 'RPL6P24', 'RNU4-24P', 'ENPP7P8', 'TRIM60P18', 'AMYH02020865.1', 'ZNF204P', 'HYDIN2', 'HSP90AB4P', 'TSNAX-DISC1', 'AC073410.1', 'AC009093.3', 'AC110994.2', 'AC138907.8', 'C16orf45', 'AC004824.1', 'RPL23AP30', 'AC132825.4', 'RPS20P33', 'AC012313.3', 'BNIP3P27', 'LINC00515', 'AC073052.1', 'COX7CP1', 'AL591441.1', 'AC105074.1', 'EMBP1', 'FAM173B', 'BTF3P12', 'AC010615.1', 'HTR1DP1', 'SEPT7P6', 'RAB6C-AS1', 'AL391419.1', 'MTND6P18', 'AC073896.1', 'AC135776.4', 'RNU6-223P', 'AL954705.1', 'CCT8P1', 'RF00404', 'RNU6-790P', 'CR788268.1', 'RPSAP6', 'AC060766.1', 'VPS26BP1', nan, 'AC138207.6', 'DNM1P47', 'AC023509.1', 'AC003973.3', 'AC006518.2', 'DNAJC19P5', 'AC127502.1', 'AC084824.1', 'CASP1P2', 'NANOGP4', 'FAM172BP', 'AC090114.3', 'RNU6-1005P', 'AC244034.1', 'ST13P15', 'AC120349.2', 'GAPDHP62', 'ZNF625-ZNF20', 'ABCA17P', 'AL355802.2', 'UBE2V1P1', 'AC090018.1', 'RF00019', 'RPL12P18', 'AL353662.2', 'RPS4XP14', 'AC034105.3', nan, 'AC090506.2', 'AL136310.1', 'MSTO2P', 'SRMP2', 'AC060766.7', 'RN7SL441P', 'AL353763.1', 'AC064801.2', 'AC005183.1', 'BX248409.1', 'AC009153.1', 'AC011944.2', 'NBEAP1', 'CTD-2201I18.1', 'RPS3AP12', 'FAM157A']\n",
      "1.0\n",
      "#eidsmo_trm_signature_genes_epiderm_CD49a+_trm_vs_derm_CD103-_trm_lfc>2_padj<0.05\n",
      "WARNING: genes are not in var_names and ignored: ['gene', 'AC068631.2', 'AC010186.4', 'AC006122.1', 'BORCS7-ASMT', 'FAM57A']\n",
      "2.978178404634183e-144\n",
      "#eidsmo_cir_signature_genes_epiderm_CD49a+_trm_vs_derm_CD103+_trm_lfc<-2_padj<0.05\n",
      "WARNING: genes are not in var_names and ignored: ['gene', 'AP005263.1', 'AL591719.1', 'ARHGAP19-SLIT1', 'MTND5P2', 'AL121594.1', 'MIR5190', 'AC112225.1', 'PAIP1P1', 'AC104662.2', 'REXO1L1P', 'ZNF72P', 'CTGF', 'ANKRD30BP2', 'RPS27AP7', 'ATP5MFP6', 'AC022021.1', 'AC013474.1', 'AMYH02020865.1', 'EGFEM1P', 'BLOC1S5-TXNDC5', 'AF127577.4', 'RNU2-70P', 'RNU6-1005P', 'ANKRD20A8P', nan, 'RPL17P40', 'AC135776.4', 'ARMCX7P', 'AC135507.2', 'RPL6P24', 'RF00561', 'AC002558.1', 'ZMYND19P1', 'ANKRD18CP', 'AP002490.2', 'AC127070.3', 'RNU6-790P', 'FLJ42393', 'AL136310.1', 'AL031009.1', 'AC073335.2', 'HERC2P3', 'SNORA14A', 'BTBD10P2', 'MTND6P18', 'AC010203.1', 'EEF1A1P24', 'ZNF625-ZNF20', 'AC138207.6', 'AL355987.4', 'AC090004.1', 'SMARCE1P6', 'AC010469.1', 'UBE2V1P1', 'GAPDHP62', 'AP002505.2', 'FAM173B', 'BTF3P12', 'XBP1P1', 'AL121952.1', 'GVINP2', 'RNU6-1152P', 'EEF1DP7', 'AC022069.1', 'RN7SL740P', 'PHF5CP', 'TMEM105', 'SCARNA4', 'TBC1D27P', nan, 'RNU1-106P', 'AC105074.1', 'FLJ42351', 'MRPL37P1', 'COX7CP1', 'RF01293', 'HSPE1P26', 'RPSAP70', 'DPRXP3', 'AC138907.8', 'AC073052.1', 'AC073610.3', 'PRAL', 'FAM19A2', 'RPL22P18', 'AL133517.1', 'SOD1P3', 'AL357054.1', 'VPS26BP1', 'ZDHHC20P1', 'AC004824.1', 'AC108704.2', 'RN7SKP69', 'ADAMTS7P4', 'AL137918.1', 'RN7SL749P', 'RN7SL180P', 'AC144530.1', 'AL121821.1', 'NUDT9P1', 'AC012313.3', 'AL139274.1', 'CTD-2201I18.1', 'RN7SL444P', 'FRG1GP', 'AC073610.1', 'RN7SL459P', 'AL078621.3', 'AC019227.1', 'ATP5PDP4', 'AC090740.1', 'PRH1-PRR4']\n",
      "1.0\n",
      "#eidsmo_trm_signature_genes_epiderm_CD49a+_trm_vs_derm_CD103+_trm_lfc>2_padj<0.05\n",
      "WARNING: genes are not in var_names and ignored: ['gene', 'SIGLEC17P', 'AC010186.4', 'AL138895.2', 'AC010655.4', 'CSPG4P11', 'AL031846.1', 'AP003108.3', 'SEPT1', 'AC034102.2', 'C7orf55-LUC7L2', 'AL356309.3', 'EIF3FP3', 'AC011825.3', 'PDPK2P', 'AC092135.3', 'AC104452.1', 'AL031736.2', 'KIR2DS4', 'FP671120.3', 'AC006122.1', 'RN7SL1', 'FABP5P7', 'AC015911.4']\n",
      "3.5515684494109257e-50\n",
      "#eidsmo_cir_signature_genes_epiderm_CD49a+_trm_vs_epiderm_CD49a-_trm_lfc<-2_padj<0.05\n",
      "WARNING: genes are not in var_names and ignored: ['gene', 'REXO1L1P', 'BLOC1S5-TXNDC5', 'AL121594.1', 'AL591719.1', 'ANKRD18DP', 'ANKRD20A8P', 'AP005263.1', 'ANKRD30BP2', 'FLJ42393', nan, 'AL163051.2', 'RPS3AP34', 'AC135507.2', 'AP001206.1', 'AF127577.4', 'SNORA14A', 'OSTCP8', 'AC131160.1', 'ENPP7P8', 'PKMP3', 'MTND5P2', 'PWAR5', 'RPL12P44', 'PRAL', 'PAIP1P1', 'C9orf84', nan, 'RPS18P1', 'AC009542.2', 'AL355987.4', 'AL353662.2', 'CR788268.1', 'OR7E38P', 'RPSAP70', 'BMS1P4', 'RN7SL441P', 'FDPSP3', 'AC019227.1', 'CICP27', 'ZMYND19P1', 'AC073610.3', 'AC026464.4', 'AL845472.2', 'AL021068.1', 'EEF1A1P25', 'RPL6P24', 'AC119751.3', 'RAB6C-AS1', 'ISPD-AS1', 'SHLD2P2', 'AL139274.1', 'H2AFZP2', 'CCNJP2', 'CBX3P2', 'STK33P1', 'AC024560.2', 'RPS27AP7', 'CEACAMP10', 'CU634019.6', 'AL356479.1', 'RF01241', 'OR52B5P', 'EEF1A1P10', 'MRPL37P1']\n",
      "1.0\n",
      "#eidsmo_trm_signature_genes_epiderm_CD49a+_trm_vs_epiderm_CD49a-_trm_lfc>2_padj<0.05\n",
      "WARNING: genes are not in var_names and ignored: ['gene', 'AC068631.2', 'AC010186.4', 'AC006122.1', 'BORCS7-ASMT', 'FAM57A']\n",
      "2.978178404634183e-144\n",
      "#eidsmo_cir_signature_genes_blood_CLA+_tem_vs_blood_CLA-_tem_lfc<-2_padj<0.05\n",
      "WARNING: genes are not in var_names and ignored: ['gene', 'DDX3P1', 'EEF1A1P30', 'AC104662.2', 'EEF1GP7', 'LSM3P2', 'TMX2P1', 'AC073410.1', 'TLK2P2', 'RPL7P46', 'AP002490.2', 'ANO7L1', 'HMGB3P32', 'AC133552.2', 'AC007256.1', 'AL022722.1', 'MRPL57P3', 'AC105036.1', 'AC009093.3', 'CCT8P1', 'HMGN2P20', 'ZDHHC4P1', 'AC105129.3', 'RPL7L1P3', 'SNRPGP5', 'RPSAP16', 'AC006449.7', 'JTBP1', 'AC087164.2', 'AC008481.2', 'SDAD1P1', 'AC007683.1', 'AL137159.1', 'AL136038.4', 'RPL7AP10', 'MTND1P32', 'MORF4L1P3', 'RF00012', 'AC069431.2', 'AP000919.1', 'ASS1P2', 'AC005086.1', 'AC090984.1', 'AC135507.2', 'ATP5PBP1', 'AC098614.1', 'RAB5CP1', 'RPL7AP60', 'AL117344.1', 'NPM1P29', 'AP002884.4', 'AC002400.1', 'DDX11L2', 'AC009951.2', 'RPS15AP29', 'AC131160.1', 'AC133435.1', 'CCNL2P1', 'AL035461.1', 'ASS1P1', 'AC068775.1', 'AC027281.2', 'AL121952.1', 'TUBG1P', 'HRASLS2', 'ACTG1P14', 'AC060766.7', 'SERBP1P3', 'AC012065.2', 'COX6CP13', 'AL353813.1', 'BTG1P1', 'RNU6-1107P', nan, 'AL603914.1', 'RNU6-790P']\n",
      "1.0\n",
      "#sc_trm_eidsmo_trm_signature_genes_blood_CLA+_tem_vs_blood_CLA-_tem_lfc>2_padj<0.05\n",
      "WARNING: genes are not in var_names and ignored: ['gene', 'NBPF13P', 'RPL12P43', 'SEPT10', 'AL096711.2', 'HNRNPA1P21', 'CTD-2201I18.1', 'AC044784.2', 'NIPA2P4', 'AC137056.2', 'NBEAP1', 'AL034370.1', 'OR8B7P']\n",
      "2.7968657468987475e-34\n",
      "#sims_cir_signature_genes_CCL5+_Tcell_lung_vs_blood_lfc<-1_padj<0.05\n",
      "WARNING: genes are not in var_names and ignored: ['gene', 'SIGLEC17P', 'AC010186.4', 'AL138895.2', 'AC010655.4', 'CSPG4P11', 'AL031846.1', 'AP003108.3', 'SEPT1', 'AC034102.2', 'C7orf55-LUC7L2', 'AL356309.3', 'EIF3FP3', 'AC011825.3', 'PDPK2P', 'AC092135.3', 'AC104452.1', 'AL031736.2', 'KIR2DS4', 'FP671120.3', 'AC006122.1', 'RN7SL1', 'FABP5P7', 'AC015911.4']\n",
      "1.0\n",
      "#sims_trm_signature_genes_CCL5+_Tcell_lung_vs_blood_lfc>1_padj<0.05\n",
      "WARNING: genes are not in var_names and ignored: ['gene', 'RP11-632C17__A.1', 'CTD-2218G20.1', 'RP11-234A1.1', 'RP11-864N7.2', 'RPL3P4', 'RP11-475C16.1', 'RPS23P8', 'RP11-51O6.1', 'RPS3AP6', 'RP4-706A16.3', 'AC004453.8', 'RPL13AP5', 'CTD-2287O16.1', 'RP11-761N21.2', 'RPL23AP74', 'RPL34P18', 'RPL12P4', 'MTATP6P1', 'RP11-889L3.1', 'RPL41P2', 'RP11-464D20.2', 'SC22CB-1E7.1', 'RPSAP9', 'EEF1A1P11', 'RPL39P3', 'RPS15AP1', 'RP11-112J1.1', 'RP5-1056L3.3', 'RPL30P4', 'RPL21P28', 'RP11-40C6.2', 'FAUP1', 'RP11-543P15.1', 'RP11-114H7.1', 'RP3-340B19.2', 'RPL37P2', 'RPL35P5', 'RP11-215A21.2', 'RP11-436H11.1', 'RPS19P1', 'RPL5P34', 'RPS4XP11', 'EEF1B2P6', 'RPSAP19', 'RP11-20O24.4', 'RPS15AP11', 'RP11-778D9.4', 'RPL7AP6', 'RP11-220D10.1', 'RP11-69L16.5', 'FAM65B', 'RPL21P4', 'RPS15AP38', 'RP11-641D5.1', 'RPL34P27', 'AC002075.4', 'RP11-36C20.1', 'RPS3AP5', 'RP11-244J10.1', 'RP11-169K16.8', 'RP11-12M9.3', 'RP11-367G18.2', 'NACA3P', 'CTD-2666L21.3', 'RPS7P10', 'RP3-486I3.4', 'RPSAP15', 'RP11-796G6.1', 'AB019441.29', 'RP11-50D9.1', 'RP3-417G15.1', 'RPL24P8', 'TPT1P9', 'RPL23AP65', 'RP11-832N8.1', 'RP11-393N4.2', 'TMSB4XP8', 'EEF1A1P5', 'RPL21P134', 'RPL10P15', 'RPS26P11', 'AC016700.6', 'HLA-DRB6', 'RPL35P2', 'RPS26P31', 'RP11-175B9.3', 'RPL21P1', 'CTB-47B8.1', 'RP1-182O16.1', 'RP3-393E18.1', 'RPS15AP24', 'RPS26P15', 'RPS12P23', 'PSMD5-AS1', 'RPS4XP6', 'RPL24P7', 'RP1-278E11.3', 'RPL37P23', 'RP11-159H3.1']\n",
      "0.001380891756967427\n"
     ]
    },
    {
     "data": {
      "text/plain": [
       "<Figure size 600x750 with 0 Axes>"
      ]
     },
     "metadata": {},
     "output_type": "display_data"
    },
    {
     "data": {
      "text/plain": [
       "<Figure size 640x480 with 0 Axes>"
      ]
     },
     "metadata": {},
     "output_type": "display_data"
    },
    {
     "data": {
      "text/plain": [
       "<Figure size 600x750 with 0 Axes>"
      ]
     },
     "metadata": {},
     "output_type": "display_data"
    },
    {
     "data": {
      "text/plain": [
       "<Figure size 640x480 with 0 Axes>"
      ]
     },
     "metadata": {},
     "output_type": "display_data"
    },
    {
     "data": {
      "text/plain": [
       "<Figure size 600x750 with 0 Axes>"
      ]
     },
     "metadata": {},
     "output_type": "display_data"
    },
    {
     "data": {
      "text/plain": [
       "<Figure size 640x480 with 0 Axes>"
      ]
     },
     "metadata": {},
     "output_type": "display_data"
    },
    {
     "data": {
      "text/plain": [
       "<Figure size 600x750 with 0 Axes>"
      ]
     },
     "metadata": {},
     "output_type": "display_data"
    },
    {
     "data": {
      "text/plain": [
       "<Figure size 640x480 with 0 Axes>"
      ]
     },
     "metadata": {},
     "output_type": "display_data"
    },
    {
     "data": {
      "text/plain": [
       "<Figure size 600x750 with 0 Axes>"
      ]
     },
     "metadata": {},
     "output_type": "display_data"
    },
    {
     "data": {
      "text/plain": [
       "<Figure size 640x480 with 0 Axes>"
      ]
     },
     "metadata": {},
     "output_type": "display_data"
    },
    {
     "data": {
      "text/plain": [
       "<Figure size 600x750 with 0 Axes>"
      ]
     },
     "metadata": {},
     "output_type": "display_data"
    },
    {
     "data": {
      "text/plain": [
       "<Figure size 640x480 with 0 Axes>"
      ]
     },
     "metadata": {},
     "output_type": "display_data"
    },
    {
     "data": {
      "text/plain": [
       "<Figure size 600x750 with 0 Axes>"
      ]
     },
     "metadata": {},
     "output_type": "display_data"
    },
    {
     "data": {
      "text/plain": [
       "<Figure size 640x480 with 0 Axes>"
      ]
     },
     "metadata": {},
     "output_type": "display_data"
    },
    {
     "data": {
      "text/plain": [
       "<Figure size 600x750 with 0 Axes>"
      ]
     },
     "metadata": {},
     "output_type": "display_data"
    },
    {
     "data": {
      "text/plain": [
       "<Figure size 640x480 with 0 Axes>"
      ]
     },
     "metadata": {},
     "output_type": "display_data"
    },
    {
     "data": {
      "text/plain": [
       "<Figure size 600x750 with 0 Axes>"
      ]
     },
     "metadata": {},
     "output_type": "display_data"
    },
    {
     "data": {
      "text/plain": [
       "<Figure size 640x480 with 0 Axes>"
      ]
     },
     "metadata": {},
     "output_type": "display_data"
    },
    {
     "data": {
      "text/plain": [
       "<Figure size 600x750 with 0 Axes>"
      ]
     },
     "metadata": {},
     "output_type": "display_data"
    },
    {
     "data": {
      "text/plain": [
       "<Figure size 640x480 with 0 Axes>"
      ]
     },
     "metadata": {},
     "output_type": "display_data"
    },
    {
     "data": {
      "text/plain": [
       "<Figure size 600x750 with 0 Axes>"
      ]
     },
     "metadata": {},
     "output_type": "display_data"
    },
    {
     "data": {
      "text/plain": [
       "<Figure size 640x480 with 0 Axes>"
      ]
     },
     "metadata": {},
     "output_type": "display_data"
    },
    {
     "data": {
      "text/plain": [
       "<Figure size 600x750 with 0 Axes>"
      ]
     },
     "metadata": {},
     "output_type": "display_data"
    },
    {
     "data": {
      "text/plain": [
       "<Figure size 640x480 with 0 Axes>"
      ]
     },
     "metadata": {},
     "output_type": "display_data"
    },
    {
     "data": {
      "text/plain": [
       "<Figure size 600x750 with 0 Axes>"
      ]
     },
     "metadata": {},
     "output_type": "display_data"
    },
    {
     "data": {
      "text/plain": [
       "<Figure size 640x480 with 0 Axes>"
      ]
     },
     "metadata": {},
     "output_type": "display_data"
    },
    {
     "data": {
      "text/plain": [
       "<Figure size 600x750 with 0 Axes>"
      ]
     },
     "metadata": {},
     "output_type": "display_data"
    },
    {
     "data": {
      "text/plain": [
       "<Figure size 640x480 with 0 Axes>"
      ]
     },
     "metadata": {},
     "output_type": "display_data"
    },
    {
     "data": {
      "text/plain": [
       "<Figure size 600x750 with 0 Axes>"
      ]
     },
     "metadata": {},
     "output_type": "display_data"
    },
    {
     "data": {
      "text/plain": [
       "<Figure size 640x480 with 0 Axes>"
      ]
     },
     "metadata": {},
     "output_type": "display_data"
    },
    {
     "data": {
      "text/plain": [
       "<Figure size 600x750 with 0 Axes>"
      ]
     },
     "metadata": {},
     "output_type": "display_data"
    },
    {
     "data": {
      "text/plain": [
       "<Figure size 640x480 with 0 Axes>"
      ]
     },
     "metadata": {},
     "output_type": "display_data"
    },
    {
     "data": {
      "text/plain": [
       "<Figure size 600x750 with 0 Axes>"
      ]
     },
     "metadata": {},
     "output_type": "display_data"
    },
    {
     "data": {
      "text/plain": [
       "<Figure size 640x480 with 0 Axes>"
      ]
     },
     "metadata": {},
     "output_type": "display_data"
    },
    {
     "data": {
      "text/plain": [
       "<Figure size 600x750 with 0 Axes>"
      ]
     },
     "metadata": {},
     "output_type": "display_data"
    },
    {
     "data": {
      "text/plain": [
       "<Figure size 640x480 with 0 Axes>"
      ]
     },
     "metadata": {},
     "output_type": "display_data"
    },
    {
     "data": {
      "text/plain": [
       "<Figure size 600x750 with 0 Axes>"
      ]
     },
     "metadata": {},
     "output_type": "display_data"
    },
    {
     "data": {
      "text/plain": [
       "<Figure size 640x480 with 0 Axes>"
      ]
     },
     "metadata": {},
     "output_type": "display_data"
    },
    {
     "data": {
      "text/plain": [
       "<Figure size 600x750 with 0 Axes>"
      ]
     },
     "metadata": {},
     "output_type": "display_data"
    },
    {
     "data": {
      "text/plain": [
       "<Figure size 640x480 with 0 Axes>"
      ]
     },
     "metadata": {},
     "output_type": "display_data"
    },
    {
     "data": {
      "text/plain": [
       "<Figure size 600x750 with 0 Axes>"
      ]
     },
     "metadata": {},
     "output_type": "display_data"
    },
    {
     "data": {
      "text/plain": [
       "<Figure size 640x480 with 0 Axes>"
      ]
     },
     "metadata": {},
     "output_type": "display_data"
    },
    {
     "data": {
      "text/plain": [
       "<Figure size 600x750 with 0 Axes>"
      ]
     },
     "metadata": {},
     "output_type": "display_data"
    },
    {
     "data": {
      "text/plain": [
       "<Figure size 640x480 with 0 Axes>"
      ]
     },
     "metadata": {},
     "output_type": "display_data"
    },
    {
     "data": {
      "text/plain": [
       "<Figure size 600x750 with 0 Axes>"
      ]
     },
     "metadata": {},
     "output_type": "display_data"
    },
    {
     "data": {
      "text/plain": [
       "<Figure size 640x480 with 0 Axes>"
      ]
     },
     "metadata": {},
     "output_type": "display_data"
    },
    {
     "data": {
      "text/plain": [
       "<Figure size 600x750 with 0 Axes>"
      ]
     },
     "metadata": {},
     "output_type": "display_data"
    },
    {
     "data": {
      "text/plain": [
       "<Figure size 640x480 with 0 Axes>"
      ]
     },
     "metadata": {},
     "output_type": "display_data"
    },
    {
     "data": {
      "text/plain": [
       "<Figure size 600x750 with 0 Axes>"
      ]
     },
     "metadata": {},
     "output_type": "display_data"
    },
    {
     "data": {
      "text/plain": [
       "<Figure size 640x480 with 0 Axes>"
      ]
     },
     "metadata": {},
     "output_type": "display_data"
    },
    {
     "data": {
      "text/plain": [
       "<Figure size 600x750 with 0 Axes>"
      ]
     },
     "metadata": {},
     "output_type": "display_data"
    },
    {
     "data": {
      "text/plain": [
       "<Figure size 640x480 with 0 Axes>"
      ]
     },
     "metadata": {},
     "output_type": "display_data"
    },
    {
     "data": {
      "text/plain": [
       "<Figure size 600x750 with 0 Axes>"
      ]
     },
     "metadata": {},
     "output_type": "display_data"
    },
    {
     "data": {
      "text/plain": [
       "<Figure size 640x480 with 0 Axes>"
      ]
     },
     "metadata": {},
     "output_type": "display_data"
    },
    {
     "data": {
      "text/plain": [
       "<Figure size 600x750 with 0 Axes>"
      ]
     },
     "metadata": {},
     "output_type": "display_data"
    },
    {
     "data": {
      "text/plain": [
       "<Figure size 640x480 with 0 Axes>"
      ]
     },
     "metadata": {},
     "output_type": "display_data"
    },
    {
     "data": {
      "text/plain": [
       "<Figure size 600x750 with 0 Axes>"
      ]
     },
     "metadata": {},
     "output_type": "display_data"
    },
    {
     "data": {
      "text/plain": [
       "<Figure size 640x480 with 0 Axes>"
      ]
     },
     "metadata": {},
     "output_type": "display_data"
    },
    {
     "data": {
      "text/plain": [
       "<Figure size 600x750 with 0 Axes>"
      ]
     },
     "metadata": {},
     "output_type": "display_data"
    },
    {
     "data": {
      "text/plain": [
       "<Figure size 640x480 with 0 Axes>"
      ]
     },
     "metadata": {},
     "output_type": "display_data"
    },
    {
     "data": {
      "text/plain": [
       "<Figure size 600x750 with 0 Axes>"
      ]
     },
     "metadata": {},
     "output_type": "display_data"
    },
    {
     "data": {
      "text/plain": [
       "<Figure size 640x480 with 0 Axes>"
      ]
     },
     "metadata": {},
     "output_type": "display_data"
    },
    {
     "data": {
      "text/plain": [
       "<Figure size 600x750 with 0 Axes>"
      ]
     },
     "metadata": {},
     "output_type": "display_data"
    },
    {
     "data": {
      "text/plain": [
       "<Figure size 640x480 with 0 Axes>"
      ]
     },
     "metadata": {},
     "output_type": "display_data"
    },
    {
     "data": {
      "text/plain": [
       "<Figure size 600x750 with 0 Axes>"
      ]
     },
     "metadata": {},
     "output_type": "display_data"
    },
    {
     "data": {
      "text/plain": [
       "<Figure size 640x480 with 0 Axes>"
      ]
     },
     "metadata": {},
     "output_type": "display_data"
    },
    {
     "data": {
      "text/plain": [
       "<Figure size 600x750 with 0 Axes>"
      ]
     },
     "metadata": {},
     "output_type": "display_data"
    },
    {
     "data": {
      "text/plain": [
       "<Figure size 640x480 with 0 Axes>"
      ]
     },
     "metadata": {},
     "output_type": "display_data"
    },
    {
     "data": {
      "text/plain": [
       "<Figure size 600x750 with 0 Axes>"
      ]
     },
     "metadata": {},
     "output_type": "display_data"
    },
    {
     "data": {
      "text/plain": [
       "<Figure size 640x480 with 0 Axes>"
      ]
     },
     "metadata": {},
     "output_type": "display_data"
    },
    {
     "data": {
      "text/plain": [
       "<Figure size 600x750 with 0 Axes>"
      ]
     },
     "metadata": {},
     "output_type": "display_data"
    },
    {
     "data": {
      "text/plain": [
       "<Figure size 640x480 with 0 Axes>"
      ]
     },
     "metadata": {},
     "output_type": "display_data"
    }
   ],
   "source": [
    "for column_name in column_names:\n",
    "    data_set = marker_genes_tissue_residency[column_name]\n",
    "    print(column_name)\n",
    "    module_score(adata, data_set, column_name)"
   ]
  },
  {
   "cell_type": "markdown",
   "metadata": {},
   "source": [
    "## GO Pathways"
   ]
  },
  {
   "cell_type": "code",
   "execution_count": 4,
   "metadata": {},
   "outputs": [],
   "source": [
    "pathways = {}"
   ]
  },
  {
   "cell_type": "code",
   "execution_count": 5,
   "metadata": {},
   "outputs": [
    {
     "name": "stdout",
     "output_type": "stream",
     "text": [
      "Cytokine_Activity_GO-0005125.txt\n",
      "Glucose_Metabolic_Process_GO-0006006.txt\n",
      "TCR_GO-0050862.txt\n",
      "Positive_Regulation_of_Oxidative_Phosophrylation_GO-1903862.txt\n",
      "NIK_NFkB_GO-0038061.txt\n",
      "PosRegT_GO-0050870.txt\n",
      "MAPK_GO-0051403.txt\n",
      "Glycolytics_Process_GO-0006096.txt\n",
      "TCR_GO-0050852.txt\n",
      "Oxidative_Phosphorlation_GO-0006119.txt\n"
     ]
    }
   ],
   "source": [
    "path = Path('../data/go_pathways/')\n",
    "\n",
    "for root, dirs, files in os.walk(path):\n",
    "    for file in files:\n",
    "        print(file)\n",
    "        with open(f'{path}/{file}') as f:\n",
    "            lines = f.readlines()\n",
    "            genes = [line.replace('\\n', '') for line in lines]\n",
    "        pathway = file.replace('_', ', ').split('.')[0]\n",
    "        pathways[pathway] = genes"
   ]
  },
  {
   "cell_type": "code",
   "execution_count": 8,
   "metadata": {
    "tags": []
   },
   "outputs": [
    {
     "name": "stdout",
     "output_type": "stream",
     "text": [
      "Cytokine, Activity, GO-0005125, Number of genes: 344\n",
      "WARNING: genes are not in var_names and ignored: ['GPR15LG', 'IFNL4', 'CCL4L1', 'interleukin-23_human', 'interleukin12_human']\n",
      "7.2021355768240285e-295\n",
      "Glucose, Metabolic, Process, GO-0006006, Number of genes: 171\n",
      "WARNING: genes are not in var_names and ignored: ['G6PC1', 'G6PC1', 'G6PC1', 'G6PC1']\n",
      "0.999999991285279\n",
      "TCR, GO-0050862, Number of genes: 24\n",
      "0.27345824163988824\n",
      "Positive, Regulation, of, Oxidative, Phosophrylation, GO-1903862, Number of genes: 11\n",
      "WARNING: genes are not in var_names and ignored: ['kcne2-kcnh2_human', 'gins_human']\n",
      "1.0\n",
      "NIK, NFkB, GO-0038061, Number of genes: 62\n",
      "WARNING: genes are not in var_names and ignored: ['URS00003B95DA_9606', 'URS000059311D_9606', 'URS0000315338_9606', 'URS0000209905_9606', 'URS00004C46CF_9606', 'URS000050B527_9606']\n",
      "0.9950556474066155\n",
      "PosRegT, GO-0050870, Number of genes: 402\n",
      "WARNING: genes are not in var_names and ignored: ['CLECL1P', 'HLA-DRB4', 'CYRIB', 'CYRIB', 'CYRIB', 'URS000039ED8D_9606', 'URS000039ED8D_9606', 'interleukin-23_human', 'interleukin-23_human', 'interleukin23-receptor_human', 'il12-receptor_human', 'il12-receptor_human', 'interleukin12_human', 'interleukin12_human', 'URS0000338542_9606', 'URS0000338542_9606', 'URS00005165DA_9606', 'HLA-DRB3', 'HLA-DRB3']\n",
      "9.200357171278113e-72\n",
      "MAPK, GO-0051403, Number of genes: 134\n",
      "1.64553486429491e-06\n",
      "Glycolytics, Process, GO-0006096, Number of genes: 104\n",
      "1.0\n",
      "TCR, GO-0050852, Number of genes: 138\n",
      "WARNING: genes are not in var_names and ignored: ['BTN2A3P', 'A0A0G2JPB7', 'LOC102723996', 'BTNL10P', 'cd8ab_human', 'HLA-DRB3']\n",
      "0.005551951008445057\n",
      "Oxidative, Phosphorlation, GO-0006119, Number of genes: 129\n",
      "WARNING: genes are not in var_names and ignored: ['COX7A2P2', 'UQCRFS1P1', 'TAFAZZIN', 'ATP5F1EP2', 'NDUFC2-KCTD14', 'kcne2-kcnh2_human', 'gins_human']\n",
      "1.0\n"
     ]
    },
    {
     "data": {
      "text/plain": [
       "<Figure size 600x750 with 0 Axes>"
      ]
     },
     "metadata": {},
     "output_type": "display_data"
    },
    {
     "data": {
      "text/plain": [
       "<Figure size 640x480 with 0 Axes>"
      ]
     },
     "metadata": {},
     "output_type": "display_data"
    },
    {
     "data": {
      "text/plain": [
       "<Figure size 600x750 with 0 Axes>"
      ]
     },
     "metadata": {},
     "output_type": "display_data"
    },
    {
     "data": {
      "text/plain": [
       "<Figure size 640x480 with 0 Axes>"
      ]
     },
     "metadata": {},
     "output_type": "display_data"
    },
    {
     "data": {
      "text/plain": [
       "<Figure size 600x750 with 0 Axes>"
      ]
     },
     "metadata": {},
     "output_type": "display_data"
    },
    {
     "data": {
      "text/plain": [
       "<Figure size 640x480 with 0 Axes>"
      ]
     },
     "metadata": {},
     "output_type": "display_data"
    },
    {
     "data": {
      "text/plain": [
       "<Figure size 600x750 with 0 Axes>"
      ]
     },
     "metadata": {},
     "output_type": "display_data"
    },
    {
     "data": {
      "text/plain": [
       "<Figure size 640x480 with 0 Axes>"
      ]
     },
     "metadata": {},
     "output_type": "display_data"
    },
    {
     "data": {
      "text/plain": [
       "<Figure size 600x750 with 0 Axes>"
      ]
     },
     "metadata": {},
     "output_type": "display_data"
    },
    {
     "data": {
      "text/plain": [
       "<Figure size 640x480 with 0 Axes>"
      ]
     },
     "metadata": {},
     "output_type": "display_data"
    },
    {
     "data": {
      "text/plain": [
       "<Figure size 600x750 with 0 Axes>"
      ]
     },
     "metadata": {},
     "output_type": "display_data"
    },
    {
     "data": {
      "text/plain": [
       "<Figure size 640x480 with 0 Axes>"
      ]
     },
     "metadata": {},
     "output_type": "display_data"
    },
    {
     "data": {
      "text/plain": [
       "<Figure size 600x750 with 0 Axes>"
      ]
     },
     "metadata": {},
     "output_type": "display_data"
    },
    {
     "data": {
      "text/plain": [
       "<Figure size 640x480 with 0 Axes>"
      ]
     },
     "metadata": {},
     "output_type": "display_data"
    },
    {
     "data": {
      "text/plain": [
       "<Figure size 600x750 with 0 Axes>"
      ]
     },
     "metadata": {},
     "output_type": "display_data"
    },
    {
     "data": {
      "text/plain": [
       "<Figure size 640x480 with 0 Axes>"
      ]
     },
     "metadata": {},
     "output_type": "display_data"
    },
    {
     "data": {
      "text/plain": [
       "<Figure size 600x750 with 0 Axes>"
      ]
     },
     "metadata": {},
     "output_type": "display_data"
    },
    {
     "data": {
      "text/plain": [
       "<Figure size 640x480 with 0 Axes>"
      ]
     },
     "metadata": {},
     "output_type": "display_data"
    },
    {
     "data": {
      "text/plain": [
       "<Figure size 600x750 with 0 Axes>"
      ]
     },
     "metadata": {},
     "output_type": "display_data"
    },
    {
     "data": {
      "text/plain": [
       "<Figure size 640x480 with 0 Axes>"
      ]
     },
     "metadata": {},
     "output_type": "display_data"
    }
   ],
   "source": [
    "for pathway in pathways:\n",
    "    data_set = pathways[pathway]\n",
    "    print(f'{pathway}, Number of genes: {len(data_set)}')\n",
    "    module_score(adata, data_set, pathway)"
   ]
  },
  {
   "cell_type": "code",
   "execution_count": 14,
   "metadata": {},
   "outputs": [
    {
     "data": {
      "text/html": [
       "<div>\n",
       "<style scoped>\n",
       "    .dataframe tbody tr th:only-of-type {\n",
       "        vertical-align: middle;\n",
       "    }\n",
       "\n",
       "    .dataframe tbody tr th {\n",
       "        vertical-align: top;\n",
       "    }\n",
       "\n",
       "    .dataframe thead th {\n",
       "        text-align: right;\n",
       "    }\n",
       "</style>\n",
       "<table border=\"1\" class=\"dataframe\">\n",
       "  <thead>\n",
       "    <tr style=\"text-align: right;\">\n",
       "      <th></th>\n",
       "      <th>Genes</th>\n",
       "      <th>ABCB6</th>\n",
       "      <th>ADORA2B</th>\n",
       "      <th>AGL</th>\n",
       "      <th>AGRN</th>\n",
       "      <th>AK3</th>\n",
       "      <th>AK4</th>\n",
       "      <th>AKR1A1</th>\n",
       "      <th>ALDH7A1</th>\n",
       "      <th>ALDH9A1</th>\n",
       "      <th>...</th>\n",
       "      <th>TPI1</th>\n",
       "      <th>TPST1</th>\n",
       "      <th>GFUS</th>\n",
       "      <th>TXN</th>\n",
       "      <th>UGP2</th>\n",
       "      <th>VCAN</th>\n",
       "      <th>VEGFA</th>\n",
       "      <th>VLDLR</th>\n",
       "      <th>XYLT2</th>\n",
       "      <th>ZNF292</th>\n",
       "    </tr>\n",
       "  </thead>\n",
       "  <tbody>\n",
       "  </tbody>\n",
       "</table>\n",
       "<p>0 rows × 201 columns</p>\n",
       "</div>"
      ],
      "text/plain": [
       "Empty DataFrame\n",
       "Columns: [Genes, ABCB6, ADORA2B, AGL, AGRN, AK3, AK4, AKR1A1, ALDH7A1, ALDH9A1, ALDOA, ALDOB, ALG1, ANG, ANGPTL4, ANKZF1, ARPP19, ARTN, AURKA, B3GALT6, B3GAT1, B3GAT3, B3GNT3, B4GALT1, B4GALT2, B4GALT4, B4GALT7, BIK, BPNT1, CACNA1H, CAPN5, CASP6, CD44, CDK1, CENPA, CHPF, CHPF2, CHST1, CHST12, CHST2, CHST4, CHST6, CITED2, CLDN3, CLDN9, CLN6, COG2, COL5A1, COPB2, CTH, CXCR4, CYB5A, DCN, DDIT4, DEPDC1, DLD, DPYSL4, DSC2, ECD, EFNA3, EGFR, EGLN3, ELF3, ENO1, ENO2, ERO1A, EXT1, EXT2, FAM162A, FBP2, FKBP4, FUT8, G6PD, GAL3ST1, GALE, GALK1, GALK2, GAPDHS, GCLC, GFPT1, GLCE, GLRX, GMPPA, GMPPB, GNE, GNPDA1, GOT1, GOT2, GPC1, GPC3, GPC4, GPR87, GUSB, GYS1, GYS2, HAX1, HDLBP, HK2, HMMR, HOMER1, ...]\n",
       "Index: []\n",
       "\n",
       "[0 rows x 201 columns]"
      ]
     },
     "execution_count": 14,
     "metadata": {},
     "output_type": "execute_result"
    }
   ],
   "source": [
    "hallmarks_glycolysis = pd.read_csv('../data/salt_data/HALLMARK_GLYCOLYSIS.tsv', sep = '\\t')\n",
    "hallmarks_glycolysis"
   ]
  },
  {
   "cell_type": "code",
   "execution_count": 18,
   "metadata": {},
   "outputs": [
    {
     "name": "stdout",
     "output_type": "stream",
     "text": [
      "WARNING: genes are not in var_names and ignored: ['Genes', '1,00\\xa0PGK', 'RARS1', 'GFUS']\n"
     ]
    },
    {
     "data": {
      "text/plain": [
       "<Figure size 600x750 with 0 Axes>"
      ]
     },
     "metadata": {},
     "output_type": "display_data"
    },
    {
     "data": {
      "text/plain": [
       "<Figure size 640x480 with 0 Axes>"
      ]
     },
     "metadata": {},
     "output_type": "display_data"
    }
   ],
   "source": [
    "module_score(adata, list(hallmarks_glycolysis.columns), 'HALLMARK_GLYCOLYSIS')"
   ]
  },
  {
   "cell_type": "code",
   "execution_count": 7,
   "metadata": {},
   "outputs": [],
   "source": [
    "exhaustion_list1 = pd.read_csv('../data/salt_data/exhaustion_list1.csv')\n",
    "exhaustion_list2 = pd.read_csv('../data/salt_data/exhaustion_list2.csv')"
   ]
  },
  {
   "cell_type": "code",
   "execution_count": 8,
   "metadata": {
    "tags": []
   },
   "outputs": [
    {
     "data": {
      "text/plain": [
       "<Figure size 600x750 with 0 Axes>"
      ]
     },
     "metadata": {},
     "output_type": "display_data"
    },
    {
     "data": {
      "text/plain": [
       "<Figure size 640x480 with 0 Axes>"
      ]
     },
     "metadata": {},
     "output_type": "display_data"
    },
    {
     "data": {
      "text/plain": [
       "<Figure size 600x750 with 0 Axes>"
      ]
     },
     "metadata": {},
     "output_type": "display_data"
    },
    {
     "data": {
      "text/plain": [
       "<Figure size 640x480 with 0 Axes>"
      ]
     },
     "metadata": {},
     "output_type": "display_data"
    }
   ],
   "source": [
    "module_score(adata, list(exhaustion_list1['genes']), 'exhaustion_list1')\n",
    "module_score(adata, list(exhaustion_list2['genes']), 'exhaustion_list2')"
   ]
  },
  {
   "cell_type": "code",
   "execution_count": 13,
   "metadata": {},
   "outputs": [],
   "source": [
    "eff_list1 = pd.read_csv('../data/salt_data/effector_list1.csv')\n",
    "eff_list2 = pd.read_csv('../data/salt_data/effector_list2.csv')"
   ]
  },
  {
   "cell_type": "code",
   "execution_count": 15,
   "metadata": {},
   "outputs": [
    {
     "data": {
      "text/plain": [
       "<Figure size 600x750 with 0 Axes>"
      ]
     },
     "metadata": {},
     "output_type": "display_data"
    },
    {
     "data": {
      "text/plain": [
       "<Figure size 640x480 with 0 Axes>"
      ]
     },
     "metadata": {},
     "output_type": "display_data"
    },
    {
     "data": {
      "text/plain": [
       "<Figure size 600x750 with 0 Axes>"
      ]
     },
     "metadata": {},
     "output_type": "display_data"
    },
    {
     "data": {
      "text/plain": [
       "<Figure size 640x480 with 0 Axes>"
      ]
     },
     "metadata": {},
     "output_type": "display_data"
    }
   ],
   "source": [
    "module_score(adata, list(eff_list1['genes']), f'Effector list1 {list(eff_list1[\"genes\"])}')\n",
    "module_score(adata, list(eff_list2['genes']), f'Effector list2 {list(eff_list2[\"genes\"])}')"
   ]
  }
 ],
 "metadata": {
  "kernelspec": {
   "display_name": "Python 3 (ipykernel)",
   "language": "python",
   "name": "python3"
  },
  "language_info": {
   "codemirror_mode": {
    "name": "ipython",
    "version": 3
   },
   "file_extension": ".py",
   "mimetype": "text/x-python",
   "name": "python",
   "nbconvert_exporter": "python",
   "pygments_lexer": "ipython3",
   "version": "3.9.13"
  }
 },
 "nbformat": 4,
 "nbformat_minor": 4
}
