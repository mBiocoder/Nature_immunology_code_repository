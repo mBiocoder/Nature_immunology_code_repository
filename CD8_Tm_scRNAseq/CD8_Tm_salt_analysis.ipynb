{
 "cells": [
  {
   "cell_type": "markdown",
   "metadata": {},
   "source": [
    "## scRNAseq CD8 Tm high salt and low salt preprocessing and analysis\n",
    "\n",
    "Author: Maha Alissa Alkhalaf\n",
    "\n",
    "Figures: Figure 3 (C-E), Figure 4 (M, O), Extended Data 10 (A, C-H)"
   ]
  },
  {
   "cell_type": "code",
   "execution_count": null,
   "metadata": {},
   "outputs": [],
   "source": [
    "import scanpy as sc\n",
    "import scrublet as scr\n",
    "import numpy as np\n",
    "import gseapy as gp\n",
    "import pandas as pd\n",
    "import seaborn as sns\n",
    "import scipy as sci\n",
    "import matplotlib.pyplot as plt\n",
    "import scipy.stats as stats\n",
    "import celltypist\n",
    "from pathlib import Path\n",
    "import os\n",
    "import re\n",
    "from statannot import add_stat_annotation"
   ]
  },
  {
   "cell_type": "markdown",
   "metadata": {
    "tags": []
   },
   "source": [
    "## Preprocessing"
   ]
  },
  {
   "cell_type": "code",
   "execution_count": null,
   "metadata": {},
   "outputs": [],
   "source": [
    "low_salt = sc.read_h5ad('../data/salt_data/low_salt.h5ad')\n",
    "high_salt = sc.read_h5ad('../data/salt_data/high_salt.h5ad')"
   ]
  },
  {
   "cell_type": "code",
   "execution_count": null,
   "metadata": {},
   "outputs": [],
   "source": [
    "low_salt.obs['Condition'] = 'low salt'\n",
    "high_salt.obs['Condition'] = 'high salt'"
   ]
  },
  {
   "cell_type": "code",
   "execution_count": null,
   "metadata": {},
   "outputs": [],
   "source": [
    "scrub = scr.Scrublet(high_salt.raw.X)\n",
    "high_salt.obs['doublet_scores'], high_salt.obs['predicted_doublets'] = scrub.scrub_doublets()"
   ]
  },
  {
   "cell_type": "code",
   "execution_count": null,
   "metadata": {
    "tags": []
   },
   "outputs": [],
   "source": [
    "scrub = scr.Scrublet(low_salt.raw.X)\n",
    "low_salt.obs['doublet_scores'], low_salt.obs['predicted_doublets'] = scrub.scrub_doublets()"
   ]
  },
  {
   "cell_type": "code",
   "execution_count": null,
   "metadata": {},
   "outputs": [],
   "source": [
    "low_salt = low_salt[low_salt.obs['predicted_doublets'] == False, :]\n",
    "high_salt = high_salt[high_salt.obs['predicted_doublets'] == False, :]"
   ]
  },
  {
   "cell_type": "code",
   "execution_count": null,
   "metadata": {},
   "outputs": [],
   "source": [
    "adata = sc.concat([low_salt, high_salt], label = 'dataset')\n",
    "adata"
   ]
  },
  {
   "cell_type": "code",
   "execution_count": null,
   "metadata": {},
   "outputs": [],
   "source": [
    "sc.pp.filter_cells(adata, min_genes = 200)"
   ]
  },
  {
   "cell_type": "code",
   "execution_count": null,
   "metadata": {},
   "outputs": [],
   "source": [
    "sc.pp.filter_genes(adata, min_cells = 3)\n",
    "adata"
   ]
  },
  {
   "cell_type": "code",
   "execution_count": null,
   "metadata": {},
   "outputs": [],
   "source": [
    "sc.pp.normalize_total(adata, target_sum = 1e4)\n",
    "sc.pp.log1p(adata)"
   ]
  },
  {
   "cell_type": "code",
   "execution_count": null,
   "metadata": {},
   "outputs": [],
   "source": [
    "adata.raw = adata"
   ]
  },
  {
   "cell_type": "code",
   "execution_count": null,
   "metadata": {},
   "outputs": [],
   "source": [
    "adata.X = np.nan_to_num(adata.X, nan = 0)"
   ]
  },
  {
   "cell_type": "code",
   "execution_count": null,
   "metadata": {},
   "outputs": [],
   "source": [
    "adata.write('../data/salt_data/high_and_low_salt.h5ad')"
   ]
  },
  {
   "cell_type": "markdown",
   "metadata": {},
   "source": [
    "## Module Score"
   ]
  },
  {
   "cell_type": "code",
   "execution_count": null,
   "metadata": {},
   "outputs": [],
   "source": [
    "adata = sc.read_h5ad('../data/salt_data/high_and_low_salt.h5ad')"
   ]
  },
  {
   "cell_type": "code",
   "execution_count": null,
   "metadata": {},
   "outputs": [],
   "source": [
    "def print_boxplot_stats(data, label):\n",
    "    minimum = np.min(data)\n",
    "    maximum = np.max(data)\n",
    "    q1 = np.percentile(data, 25)\n",
    "    median = np.median(data)\n",
    "    q3 = np.percentile(data, 75)\n",
    "    iqr = q3 - q1\n",
    "    lower_whisker = np.max([minimum, q1 - 1.5 * iqr])\n",
    "    upper_whisker = np.min([maximum, q3 + 1.5 * iqr])\n",
    "\n",
    "    return {'min': minimum, \n",
    "           'max': maximum, \n",
    "           'q1': q1,\n",
    "           'median': median,\n",
    "           'q3': q3,\n",
    "           'lower_whisker': lower_whisker,\n",
    "           'upper_whisker': upper_whisker}\n",
    "    \n",
    "def gene_expression(adata, gene, conditions, condition, figure, df):\n",
    "    plt.figure(figsize = (2, 2.5), dpi = 300)\n",
    "\n",
    "    gene_index = np.where(adata.var.index == gene)[0][0]\n",
    "    high_salt = np.array(adata.X[adata.obs[condition] == conditions[0], adata.var_names == gene]).flatten()\n",
    "    low_salt = np.array(adata.X[adata.obs[condition] == conditions[1], adata.var_names == gene]).flatten()\n",
    "    \n",
    "    dict_high = print_boxplot_stats(high_salt, \"high\")\n",
    "    dict_low = print_boxplot_stats(low_salt, \"low\")\n",
    "    \n",
    "    dict_high['figure'] = figure\n",
    "    dict_low['figure'] = figure\n",
    "    \n",
    "    dict_high['n'] = high_salt.shape[0]\n",
    "    dict_low['n'] = low_salt.shape[0]\n",
    "    \n",
    "    dict_high['type'] = 'High NaCl'\n",
    "    dict_low['type'] = 'Low NaCl'\n",
    "    \n",
    "    dict_high['statistical_test'] = 'one-sided'\n",
    "    dict_low['statistical_test'] = 'one-sided'\n",
    "\n",
    "    df = pd.concat([df, pd.DataFrame([dict_high]), pd.DataFrame([dict_low])], ignore_index=True)\n",
    "\n",
    "    alternatives = ['greater', 'less']\n",
    "    p_values = []\n",
    "    for alternative in alternatives:\n",
    "        _ , p = stats.ranksums(high_salt, low_salt, alternative = alternative)\n",
    "        p_values.append(p)\n",
    "    p_values = [f'{i[0]} : {i[1]:.4e}' for i in list(zip(alternatives, p_values))]\n",
    "\n",
    "    colors = ['#ffa37b', '#A7C7E7']\n",
    "    customPalette = sns.set_palette(sns.color_palette(colors))\n",
    "\n",
    "    ax = sns.violinplot(data = [high_salt, low_salt], saturation = 0.9, width = 0.9, palette = customPalette, linewidth = 0.3, kws = {'linecolor' : 'black'})\n",
    "    for i, c in enumerate(ax.collections):\n",
    "        ax.collections[i].set_edgecolor('black')\n",
    "\n",
    "    sns.boxplot(data = [high_salt, low_salt], width = 0.4,\n",
    "                boxprops = {'zorder': 2, 'edgecolor' : 'black'},\n",
    "                capprops = {'color' : 'black'},\n",
    "                whiskerprops = {'color' : 'black'},\n",
    "                medianprops = {'color' : 'black'},\n",
    "                showfliers = False,\n",
    "                linewidth = 0.3,\n",
    "                ax = ax)\n",
    "\n",
    "    sns.stripplot(data = [high_salt, low_salt], color = 'black', ax = ax, size = 0.4)\n",
    "\n",
    "    ax.set_ylabel(f'Log-scaled expression value', fontsize = 4)\n",
    "\n",
    "    ax.set_yticklabels(ax.get_yticks(), size = 4);\n",
    "    ax.set_xticklabels(ax.get_xticklabels(), size = 4);\n",
    "\n",
    "    labels = [item.get_text() for item in ax.get_yticklabels()]\n",
    "\n",
    "    ax.set_xticklabels([conditions[0], conditions[1]])\n",
    "    ax.set_yticklabels([str(round(float(label), 2)) for label in labels])\n",
    "\n",
    "    ax.set_title(f'Gene: {gene}\\nWilcoxon rank sum, p-values:\\n {\", \".join(p_values)}', fontsize = 4)\n",
    "    sns.despine()\n",
    "    plt.savefig(f'../figures/violin_plot_expression_values_of_{gene}_in_{conditions}.pdf', dpi = 300, bbox_inches = 'tight')\n",
    "    plt.show()\n",
    "    plt.clf()\n",
    "    return df"
   ]
  },
  {
   "cell_type": "markdown",
   "metadata": {
    "tags": []
   },
   "source": [
    "## CD8 tm scRNA-seq salt data"
   ]
  },
  {
   "cell_type": "code",
   "execution_count": null,
   "metadata": {},
   "outputs": [],
   "source": [
    "df = pd.read_csv('MAA_figures_info.csv')\n",
    "df"
   ]
  },
  {
   "cell_type": "code",
   "execution_count": null,
   "metadata": {},
   "outputs": [],
   "source": [
    "df = gene_expression(adata, 'SLC7A5', ['high salt', 'low salt'], 'Condition', '4m', df) "
   ]
  },
  {
   "cell_type": "code",
   "execution_count": null,
   "metadata": {},
   "outputs": [],
   "source": [
    "df = gene_expression(adata, 'FABP5', ['high salt', 'low salt'], 'Condition', '4o', df) "
   ]
  },
  {
   "cell_type": "code",
   "execution_count": null,
   "metadata": {},
   "outputs": [],
   "source": [
    "df  = gene_expression(adata, 'ICOS', ['high salt', 'low salt'], 'Condition', 'Supplementary Figure 10a (1)', df) "
   ]
  },
  {
   "cell_type": "code",
   "execution_count": null,
   "metadata": {},
   "outputs": [],
   "source": [
    "df = gene_expression(adata, 'ITGAE', ['high salt', 'low salt'], 'Condition', 'Supplementary Figure 10a (2)', df) "
   ]
  },
  {
   "cell_type": "code",
   "execution_count": null,
   "metadata": {},
   "outputs": [],
   "source": [
    "df = gene_expression(adata, 'PDCD1', ['high salt', 'low salt'], 'Condition', 'Supplementary Figure 10a (3)', df) "
   ]
  },
  {
   "cell_type": "markdown",
   "metadata": {},
   "source": [
    "## Module score for gene sets"
   ]
  },
  {
   "cell_type": "code",
   "execution_count": null,
   "metadata": {},
   "outputs": [],
   "source": [
    "df = pd.read_csv('MAA_figures_info.csv')\n",
    "df"
   ]
  },
  {
   "cell_type": "code",
   "execution_count": null,
   "metadata": {},
   "outputs": [],
   "source": [
    "def gen_text(row):\n",
    "    print(f\"{row['figure']}: One-tailed wilcoxon rank sum test. {row['type']}: min={row['min']}, q1={row['q1']}, median={row['median']}, q3={row['q3']}, max={row['max']}, lower whisker={row['lower_whisker']}, upper whisker={row['upper_whisker']}\")"
   ]
  },
  {
   "cell_type": "code",
   "execution_count": null,
   "metadata": {},
   "outputs": [],
   "source": [
    "marker_genes_tissue_residency = {}\n",
    "column_names = []\n",
    "\n",
    "for i in [15, 13, 11, 19, 21, 1, 9]:\n",
    "    trm = pd.read_excel('../data/gene_sets/TRM_Signatures.xlsx', i)\n",
    "    column_name = trm.columns[0]\n",
    "    column_names.append(column_name)\n",
    "    marker_genes_tissue_residency[column_name] = list(trm[column_name])[1:]"
   ]
  },
  {
   "cell_type": "code",
   "execution_count": null,
   "metadata": {},
   "outputs": [],
   "source": [
    "def module_score(adata, data_set, data_set_name, figure, df):\n",
    "\n",
    "    sc.tl.score_genes(adata, data_set)\n",
    "\n",
    "    low_salt = np.array(adata.obs[adata.obs.Condition == 'low salt']['score'])\n",
    "    high_salt = np.array(adata.obs[adata.obs.Condition == 'high salt']['score'])\n",
    "\n",
    "    plt.figure(figsize = (2, 2.5), dpi = 300)\n",
    "    alternative = 'greater'\n",
    "\n",
    "    dict_high = print_boxplot_stats(high_salt, \"high\")\n",
    "    dict_low = print_boxplot_stats(low_salt, \"low\")\n",
    "    \n",
    "    dict_high['figure'] = figure\n",
    "    dict_low['figure'] = figure\n",
    "    \n",
    "    dict_high['n'] = high_salt.shape[0]\n",
    "    dict_low['n'] = low_salt.shape[0]\n",
    "    \n",
    "    dict_high['type'] = 'High NaCl'\n",
    "    dict_low['type'] = 'Low NaCl'\n",
    "    \n",
    "    dict_high['statistical_test'] = 'one-sided'\n",
    "    dict_low['statistical_test'] = 'one-sided'\n",
    "\n",
    "    df = pd.concat([df, pd.DataFrame([dict_high]), pd.DataFrame([dict_low])], ignore_index=True)\n",
    "\n",
    "    alternatives = ['two-sided', 'greater', 'less']\n",
    "    \n",
    "    p_values = []\n",
    "    for alternative in alternatives:\n",
    "        _ , p = stats.ranksums(high_salt, low_salt, alternative = alternative)\n",
    "        p_values.append(p)\n",
    "    p_values = [f'{i[0]} : {i[1]:.4e}' for i in list(zip(alternatives, p_values))]\n",
    "    print(f'p-values:\\n {\", \".join(p_values)}')\n",
    "\n",
    "    colors = ['#ffa37b', '#A7C7E7']\n",
    "    customPalette = sns.set_palette(sns.color_palette(colors))\n",
    "\n",
    "    ax = sns.violinplot(data = [high_salt, low_salt], saturation = 0.9, width = 0.9, palette = customPalette, linewidth = 0.3, kws = {'linecolor' : 'black'})\n",
    "    for i, c in enumerate(ax.collections):\n",
    "        ax.collections[i].set_edgecolor('black')\n",
    "\n",
    "    sns.boxplot(data = [high_salt, low_salt], width = 0.4,\n",
    "                boxprops = {'zorder': 2, 'edgecolor' : 'black'},\n",
    "                capprops = {'color' : 'black'},\n",
    "                whiskerprops = {'color' : 'black'},\n",
    "                medianprops = {'color' : 'black'},\n",
    "                showfliers = False,\n",
    "                linewidth = 0.3,\n",
    "                ax = ax)\n",
    "\n",
    "    sns.stripplot(data = [high_salt, low_salt], color = 'black', ax = ax, size = 0.4)\n",
    "\n",
    "    ax.set_ylabel(f'Module score', fontsize = 4)\n",
    "\n",
    "    ax.set_yticklabels(ax.get_yticks(), size = 4);\n",
    "    ax.set_xticklabels(ax.get_xticklabels(), size = 4);\n",
    "\n",
    "    labels = [item.get_text() for item in ax.get_yticklabels()]\n",
    "\n",
    "    ax.set_xticklabels(['High salt', 'Low salt'])\n",
    "    ax.set_yticklabels([str(round(float(label), 2)) for label in labels])\n",
    "\n",
    "    ax.set_title(f'{data_set_name}\\nWilcoxon rank sum, p-values:\\n {\", \".join(p_values)}', fontsize=4)\n",
    "    sns.despine()\n",
    "    plt.savefig(f'../figures/violin_plot_module_score_of_{data_set_name}_genes_in_high_vs_low_salt.pdf', dpi = 300, bbox_inches = 'tight')\n",
    "    plt.show()\n",
    "    plt.clf()\n",
    "    return df"
   ]
  },
  {
   "cell_type": "code",
   "execution_count": null,
   "metadata": {
    "tags": []
   },
   "outputs": [],
   "source": [
    "cyto1 = pd.read_csv('../data/gene_sets/cyto_list1.csv')\n",
    "cyto1"
   ]
  },
  {
   "cell_type": "code",
   "execution_count": null,
   "metadata": {},
   "outputs": [],
   "source": [
    "df = module_score(adata, cyto1['genes'], 'Cyto_list1 GO:0001916', '3e', df)"
   ]
  },
  {
   "cell_type": "code",
   "execution_count": null,
   "metadata": {},
   "outputs": [],
   "source": [
    "tissure_residency_gustavo = ['XIST', 'UBC', 'LGALS3', 'MT-CO2', 'VIM', 'ANKRD28', 'RGS1', 'RGCC', 'HSPA1B', 'MT-ND4', 'HSP90Ab1', 'PPP1R15A']"
   ]
  },
  {
   "cell_type": "code",
   "execution_count": null,
   "metadata": {},
   "outputs": [],
   "source": [
    "df  = module_score(adata, tissure_residency_gustavo, 'Tissue residency markers in host vs. donor CD8+ T cells', 'Extended data 10c', df)"
   ]
  },
  {
   "cell_type": "code",
   "execution_count": null,
   "metadata": {
    "scrolled": true,
    "tags": []
   },
   "outputs": [],
   "source": [
    "figures_names = ['Supplementary Figure 10d (1)', 'Supplementary Figure 10d (2)', 'Supplementary Figure 10d (3)', 'Supplementary Figure 10e (1)', 'Supplementary Figure 10e (2)', 'Supplementary Figure 10f', 'Supplementary Figure 10g']\n",
    "for column_name, f in zip(column_names, figures_names):\n",
    "    data_set = marker_genes_tissue_residency[column_name]\n",
    "    df = module_score(adata, data_set, column_name, f, df)"
   ]
  },
  {
   "cell_type": "markdown",
   "metadata": {},
   "source": [
    "## GO Pathways"
   ]
  },
  {
   "cell_type": "code",
   "execution_count": null,
   "metadata": {
    "tags": []
   },
   "outputs": [],
   "source": [
    "path = Path('../data/gene_sets/')\n",
    "\n",
    "pathways = {}\n",
    "for root, dirs, files in os.walk(path):\n",
    "    for file in files:\n",
    "        if not 'GO-0005125' in str(file): continue\n",
    "        print(file)\n",
    "        with open(f'{path}/{file}') as f:\n",
    "            lines = f.readlines()\n",
    "            genes = [line.replace('\\n', '') for line in lines]\n",
    "        pathway = file.replace('_', ', ').split('.')[0]\n",
    "        pathways[pathway] = genes"
   ]
  },
  {
   "cell_type": "code",
   "execution_count": null,
   "metadata": {
    "tags": []
   },
   "outputs": [],
   "source": [
    "for pathway in pathways:\n",
    "    data_set = pathways[pathway]\n",
    "    print(f'{pathway}, Number of genes: {len(data_set)}')\n",
    "    df = module_score(adata, data_set, pathway, '3d', df)"
   ]
  },
  {
   "cell_type": "code",
   "execution_count": null,
   "metadata": {
    "tags": []
   },
   "outputs": [],
   "source": [
    "exhaustion_list1 = pd.read_csv('../data/gene_sets/exhaustion_list1.csv')\n",
    "exhaustion_list2 = pd.read_csv('../data/gene_sets/exhaustion_list2.csv')"
   ]
  },
  {
   "cell_type": "code",
   "execution_count": null,
   "metadata": {
    "tags": []
   },
   "outputs": [],
   "source": [
    "df = module_score(adata, list(exhaustion_list1['genes']), 'exhaustion_list1', 'Supplementary Figure 10h (1)', df)\n",
    "df = module_score(adata, list(exhaustion_list2['genes']), 'exhaustion_list2', 'Supplementary Figure 10h (2)', df)"
   ]
  },
  {
   "cell_type": "code",
   "execution_count": null,
   "metadata": {},
   "outputs": [],
   "source": [
    "eff_list2 = pd.read_csv('../data/gene_sets/effector_list2.csv')"
   ]
  },
  {
   "cell_type": "code",
   "execution_count": null,
   "metadata": {},
   "outputs": [],
   "source": [
    "df = module_score(adata, list(eff_list2['genes']), f'Effector list2 {list(eff_list2[\"genes\"])}', '3c', df)"
   ]
  },
  {
   "cell_type": "code",
   "execution_count": null,
   "metadata": {},
   "outputs": [],
   "source": [
    "df.to_csv('MAA_figures_info.csv', index=False)"
   ]
  }
 ],
 "metadata": {
  "citation-manager": {
   "items": {}
  },
  "kernelspec": {
   "display_name": "leibniz",
   "language": "python",
   "name": "python3"
  },
  "language_info": {
   "codemirror_mode": {
    "name": "ipython",
    "version": 3
   },
   "file_extension": ".py",
   "mimetype": "text/x-python",
   "name": "python",
   "nbconvert_exporter": "python",
   "pygments_lexer": "ipython3",
   "version": "3.9.13"
  }
 },
 "nbformat": 4,
 "nbformat_minor": 4
}
