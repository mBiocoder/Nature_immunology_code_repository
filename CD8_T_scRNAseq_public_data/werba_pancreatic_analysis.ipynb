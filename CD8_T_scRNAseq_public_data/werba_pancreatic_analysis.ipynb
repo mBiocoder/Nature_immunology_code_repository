{
 "cells": [
  {
   "cell_type": "markdown",
   "id": "54027ad6-72f2-42c2-a600-b3ef39dc2368",
   "metadata": {},
   "source": [
    "## scRNAseq CD8 Tm in pancreatic cancer preprocessing and analysis\n",
    "\n",
    "Author: Maha Alissa Alkhalaf\n",
    "\n",
    "Figures: Figure 6 (G), Extended Data 21"
   ]
  },
  {
   "cell_type": "code",
   "execution_count": null,
   "id": "c86c9b26-7217-4ae6-b51b-9c92a4131f5f",
   "metadata": {
    "tags": []
   },
   "outputs": [],
   "source": [
    "import scanpy as sc\n",
    "import pandas as pd\n",
    "import numpy as np\n",
    "import seaborn as sns\n",
    "import matplotlib.pyplot as plt\n",
    "import scipy.stats as stats\n",
    "import celltypist\n",
    "import scrublet as scr\n",
    "import anndata as ad\n",
    "from scipy.io import mmread"
   ]
  },
  {
   "cell_type": "markdown",
   "id": "ed457d6c-7472-44ec-a7e2-5e8248f20b99",
   "metadata": {
    "tags": []
   },
   "source": [
    "## Data Collection"
   ]
  },
  {
   "cell_type": "code",
   "execution_count": null,
   "id": "412841ff-f9d0-476a-8d45-cb5f0aef7e1f",
   "metadata": {},
   "outputs": [],
   "source": [
    "path = '../data/Werba_GSE205013/'"
   ]
  },
  {
   "cell_type": "code",
   "execution_count": null,
   "id": "bbb8ed43",
   "metadata": {
    "tags": []
   },
   "outputs": [],
   "source": [
    "import os\n",
    "import pandas as pd\n",
    "import scanpy as sc\n",
    "from scipy.io import mmread\n",
    "from tqdm import tqdm\n",
    "\n",
    "path = '../data/Werba_GSE205013/'\n",
    "\n",
    "# Create a list to store the file paths\n",
    "file_list = [\n",
    "    \"GSM6204109_P01\",\n",
    "    \"GSM6204110_P02\",\n",
    "    \"GSM6204111_P03\",\n",
    "    \"GSM6204112_P04\",\n",
    "    \"GSM6204113_P05\",\n",
    "    \"GSM6204114_P06\",\n",
    "    \"GSM6204115_P07\",\n",
    "    \"GSM6204116_P08\",\n",
    "    \"GSM6204117_P09\",\n",
    "    \"GSM6204118_P10\",\n",
    "    \"GSM6204119_P11\",\n",
    "    \"GSM6204120_P12\",\n",
    "    \"GSM6204121_P13\",\n",
    "    \"GSM6204122_P14\",\n",
    "    \"GSM6204123_P15\",\n",
    "    \"GSM6204124_P16\",\n",
    "    \"GSM6204125_P17\",\n",
    "    \"GSM6204126_P18\",\n",
    "    \"GSM6204127_P19\",\n",
    "    \"GSM6204128_P20\",\n",
    "    \"GSM6204129_P21\",\n",
    "    \"GSM6204130_P22\",\n",
    "    \"GSM6204131_P23\",\n",
    "    \"GSM6204132_P24\",\n",
    "    \"GSM6204133_P25\",\n",
    "    \"GSM6204134_P26\",\n",
    "    \"GSM6204135_P27\"\n",
    "]\n",
    "\n",
    "# Initialize a Scanpy AnnData object\n",
    "adata = {}\n",
    "\n",
    "for file_prefix in tqdm(file_list):\n",
    "   # Read barcode file\n",
    "    barcode_file = file_prefix + \"_barcodes.tsv.gz\"\n",
    "    barcode_path = os.path.join(path, barcode_file)\n",
    "    barcodes = pd.read_csv(barcode_path, sep='\\t', index_col=0, header=None)\n",
    "    \n",
    "    # Read feature file\n",
    "    feature_file = file_prefix + \"_features.tsv.gz\"\n",
    "    feature_path = os.path.join(path, feature_file)\n",
    "    features = pd.read_csv(feature_path, sep='\\t', index_col=0, header=None)\n",
    "    features = list(features[1])\n",
    "    \n",
    "    # Read matrix file\n",
    "    matrix_file = file_prefix + \"_matrix.mtx.gz\"\n",
    "    matrix_path = os.path.join(path, matrix_file)\n",
    "    matrix = mmread(matrix_path).T  # Transpose to match scanpy's convention\n",
    "\n",
    "    adata[file_prefix[10:]] = sc.AnnData(X=matrix, obs=barcodes, var=features)"
   ]
  },
  {
   "cell_type": "code",
   "execution_count": null,
   "id": "083ba881-0683-4e46-83d2-df2ce4193ee7",
   "metadata": {},
   "outputs": [],
   "source": [
    "adata"
   ]
  },
  {
   "cell_type": "code",
   "execution_count": null,
   "id": "b25b905d-f5ae-4ec1-9fe6-13b85312b264",
   "metadata": {},
   "outputs": [],
   "source": [
    "concatenated_adata = ad.concat(adata, label = 'dataset')"
   ]
  },
  {
   "cell_type": "code",
   "execution_count": null,
   "id": "52fc0880-5dc8-4d64-aaac-2ef226429b54",
   "metadata": {},
   "outputs": [],
   "source": [
    "concatenated_adata"
   ]
  },
  {
   "cell_type": "code",
   "execution_count": null,
   "id": "e13583bd-9507-40ee-80f5-3ac9aa358ff9",
   "metadata": {},
   "outputs": [],
   "source": [
    "concatenated_adata.var_names = features"
   ]
  },
  {
   "cell_type": "code",
   "execution_count": null,
   "id": "0450a976-282b-4b49-ad4c-970d42704f7b",
   "metadata": {},
   "outputs": [],
   "source": [
    "concatenated_adata.obs.index = concatenated_adata.obs.index.astype(str)"
   ]
  },
  {
   "cell_type": "code",
   "execution_count": null,
   "id": "567eac80-af9d-4c78-97c9-9b02ca43d629",
   "metadata": {},
   "outputs": [],
   "source": [
    "concatenated_adata.obs.index.name = None\n",
    "concatenated_adata.obs = concatenated_adata.obs.rename(index={0: 'barcode'})"
   ]
  },
  {
   "cell_type": "code",
   "execution_count": null,
   "id": "17a4690e-7172-452b-a4d0-1ab10858c78d",
   "metadata": {},
   "outputs": [],
   "source": [
    "concatenated_adata.var_names"
   ]
  },
  {
   "cell_type": "code",
   "execution_count": null,
   "id": "8b206b82-c1f4-4c82-89ca-887af12eb46f",
   "metadata": {},
   "outputs": [],
   "source": [
    "concatenated_adata.var['gene'] = concatenated_adata.var_names.values"
   ]
  },
  {
   "cell_type": "code",
   "execution_count": null,
   "id": "60e015bb-b2c1-4b72-a47b-a7777ba41221",
   "metadata": {
    "tags": []
   },
   "outputs": [],
   "source": [
    "concatenated_adata.write(f'{path}concatenated_werba.h5ad')"
   ]
  },
  {
   "cell_type": "code",
   "execution_count": null,
   "id": "43b5fdcd-f7b5-4906-9b7c-2d6cdd06edb5",
   "metadata": {},
   "outputs": [],
   "source": [
    "adata = sc.read_h5ad(f'{path}concatenated_werba.h5ad')"
   ]
  },
  {
   "cell_type": "code",
   "execution_count": null,
   "id": "16fd100d-4712-4683-a58f-1fad87f20fc0",
   "metadata": {},
   "outputs": [],
   "source": [
    "adata.X = np.nan_to_num(adata.X, nan = 0)"
   ]
  },
  {
   "cell_type": "code",
   "execution_count": null,
   "id": "5ce793d8-b331-4f30-858f-b7c43706d453",
   "metadata": {},
   "outputs": [],
   "source": [
    "sc.pp.filter_cells(adata, min_genes=200) "
   ]
  },
  {
   "cell_type": "code",
   "execution_count": null,
   "id": "3dc979f1-c0c1-452f-b0ca-4d316c1a990a",
   "metadata": {
    "tags": []
   },
   "outputs": [],
   "source": [
    "sc.pp.normalize_per_cell(adata, counts_per_cell_after=1e6)\n",
    "sc.pp.log1p(adata)"
   ]
  },
  {
   "cell_type": "code",
   "execution_count": null,
   "id": "5b36f4a4-280d-4102-9502-f610f3dd7ac8",
   "metadata": {},
   "outputs": [],
   "source": [
    "adata"
   ]
  },
  {
   "cell_type": "code",
   "execution_count": null,
   "id": "0e2f2e34-98b0-4a96-9a1e-ede63ecd537b",
   "metadata": {},
   "outputs": [],
   "source": [
    "scrub = scr.Scrublet(adata.X)\n",
    "adata.obs['doublet_scores'], adata.obs['predicted_doublets'] = scrub.scrub_doublets()\n",
    "scrub.plot_histogram()\n",
    "print(f'Number of predicted doublet is: {sum(adata.obs[\"predicted_doublets\"])}')"
   ]
  },
  {
   "cell_type": "code",
   "execution_count": null,
   "id": "06891a94-87bc-4965-99eb-03cb6185c6ad",
   "metadata": {},
   "outputs": [],
   "source": [
    "# also revert back to the raw counts as the main matrix in adata\n",
    "#adata = adata.raw.to_adata() \n",
    "\n",
    "adata = adata[adata.obs['predicted_doublets'] == False, :]\n",
    "\n",
    "print(f'Remaining cells {adata.shape[0]}.')\n",
    "print(f'Remaining genes {adata.shape[1]}.')"
   ]
  },
  {
   "cell_type": "code",
   "execution_count": null,
   "id": "4ffacd61-c06b-49ae-ab5e-875bc262d24e",
   "metadata": {},
   "outputs": [],
   "source": [
    "adata.write(f'{path}preprocessed_werba.h5ad')"
   ]
  },
  {
   "cell_type": "code",
   "execution_count": null,
   "id": "ee4e273a-de9b-44c6-b0a1-9b2b689d68a9",
   "metadata": {},
   "outputs": [],
   "source": [
    "adata = sc.read_h5ad(f'{path}preprocessed_werba.h5ad')\n",
    "adata"
   ]
  },
  {
   "cell_type": "code",
   "execution_count": null,
   "id": "70516482-7e35-44b4-b9bb-b97c660afc84",
   "metadata": {},
   "outputs": [],
   "source": [
    "adata.var_names = features"
   ]
  },
  {
   "cell_type": "code",
   "execution_count": null,
   "id": "2b5266df-b40b-4a64-a040-ad1e043a9e2f",
   "metadata": {},
   "outputs": [],
   "source": [
    "adata.X = np.nan_to_num(adata.X, nan = 0)"
   ]
  },
  {
   "cell_type": "code",
   "execution_count": null,
   "id": "7fed783c-9c99-4632-b587-2dadcdc2184e",
   "metadata": {
    "tags": []
   },
   "outputs": [],
   "source": [
    "# compute variable genes\n",
    "sc.pp.highly_variable_genes(adata, min_mean = 0.0125, max_mean = 3, min_disp = 0.5)\n",
    "print(f'Highly variable genes: {sum(adata.var.highly_variable)}')\n",
    "\n",
    "#plot variable genes\n",
    "sc.pl.highly_variable_genes(adata)\n",
    "\n",
    "# subset for variable genes in the dataset\n",
    "adata = adata[:, adata.var['highly_variable']]"
   ]
  },
  {
   "cell_type": "code",
   "execution_count": null,
   "id": "ac69cf8f-67c4-4b35-bc6d-07c480124d8f",
   "metadata": {},
   "outputs": [],
   "source": [
    "sc.pp.highly_variable_genes(adata)\n",
    "sc.pp.pca(adata, n_comps = 30, use_highly_variable = True, svd_solver = 'arpack')\n",
    "sc.pp.neighbors(adata, n_neighbors = 20)"
   ]
  },
  {
   "cell_type": "code",
   "execution_count": null,
   "id": "eaecd3f8-202c-4334-80cc-5f4c8df3c930",
   "metadata": {},
   "outputs": [],
   "source": [
    "sns.histplot(adata.X[:, adata.var_names == 'CD3E'].toarray().flatten())\n",
    "sns.histplot(adata.X[:, adata.var_names == 'CD8A'].toarray().flatten())\n",
    "sns.histplot(adata.X[:, adata.var_names == 'CD8B'].toarray().flatten())\n",
    "\n",
    "plt.yscale('log')"
   ]
  },
  {
   "cell_type": "code",
   "execution_count": null,
   "id": "b970dd25-e8d9-459d-8930-363e756f92b0",
   "metadata": {
    "tags": []
   },
   "outputs": [],
   "source": [
    "adata.obs['cell_type'] = 'unknown'\n",
    "adata.obs[(adata.X[:, adata.var_names == 'CD3E'].toarray().flatten() > 0) & (adata.X[:, adata.var_names == 'CD8A'].toarray().flatten() > 0) & (adata.X[:, adata.var_names == 'CD8B'].toarray().flatten() > 0), -1] = 'CD8 T cells'"
   ]
  },
  {
   "cell_type": "code",
   "execution_count": null,
   "id": "8e45e747-8f85-4b96-aeee-718563a53ae4",
   "metadata": {},
   "outputs": [],
   "source": [
    "adata_cd8 = adata[(adata.X[:, adata.var_names == 'CD3E'].toarray().flatten() > 0) & (adata.X[:, adata.var_names == 'CD8A'].toarray().flatten() > 0) & (adata.X[:, adata.var_names == 'CD8B'].toarray().flatten() > 0), :]"
   ]
  },
  {
   "cell_type": "code",
   "execution_count": null,
   "id": "5cf65cee-3b0d-4281-9026-74b79b28d0d2",
   "metadata": {},
   "outputs": [],
   "source": [
    "adata_cd8.obs['cell_type'] = 'cd8_t_cells'"
   ]
  },
  {
   "cell_type": "code",
   "execution_count": null,
   "id": "073c95bf-89c1-47e1-b77f-56ccc71a1ff8",
   "metadata": {},
   "outputs": [],
   "source": [
    "adata_cd8"
   ]
  },
  {
   "cell_type": "code",
   "execution_count": null,
   "id": "d0ec3a3c-f755-4f0e-824e-4e396be7bf34",
   "metadata": {},
   "outputs": [],
   "source": [
    "markers = {'CD8+ T Cells' : ['CD8A', 'CD8B', 'TRBC2', 'CD3D', 'CD3G', 'CD3E', 'IL7R', 'GZMK', 'LTB', 'LEF1'], 'B Cells' : ['PXK', 'CD19', 'MS4A1', 'CD74', 'CD79A', 'IGHD'], 'NK Cells' : ['KLRD1', 'NKG7', 'GNLY', 'STYK1', 'GZMA', 'GZMB'], 'DC' : ['FCER1A', 'CST3', 'ZBTB46', 'ITGAX', 'CX3CR1', 'ITGAM'], 'Macrophages' : ['ID1', 'FAR2', 'IFITM1', 'NFIL3', 'NPL', 'OTUB2'], 'Monocytes' : ['LYZ', 'CFP', 'APOBEC3A', 'CD7', 'TET2'], 'NKT' : ['IL2RB', 'NCAM1', 'CD44', 'IL12RB2', 'CXCR4'], 'Plasma' : ['MZB1', 'SSR4', 'IGHG1']}\n",
    "sc.pl.dotplot(adata, markers, groupby = 'celltype_minor', dendrogram = True, show = False)\n",
    "\n",
    "plt.savefig('../figures/WU__before_filtering_marker_genes_CD8+_T_cells.pdf', dpi = 300, bbox_inches = 'tight')"
   ]
  },
  {
   "cell_type": "code",
   "execution_count": null,
   "id": "bcd6f7a3-cbaa-4437-ace0-6346ff4c2747",
   "metadata": {},
   "outputs": [],
   "source": [
    "adata_cd8 = adata[adata.obs['celltype_minor'] == 'T cells CD8+']\n",
    "adata_cd8"
   ]
  },
  {
   "cell_type": "code",
   "execution_count": null,
   "id": "5974e340-3f4c-46ad-9e04-2ad89c178496",
   "metadata": {},
   "outputs": [],
   "source": [
    "adata_cd8.var_names = adata_cd8.var['Gene']"
   ]
  },
  {
   "cell_type": "code",
   "execution_count": null,
   "id": "14a36e9f-4beb-45fb-ab76-93c5c402c996",
   "metadata": {},
   "outputs": [],
   "source": [
    "markers = {'CD8+ T Cells' : ['CD8A', 'CD8B', 'TRBC2', 'CD3D', 'CD3G', 'CD3E', 'IL7R', 'GZMK', 'LTB', 'LEF1'], 'B Cells' : ['PXK', 'CD19', 'MS4A1', 'CD74', 'CD79A', 'IGHD'], 'NK Cells' : ['KLRD1', 'NKG7', 'GNLY', 'STYK1', 'GZMA', 'GZMB'], 'DC' : ['FCER1A', 'CST3', 'ZBTB46', 'ITGAX', 'CX3CR1', 'ITGAM'], 'Macrophages' : ['ID1', 'FAR2', 'IFITM1', 'NFIL3', 'NPL', 'OTUB2'], 'Monocytes' : ['LYZ', 'CFP', 'APOBEC3A', 'CD7', 'TET2'], 'NKT' : ['IL2RB', 'NCAM1', 'CD44', 'IL12RB2', 'CXCR4'], 'Plasma' : ['MZB1', 'SSR4', 'IGHG1']}\n",
    "sc.pl.dotplot(adata_cd8, markers, groupby = 'celltype_minor', dendrogram = True, show = False)\n",
    "\n",
    "plt.savefig('../figures/WU_marker_genes_CD8+_T_cells.pdf', dpi = 300, bbox_inches = 'tight')"
   ]
  },
  {
   "cell_type": "code",
   "execution_count": null,
   "id": "dcb86498-4dbe-4847-b7e9-f01b664d7226",
   "metadata": {},
   "outputs": [],
   "source": [
    "sns.histplot(adata.obs['dataset'])"
   ]
  },
  {
   "cell_type": "markdown",
   "id": "9e1736ac-4ecb-4285-9c46-ca0e2c011be7",
   "metadata": {},
   "source": [
    "## Module score"
   ]
  },
  {
   "cell_type": "code",
   "execution_count": null,
   "id": "cd0825b4",
   "metadata": {},
   "outputs": [],
   "source": [
    "single_cell = pd.read_csv('DEG_high_vs_low_salt', sep = '\\t')\n",
    "single_cell.sort_values('avg_log2FC', inplace = True, ascending = False) \n",
    "single_cell.head()"
   ]
  },
  {
   "cell_type": "code",
   "execution_count": null,
   "id": "30e89ffa-0d97-4341-b9c2-2187a5c0a197",
   "metadata": {},
   "outputs": [],
   "source": [
    "bulk = pd.read_csv('../data/salt_data/bulk_CD8_salt.csv')\n",
    "bulk.sort_values('LFC_cd8_highsalt_vs_cd8_lowsalt', inplace = True, ascending = False) \n",
    "bulk.head()"
   ]
  },
  {
   "cell_type": "code",
   "execution_count": null,
   "id": "7e74b7f3-dfb4-4944-b163-f9e9fd594b53",
   "metadata": {},
   "outputs": [],
   "source": [
    "#bulk_upregulated_sig = list(bulk.query('DE_cd8_highsalt_vs_cd8_lowsalt == \"upregulated\" and (FDR_cd8_highsalt_vs_cd8_lowsalt < 0.001)')['genename'])\n",
    "#bulk_downregulated_sig = list(bulk.query('DE_cd8_highsalt_vs_cd8_lowsalt == \"downregulated\" and (FDR_cd8_highsalt_vs_cd8_lowsalt < 0.001)')['genename'])\n",
    "\n",
    "single_cell_upregulated_sig = list(single_cell.query('(avg_log2FC > 0) and (p_val_adj < 0.001)')['Unnamed: 0'])\n",
    "single_cell_downregulated_sig = list(single_cell.query('(avg_log2FC < 0) and (p_val_adj < 0.001)')['Unnamed: 0'])\n",
    "\n",
    "\n",
    "gene_set_significant = {#'bulk_upregulated'         : bulk_upregulated_sig, \n",
    "                       #'bulk_downregulated'        : bulk_downregulated_sig,\n",
    "                       'single_cell_upregulated'   : single_cell_upregulated_sig,\n",
    "                       'single_cell_downregulated' : single_cell_downregulated_sig\n",
    "                       }"
   ]
  },
  {
   "cell_type": "code",
   "execution_count": null,
   "id": "d6b568e1-ff95-45cb-aa09-307a70b30d2c",
   "metadata": {},
   "outputs": [],
   "source": [
    "adata_cd8.X = adata_cd8.X.toarray()"
   ]
  },
  {
   "cell_type": "code",
   "execution_count": null,
   "id": "ab6f8d57-f510-442c-8a80-fb88eb4f4332",
   "metadata": {},
   "outputs": [],
   "source": [
    "adata_cd8.var['gene'] = list(adata.var_names)\n",
    "adata_cd8.var"
   ]
  },
  {
   "cell_type": "code",
   "execution_count": null,
   "id": "808687a3-eb87-4cc1-9a96-6dade9083cb3",
   "metadata": {},
   "outputs": [],
   "source": [
    "from collections import Counter\n",
    "\n",
    "# Count each gene name in var_names\n",
    "gene_name_counts = Counter(adata_cd8.var_names)\n",
    "\n",
    "# Filter out gene names that appear more than once\n",
    "duplicates = {gene: count for gene, count in gene_name_counts.items() if count > 1}\n",
    "\n",
    "print(\"Duplicate gene names and their counts:\", duplicates)\n"
   ]
  },
  {
   "cell_type": "code",
   "execution_count": null,
   "id": "be78406f-a481-4bfb-b319-a21a03f97194",
   "metadata": {},
   "outputs": [],
   "source": [
    "adata_cd8 = adata_cd8[:, ~adata_cd8.var['gene'].isin(duplicates.keys())]"
   ]
  },
  {
   "cell_type": "code",
   "execution_count": null,
   "id": "a42c2cd8-901d-4a19-973f-b57b757bc732",
   "metadata": {},
   "outputs": [],
   "source": [
    "adata_cd8.var_names.is_unique"
   ]
  },
  {
   "cell_type": "code",
   "execution_count": null,
   "id": "61783b55-5c14-4e8e-bdfc-3bafe15db145",
   "metadata": {
    "tags": []
   },
   "outputs": [],
   "source": [
    "cutof = 50\n",
    "sc.tl.score_genes(adata_cd8, gene_list=gene_set_significant['single_cell_upregulated'][:cutof], score_name='sc_salt_module_score')\n",
    "\n",
    "threshold = 0.3\n",
    "\n",
    "# Create a new column indicating high or low salt based on the threshold\n",
    "adata_cd8.obs['sc_salt_group'] = pd.cut(adata_cd8.obs['sc_salt_module_score'], bins=[-float('inf'), -0.0001, threshold, float('inf')],\n",
    "                                 labels=['cd8+_low_salt', 'cd8+_neutral_salt', 'cd8+_high_salt'], include_lowest=True)\n",
    "\n",
    "print(adata_cd8.obs['sc_salt_group'].value_counts())\n",
    "sns.histplot(adata_cd8.obs['sc_salt_module_score'])\n",
    "plt.title(f'module score for CD8+ T cell in tumor\\nbased on first {cutof} salt upregulated scRNAseq genes\\n Wu et al. data')\n",
    "sns.despine()\n",
    "\n",
    "plt.savefig(f'../figures/werber_module score for CD8+ T cell in tumor\\nbased on first {cutof} salt upregulated scRNAseq genes.pdf', dpi = 300, bbox_inches = 'tight')"
   ]
  },
  {
   "cell_type": "code",
   "execution_count": null,
   "id": "cf1af3ce-bc46-4f69-b3e0-2f7d481a9442",
   "metadata": {},
   "outputs": [],
   "source": [
    "def gene_expression(adata, gene, conditions, condition):\n",
    "    plt.figure(figsize = (2, 2.5), dpi = 300)\n",
    "\n",
    "    gene_index = np.where(adata.var.index == gene)[0][0]\n",
    "    high_salt = adata.X[[condition == conditions[0] for condition in adata.obs[condition]], gene_index]\n",
    "    low_salt = adata.X[[condition == conditions[1] for condition in adata.obs[condition]], gene_index]\n",
    "    \n",
    "    alternatives = ['greater', 'less']\n",
    "    p_values = []\n",
    "    for alternative in alternatives:\n",
    "        _ , p = stats.ranksums(high_salt, low_salt, alternative = alternative)\n",
    "        p_values.append(p)\n",
    "    p_values = [f'{i[0]} : {i[1]:.2e}' for i in list(zip(alternatives, p_values))]\n",
    "\n",
    "    colors = ['#ffa37b', '#A7C7E7']\n",
    "    customPalette = sns.set_palette(sns.color_palette(colors))\n",
    "\n",
    "    ax = sns.violinplot(data = [high_salt, low_salt], saturation = 0.9, width = 0.9, palette = customPalette, linewidth = 0.3, kws = {'linecolor' : 'black'})\n",
    "    for i, c in enumerate(ax.collections):\n",
    "        ax.collections[i].set_edgecolor('black')\n",
    "\n",
    "    sns.boxplot(data = [high_salt, low_salt], width = 0.4,\n",
    "                boxprops = {'zorder': 2, 'edgecolor' : 'black'},\n",
    "                capprops = {'color' : 'black'},\n",
    "                whiskerprops = {'color' : 'black'},\n",
    "                medianprops = {'color' : 'black'},\n",
    "                showfliers = False,\n",
    "                linewidth = 0.3,\n",
    "                ax = ax)\n",
    "\n",
    "    sns.stripplot(data = [high_salt, low_salt], color = 'black', ax = ax, size = 0.4)\n",
    "\n",
    "    ax.set_ylabel(f'Log-scaled expression value', fontsize = 4)\n",
    "\n",
    "    ax.set_yticklabels(ax.get_yticks(), size = 4);\n",
    "    ax.set_xticklabels(ax.get_xticklabels(), size = 4);\n",
    "\n",
    "    labels = [item.get_text() for item in ax.get_yticklabels()]\n",
    "\n",
    "    ax.set_xticklabels([conditions[0], conditions[1]])\n",
    "    ax.set_yticklabels([str(round(float(label), 2)) for label in labels])\n",
    "\n",
    "    ax.set_title(f'Gene: {gene}\\nWilcoxon rank sum, p-values:\\n {\", \".join(p_values)}', fontsize = 4)\n",
    "    sns.despine()\n",
    "    plt.savefig(f'../figures/werber_violin_plot_expression_values_of_{gene}_in_{conditions}.pdf', dpi = 300, bbox_inches = 'tight')\n",
    "    plt.show()\n",
    "    plt.clf()"
   ]
  },
  {
   "cell_type": "code",
   "execution_count": null,
   "id": "191a7d3a-e90c-43bb-979b-b1ad8a77756a",
   "metadata": {},
   "outputs": [],
   "source": [
    "genes = {'cyto_list3' : pd.read_csv('../../EX0032_analysis/gene_lists/cyto_list3.csv', sep = '\\t'),\n",
    "        }\n",
    "\n",
    "for geneset_name, geneset in genes.items():\n",
    "    for group in ['sc_salt_group']:\n",
    "        utilis.violin_plot(original_adata = adata_cd8,\n",
    "                colors = ['#ffa37b', '#A7C7E7'],\n",
    "                group = group, \n",
    "                group_conditions = ['cd8+_high_salt', 'cd8+_low_salt'],\n",
    "                geneset = geneset['genes'],\n",
    "                geneset_name = f'{geneset_name} - {group}',\n",
    "                module_score = True)\n",
    "    print('--------------------------------------------------------')"
   ]
  },
  {
   "cell_type": "code",
   "execution_count": null,
   "id": "53f70339-ef04-4032-882e-43e65bc8de2c",
   "metadata": {},
   "outputs": [],
   "source": []
  }
 ],
 "metadata": {
  "citation-manager": {
   "items": {}
  },
  "kernelspec": {
   "display_name": "Python (sc)",
   "language": "python",
   "name": "torch"
  },
  "language_info": {
   "codemirror_mode": {
    "name": "ipython",
    "version": 3
   },
   "file_extension": ".py",
   "mimetype": "text/x-python",
   "name": "python",
   "nbconvert_exporter": "python",
   "pygments_lexer": "ipython3",
   "version": "3.9.13"
  },
  "vscode": {
   "interpreter": {
    "hash": "c5f3e1c9739fa6f2a9e9e610f9cece86b7d6d761b82374de92293549deac7169"
   }
  }
 },
 "nbformat": 4,
 "nbformat_minor": 5
}
