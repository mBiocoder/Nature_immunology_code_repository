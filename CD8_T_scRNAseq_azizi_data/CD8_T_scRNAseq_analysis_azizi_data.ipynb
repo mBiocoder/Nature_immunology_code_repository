{
 "cells": [
  {
   "cell_type": "code",
   "execution_count": 1,
   "id": "c86c9b26-7217-4ae6-b51b-9c92a4131f5f",
   "metadata": {
    "tags": []
   },
   "outputs": [],
   "source": [
    "import scanpy as sc\n",
    "import pandas as pd\n",
    "import numpy as np\n",
    "import seaborn as sns\n",
    "import importlib\n",
    "import utilis\n",
    "import scipy\n",
    "importlib.reload(utilis)\n",
    "from scipy.io import mmread\n",
    "import matplotlib.pyplot as plt\n",
    "import magic\n",
    "import scipy.stats as stats\n",
    "import ptitprince as pt\n",
    "import re\n",
    "import os\n",
    "from pathlib import Path\n",
    "import anndata as ad\n",
    "import gseapy as gp\n",
    "import celltypist\n",
    "import scrublet as scr"
   ]
  },
  {
   "cell_type": "markdown",
   "id": "ed457d6c-7472-44ec-a7e2-5e8248f20b99",
   "metadata": {},
   "source": [
    "## Data Collection"
   ]
  },
  {
   "cell_type": "markdown",
   "id": "f768a1b5-5182-4657-8227-095820ab98cd",
   "metadata": {},
   "source": [
    "In this anaylsis, we considered data from female breast cancer patients provided by [[Azizi et al., 2018]](https://pubmed.ncbi.nlm.nih.gov/29961579/). The dataset contains samples from 11 patients and is publically available in the GEO database under the GEO ID [GSE114727](https://www.ncbi.nlm.nih.gov/geo/query/acc.cgi?acc=GSE114727). This dataset is ideal as we are intereseted in the gene expression differences between CD8$^+$ T cells in a tumor tissue and healthy tissue. We, however, considered only three patients, i.e. **BC01**, **BC02** and **BC03**, as both tumor and healthy samples from the same patient were taken only from these patients. \n",
    "\n",
    "The samples of each of the three patients are provided in separate files in a `.csv` format. Therefore, we first concatenate all cells and genes from all samples into one `.h5ad` file. As not all sample have the same gene set, genes that are not expressed in certain samples are assigned to zero in cells for which this gene was not captured."
   ]
  },
  {
   "cell_type": "markdown",
   "id": "dea4b306-509b-4a6d-a71c-7df52ded5394",
   "metadata": {
    "tags": []
   },
   "source": [
    "## Qulaity Control"
   ]
  },
  {
   "cell_type": "markdown",
   "id": "2be43a56-19a8-4f44-a03d-366096d2f118",
   "metadata": {},
   "source": [
    "First, we construcct a .h5ad file containing tumor and healthy samples from the three breast cancer patients. The .h5ad  file conatins 35489 cells and 31487 genes."
   ]
  },
  {
   "cell_type": "code",
   "execution_count": null,
   "id": "6eb93d33-edeb-404c-8766-74c79054ef1b",
   "metadata": {},
   "outputs": [],
   "source": [
    "donor_ids = ['BC01', 'BC02', 'BC03']\n",
    "tumor_normal_tissue = ['TUMOR', 'NORMAL']"
   ]
  },
  {
   "cell_type": "code",
   "execution_count": null,
   "id": "499c5073-a30a-437e-aea1-7c255faec9d7",
   "metadata": {},
   "outputs": [],
   "source": [
    "adatas = {}"
   ]
  },
  {
   "cell_type": "code",
   "execution_count": null,
   "id": "f673bc27-476e-4c08-a794-4092819e20c8",
   "metadata": {},
   "outputs": [],
   "source": [
    "path = Path('../data/azizi_data/GSE114727_RAW-2/GSM3148.*_*_.*_counts.csv')\n",
    "regex = re.compile(path.name)\n",
    "print(path.parent)"
   ]
  },
  {
   "cell_type": "code",
   "execution_count": null,
   "id": "38ff7d96-4579-4853-a56d-2f050b12a6b9",
   "metadata": {},
   "outputs": [],
   "source": [
    "path = Path('../data/azizi_data/GSE114727_RAW-2/GSM3148.*_*_.*_counts.csv')\n",
    "regex = re.compile(path.name)\n",
    "\n",
    "for root, dirs, files in os.walk(path.parent):\n",
    "    for file in files:\n",
    "        print(file)\n",
    "        if regex.fullmatch(file):\n",
    "            print(file)\n",
    "\n",
    "            patient_id = file[11:15]\n",
    "            tissue = file[16:-11]\n",
    "\n",
    "            df = pd.read_csv(f'{path.parent}/{file}')\n",
    "            df = df.set_index('Unnamed: 0', drop = True)\n",
    "            ccr_X = df.to_numpy()\n",
    "\n",
    "            crr_var = pd.DataFrame([{'Gene' : gene} for gene in list(df.columns)])\n",
    "\n",
    "            samples_size = df.shape[0]\n",
    "            crr_obs = [{'Patient ID' : patient_id, 'Tissue' : tissue, 'Tumor' : tissue.startswith('TUMOR'), 'Normal' : tissue.startswith('NORMAL')}]*samples_size\n",
    "\n",
    "            crr_adata = sc.AnnData(X = ccr_X, obs = crr_obs, var = crr_var)\n",
    "            crr_adata.var_names = list(crr_var['Gene'])\n",
    "\n",
    "            adatas[file] = crr_adata\n",
    "            crr_adata.write(f'{path.parent}/{patient_id}_{tissue}.h5ad')"
   ]
  },
  {
   "cell_type": "code",
   "execution_count": null,
   "id": "fa84ba0f-6fe0-4835-8b45-974afa678940",
   "metadata": {},
   "outputs": [],
   "source": [
    "concatenated_adata = ad.concat(adatas, label = 'dataset', join = 'outer')"
   ]
  },
  {
   "cell_type": "code",
   "execution_count": null,
   "id": "9ab4caa2-94f5-44a9-85f0-3f3dd67d463d",
   "metadata": {},
   "outputs": [],
   "source": [
    "concatenated_adata.write('../data/azizi_data/concatenated_three_patients_original.h5ad')"
   ]
  },
  {
   "cell_type": "code",
   "execution_count": 2,
   "id": "84f7d7de-d972-4510-8c27-1f47c611952a",
   "metadata": {},
   "outputs": [
    {
     "data": {
      "text/plain": [
       "AnnData object with n_obs × n_vars = 35489 × 31487\n",
       "    obs: 'Patient ID', 'Tissue', 'Tumor', 'Normal', 'dataset'"
      ]
     },
     "execution_count": 2,
     "metadata": {},
     "output_type": "execute_result"
    }
   ],
   "source": [
    "adata = sc.read_h5ad('../data/azizi_data/concatenated_three_patients_original.h5ad')\n",
    "adata"
   ]
  },
  {
   "cell_type": "code",
   "execution_count": 3,
   "id": "52f2aa35-dc45-4073-a246-868ca5942c9a",
   "metadata": {},
   "outputs": [],
   "source": [
    "adata.obs['Condition'] = np.where(adata.obs['Normal'] == True, 'Normal', 'Tumor')"
   ]
  },
  {
   "cell_type": "markdown",
   "id": "8e5b0341-27ae-45ba-be41-59c823770f6c",
   "metadata": {},
   "source": [
    "Now we apply some standard quality control steps to the gene expression matrix. First, as some genes were found to have nan (Not A Number) value, these values were set to zeros as some anaylsis ca not handle nan values."
   ]
  },
  {
   "cell_type": "code",
   "execution_count": 4,
   "id": "2eee69e2-0880-4ec6-acff-54dc11981a93",
   "metadata": {},
   "outputs": [],
   "source": [
    "adata.X = np.nan_to_num(adata.X, nan = 0)"
   ]
  },
  {
   "cell_type": "code",
   "execution_count": 5,
   "id": "7a4a1727-eec7-42ea-844d-fd4e508bdd74",
   "metadata": {},
   "outputs": [],
   "source": [
    "# add the total counts per cell as observations-annotation to adata \n",
    "adata.obs['n_counts'] = adata.X.sum(axis = 1)"
   ]
  },
  {
   "cell_type": "markdown",
   "id": "8efee983-de31-4319-a5db-e5fcd026c01b",
   "metadata": {},
   "source": [
    "## Cell and Gene Filtering"
   ]
  },
  {
   "cell_type": "markdown",
   "id": "2347178b-e92f-4295-80bc-adb252e5b905",
   "metadata": {},
   "source": [
    "Next, we filter out all cells that have expressed genes less than 200. Furthermore, we filter all genes that are expressed in less than 3 cells. As we are intereseted in all gene signature of the tumor and heathly cells, we will not filter cells that have high mitochondrial or ribosomal genes."
   ]
  },
  {
   "cell_type": "code",
   "execution_count": 6,
   "id": "f45aa6fa-ba3c-461b-a6b4-f0e8bff07a50",
   "metadata": {},
   "outputs": [],
   "source": [
    "sc.pp.filter_cells(adata, min_genes = 200) \n",
    "sc.pp.filter_genes(adata, min_cells = 3)"
   ]
  },
  {
   "cell_type": "code",
   "execution_count": 7,
   "id": "c5cd8be7-9d82-4e6d-b739-5aa8658b34b9",
   "metadata": {},
   "outputs": [
    {
     "name": "stdout",
     "output_type": "stream",
     "text": [
      "Remaining cells 14669.\n",
      "Remaining genes 24705.\n"
     ]
    }
   ],
   "source": [
    "print(f'Remaining cells {adata.shape[0]}.')\n",
    "print(f'Remaining genes {adata.shape[1]}.')"
   ]
  },
  {
   "cell_type": "code",
   "execution_count": 8,
   "id": "b2963651-e7c1-4709-8271-efaa20c1a649",
   "metadata": {},
   "outputs": [],
   "source": [
    "adata.raw = adata"
   ]
  },
  {
   "cell_type": "markdown",
   "id": "72d12af5-3bce-48e2-a3da-08ee9c78a497",
   "metadata": {},
   "source": [
    "## Doublets Prediction & Removal"
   ]
  },
  {
   "cell_type": "markdown",
   "id": "84e8a44b-7eb2-4ce6-864b-655e19facc9b",
   "metadata": {},
   "source": [
    "Next, we use the python package **Scrublet** in order to predict doublets cells using the raw count expression matrix."
   ]
  },
  {
   "cell_type": "code",
   "execution_count": 9,
   "id": "0693f5cd-d2de-46a7-a326-768aeb41af3f",
   "metadata": {},
   "outputs": [
    {
     "name": "stdout",
     "output_type": "stream",
     "text": [
      "Preprocessing...\n",
      "Simulating doublets...\n",
      "Embedding transcriptomes using PCA...\n",
      "Calculating doublet scores...\n",
      "Automatically set threshold at doublet score = 0.74\n",
      "Detected doublet rate = 0.1%\n",
      "Estimated detectable doublet fraction = 10.4%\n",
      "Overall doublet rate:\n",
      "\tExpected   = 10.0%\n",
      "\tEstimated  = 0.8%\n",
      "Elapsed time: 16.5 seconds\n",
      "Number of predicted doublet is: 12\n"
     ]
    },
    {
     "data": {
      "image/png": "[encoded data removed]",
      "text/plain": [
       "<Figure size 800x300 with 2 Axes>"
      ]
     },
     "metadata": {},
     "output_type": "display_data"
    }
   ],
   "source": [
    "scrub = scr.Scrublet(adata.X)\n",
    "adata.obs['doublet_scores'], adata.obs['predicted_doublets'] = scrub.scrub_doublets()\n",
    "scrub.plot_histogram()\n",
    "print(f'Number of predicted doublet is: {sum(adata.obs[\"predicted_doublets\"])}')"
   ]
  },
  {
   "cell_type": "markdown",
   "id": "14763ef6-7ad9-49d8-b686-72a2897a15b0",
   "metadata": {},
   "source": [
    "The prediction indicates that there exist 12 doublet cells. We therefore filter out these cells."
   ]
  },
  {
   "cell_type": "code",
   "execution_count": 10,
   "id": "5cf16d5c-3db1-4f3d-8a4c-5683ac938c77",
   "metadata": {},
   "outputs": [],
   "source": [
    "# add in column with singlet/doublet instead of True/False \n",
    "adata.obs['doublet_info'] = adata.obs['predicted_doublets'].astype(str)"
   ]
  },
  {
   "cell_type": "code",
   "execution_count": 11,
   "id": "2aaf9ca4-23ff-441b-80cb-e6597a89e533",
   "metadata": {},
   "outputs": [
    {
     "data": {
      "text/plain": [
       "False    14657\n",
       "True        12\n",
       "Name: doublet_info, dtype: int64"
      ]
     },
     "execution_count": 11,
     "metadata": {},
     "output_type": "execute_result"
    }
   ],
   "source": [
    "adata.obs['doublet_info'].value_counts()"
   ]
  },
  {
   "cell_type": "code",
   "execution_count": 12,
   "id": "0f45969c-b1cf-4d9b-a52a-eda4ce6e01c3",
   "metadata": {},
   "outputs": [
    {
     "name": "stdout",
     "output_type": "stream",
     "text": [
      "Remaining cells 14657.\n",
      "Remaining genes 24705.\n"
     ]
    }
   ],
   "source": [
    "# also revert back to the raw counts as the main matrix in adata\n",
    "#adata = adata.raw.to_adata() \n",
    "\n",
    "adata = adata[adata.obs['doublet_info'] == 'False', :]\n",
    "\n",
    "print(f'Remaining cells {adata.shape[0]}.')\n",
    "print(f'Remaining genes {adata.shape[1]}.')"
   ]
  },
  {
   "cell_type": "markdown",
   "id": "e8c4ab14-c803-4fb7-a3c9-bb1ac5c539aa",
   "metadata": {},
   "source": [
    "## Save Quality Controled Data"
   ]
  },
  {
   "cell_type": "markdown",
   "id": "ec45ca92-ac16-45b6-969e-8dd100d6eee7",
   "metadata": {},
   "source": [
    "Now we are done with the QC analysis. We save a new anndata file with the QC."
   ]
  },
  {
   "cell_type": "code",
   "execution_count": 13,
   "id": "4757c0c4-ff17-489d-ad28-6fadfa8ddd2e",
   "metadata": {},
   "outputs": [
    {
     "name": "stderr",
     "output_type": "stream",
     "text": [
      "... storing 'Condition' as categorical\n",
      "... storing 'doublet_info' as categorical\n"
     ]
    }
   ],
   "source": [
    "adata.write_h5ad('../data/azizi_data/concatenated_three_patients_quality_controled.h5ad')"
   ]
  },
  {
   "cell_type": "markdown",
   "id": "137f6658-d24a-4268-97e6-e3ddc308d2bc",
   "metadata": {
    "tags": []
   },
   "source": [
    "## Dimentionality Reduction"
   ]
  },
  {
   "cell_type": "markdown",
   "id": "1c3d8124-ac53-4304-b42c-05a8712b6b75",
   "metadata": {},
   "source": [
    "Now we want to do dimentionality reduction analysis."
   ]
  },
  {
   "cell_type": "code",
   "execution_count": 14,
   "id": "edde6528-0c2d-4f58-9e69-02e0e76e5507",
   "metadata": {},
   "outputs": [
    {
     "data": {
      "text/plain": [
       "AnnData object with n_obs × n_vars = 14657 × 24705\n",
       "    obs: 'Patient ID', 'Tissue', 'Tumor', 'Normal', 'dataset', 'Condition', 'n_counts', 'n_genes', 'doublet_scores', 'predicted_doublets', 'doublet_info'\n",
       "    var: 'n_cells'"
      ]
     },
     "execution_count": 14,
     "metadata": {},
     "output_type": "execute_result"
    }
   ],
   "source": [
    "adata = sc.read_h5ad('../data/azizi_data/concatenated_three_patients_quality_controled.h5ad')\n",
    "adata"
   ]
  },
  {
   "cell_type": "markdown",
   "id": "812e9fb3-36d8-4c58-8e52-39f3bf26f9f5",
   "metadata": {},
   "source": [
    "As we sved the raw data from the previous step, we now need to normalize and logaritmize the data. Finally we save the normalized and logaritmized data into the raw slot."
   ]
  },
  {
   "cell_type": "code",
   "execution_count": 15,
   "id": "1201ba0a-a140-4a28-a1aa-943512d2e786",
   "metadata": {},
   "outputs": [],
   "source": [
    "# normalize to depth 10 000\n",
    "sc.pp.normalize_per_cell(adata, counts_per_cell_after = 1e4)\n",
    "\n",
    "# logaritmize\n",
    "sc.pp.log1p(adata)\n",
    "\n",
    "# store normalized counts in the raw slot, \n",
    "# we will subset adata.X for variable genes, but want to keep all genes matrix as well.\n",
    "adata.raw = adata"
   ]
  },
  {
   "cell_type": "markdown",
   "id": "11f10b69-2a25-448c-90e7-ef9e6ea2d1b0",
   "metadata": {},
   "source": [
    "Now we compute the highly variable genes and plot them. Finally we keep only the highly varuable genes in the data."
   ]
  },
  {
   "cell_type": "code",
   "execution_count": 16,
   "id": "6c8bbe76-8821-4f54-b2e3-10109d8a1f91",
   "metadata": {},
   "outputs": [],
   "source": [
    "adata.X = np.nan_to_num(adata.X, nan = 0)"
   ]
  },
  {
   "cell_type": "code",
   "execution_count": 17,
   "id": "8a1fc5c5-9851-405e-9cf2-880357fc85b0",
   "metadata": {},
   "outputs": [
    {
     "name": "stdout",
     "output_type": "stream",
     "text": [
      "Highly variable genes: 5819\n"
     ]
    },
    {
     "data": {
      "image/png": "[encoded data removed]",
      "text/plain": [
       "<Figure size 1280x480 with 2 Axes>"
      ]
     },
     "metadata": {},
     "output_type": "display_data"
    }
   ],
   "source": [
    "# compute variable genes\n",
    "sc.pp.highly_variable_genes(adata, min_mean = 0.0125, max_mean = 3, min_disp = 0.5)\n",
    "print(f'Highly variable genes: {sum(adata.var.highly_variable)}')\n",
    "\n",
    "#plot variable genes\n",
    "sc.pl.highly_variable_genes(adata)\n",
    "\n",
    "# subset for variable genes in the dataset\n",
    "adata = adata[:, adata.var['highly_variable']]"
   ]
  },
  {
   "cell_type": "code",
   "execution_count": 18,
   "id": "84437059-9467-4d9e-ab5a-0b042a2f4f6d",
   "metadata": {},
   "outputs": [
    {
     "name": "stdout",
     "output_type": "stream",
     "text": [
      "Remaining cells in raw data 14657.\n",
      "Remaining genes in raw data 24705.\n",
      "Remaining cells 14657.\n",
      "Remaining genes 5819.\n"
     ]
    }
   ],
   "source": [
    "print(f'Remaining cells in raw data {adata.raw.shape[0]}.')\n",
    "print(f'Remaining genes in raw data {adata.raw.shape[1]}.')\n",
    "\n",
    "print(f'Remaining cells {adata.shape[0]}.')\n",
    "print(f'Remaining genes {adata.shape[1]}.')"
   ]
  },
  {
   "cell_type": "markdown",
   "id": "6afc9d7f-11a8-4bea-99e4-75e76f284e18",
   "metadata": {},
   "source": [
    "## Detect Highly Variable Genes From Each Batch"
   ]
  },
  {
   "cell_type": "code",
   "execution_count": 19,
   "id": "64d5fbde-7f59-407b-b9f2-73f53cc8c837",
   "metadata": {},
   "outputs": [],
   "source": [
    "adata2 = adata.raw.to_adata() "
   ]
  },
  {
   "cell_type": "code",
   "execution_count": 20,
   "id": "656169cf-54b7-4ef8-839c-89d78487806b",
   "metadata": {},
   "outputs": [
    {
     "name": "stdout",
     "output_type": "stream",
     "text": [
      "Highly variable genes: 5819\n"
     ]
    }
   ],
   "source": [
    "var_genes_all = adata.var.highly_variable\n",
    "\n",
    "print(\"Highly variable genes: %d\"%sum(var_genes_all))"
   ]
  },
  {
   "cell_type": "code",
   "execution_count": 21,
   "id": "0f5b4f8c-5398-40b6-ac29-51961d4a1554",
   "metadata": {},
   "outputs": [
    {
     "name": "stdout",
     "output_type": "stream",
     "text": [
      "Highly variable genes intersection: 5\n",
      "Number of batches where gene is variable:\n",
      "0     5675\n",
      "1     3609\n",
      "2     2468\n",
      "3     1987\n",
      "4     1708\n",
      "5     1534\n",
      "6     1525\n",
      "7     1359\n",
      "8     1270\n",
      "9     1105\n",
      "10     895\n",
      "11     621\n",
      "12     411\n",
      "13     262\n",
      "14     142\n",
      "15      60\n",
      "16      36\n",
      "17      14\n",
      "18       8\n",
      "19       7\n",
      "21       5\n",
      "20       4\n",
      "Name: highly_variable_nbatches, dtype: int64\n"
     ]
    }
   ],
   "source": [
    "sc.pp.highly_variable_genes(adata2, min_mean = 0.0125, max_mean = 3, min_disp = 0.5, batch_key = 'dataset')\n",
    "\n",
    "print(f'Highly variable genes intersection: {sum(adata2.var.highly_variable_intersection)}')\n",
    "\n",
    "print('Number of batches where gene is variable:')\n",
    "print(adata2.var.highly_variable_nbatches.value_counts())\n",
    "\n",
    "var_genes_batch = adata2.var.highly_variable_nbatches > 0"
   ]
  },
  {
   "cell_type": "code",
   "execution_count": 22,
   "id": "b6a79c84-2eae-470a-8e45-d7682ee5e0b2",
   "metadata": {},
   "outputs": [],
   "source": [
    "var_genes_all = adata.var.highly_variable"
   ]
  },
  {
   "cell_type": "code",
   "execution_count": 23,
   "id": "b2897b91-0cfd-4947-83e7-4eb7fe56d71b",
   "metadata": {},
   "outputs": [
    {
     "name": "stdout",
     "output_type": "stream",
     "text": [
      "Any batch var genes: 19030\n",
      "All data var genes: 5819\n",
      "Overlap: 5813\n",
      "Variable genes in all batches: 1525\n",
      "Overlap batch instersection and all: 5\n"
     ]
    }
   ],
   "source": [
    "print(f'Any batch var genes: {sum(var_genes_batch)}')\n",
    "print(f'All data var genes: {sum(var_genes_all)}')\n",
    "print(f'Overlap: {sum(var_genes_batch & var_genes_all)}')\n",
    "print(f'Variable genes in all batches: {sum(adata2.var.highly_variable_nbatches == 6)}')\n",
    "print(f'Overlap batch instersection and all: {sum(var_genes_all & adata2.var.highly_variable_intersection)}')"
   ]
  },
  {
   "cell_type": "markdown",
   "id": "c7e9e008-c87f-4fb3-a58b-b83d8a6527ec",
   "metadata": {},
   "source": [
    "Select all genes that are variable in at least 2 datasets and use for remaining analysis."
   ]
  },
  {
   "cell_type": "code",
   "execution_count": 24,
   "id": "9af15c7d-22e8-413b-8d85-915e84d71dcf",
   "metadata": {},
   "outputs": [
    {
     "data": {
      "text/plain": [
       "12953"
      ]
     },
     "execution_count": 24,
     "metadata": {},
     "output_type": "execute_result"
    }
   ],
   "source": [
    "var_select = adata2.var.highly_variable_nbatches > 2\n",
    "var_genes = var_select.index[var_select]\n",
    "len(var_genes)"
   ]
  },
  {
   "cell_type": "markdown",
   "id": "dfc6fba7-5328-494b-bc34-3172165618cb",
   "metadata": {},
   "source": [
    "## Data Integration Using Combat"
   ]
  },
  {
   "cell_type": "markdown",
   "id": "c0262d53-308e-42f0-bbbb-97949c0c8617",
   "metadata": {},
   "source": [
    "We now integrate the data using Combat."
   ]
  },
  {
   "cell_type": "code",
   "execution_count": 25,
   "id": "910ccccf-f812-4c48-90a7-9171b89f5e59",
   "metadata": {},
   "outputs": [],
   "source": [
    "# create a new object with lognormalized counts\n",
    "adata_combat = sc.AnnData(X = adata.raw.X, var = adata.raw.var, obs = adata.obs)\n",
    "\n",
    "# first store the raw data \n",
    "adata_combat.raw = adata_combat\n",
    "\n",
    "# run combat\n",
    "sc.pp.combat(adata_combat, key = 'dataset')"
   ]
  },
  {
   "cell_type": "code",
   "execution_count": 26,
   "id": "6c96af44-2ba5-43be-9640-aefe953db6c6",
   "metadata": {},
   "outputs": [
    {
     "data": {
      "text/plain": [
       "(14657, 24705)"
      ]
     },
     "execution_count": 26,
     "metadata": {},
     "output_type": "execute_result"
    }
   ],
   "source": [
    "adata_combat.X.shape"
   ]
  },
  {
   "cell_type": "code",
   "execution_count": 27,
   "id": "33ee44b7-6263-444e-ab0c-c871980e93b0",
   "metadata": {},
   "outputs": [],
   "source": [
    "adata_combat.X = np.nan_to_num(adata_combat.X, nan = 0)"
   ]
  },
  {
   "cell_type": "code",
   "execution_count": 28,
   "id": "3d0c3f14-a389-46d1-a530-a39d14f19815",
   "metadata": {
    "tags": []
   },
   "outputs": [
    {
     "name": "stdout",
     "output_type": "stream",
     "text": [
      "Highly variable genes: 8074\n"
     ]
    },
    {
     "data": {
      "image/png": "[encoded data removed]",
      "text/plain": [
       "<Figure size 1280x480 with 2 Axes>"
      ]
     },
     "metadata": {},
     "output_type": "display_data"
    },
    {
     "name": "stderr",
     "output_type": "stream",
     "text": [
      "/opt/miniconda3/envs/leibniz/lib/python3.9/site-packages/tqdm/auto.py:22: TqdmWarning: IProgress not found. Please update jupyter and ipywidgets. See https://ipywidgets.readthedocs.io/en/stable/user_install.html\n",
      "  from .autonotebook import tqdm as notebook_tqdm\n"
     ]
    }
   ],
   "source": [
    "sc.pp.highly_variable_genes(adata_combat)\n",
    "print(f'Highly variable genes: {sum(adata_combat.var.highly_variable)}')\n",
    "\n",
    "sc.pl.highly_variable_genes(adata_combat)\n",
    "sc.pp.pca(adata_combat, n_comps = 30, use_highly_variable = True, svd_solver = 'arpack')\n",
    "\n",
    "sc.pp.neighbors(adata_combat, n_pcs = 25)\n",
    "\n",
    "sc.tl.umap(adata_combat)\n",
    "sc.tl.tsne(adata_combat, n_pcs = 25)"
   ]
  },
  {
   "cell_type": "code",
   "execution_count": 29,
   "id": "0238f932-d4ab-4a30-b150-905a5037783d",
   "metadata": {},
   "outputs": [
    {
     "name": "stdout",
     "output_type": "stream",
     "text": [
      "With all data 5819\n",
      "With combat 8074\n",
      "Overlap 3058\n",
      "With 2 batches 12953\n",
      "Overlap 7209\n"
     ]
    }
   ],
   "source": [
    "# compare var_genes\n",
    "var_genes_combat = adata_combat.var.highly_variable\n",
    "print(f'With all data {sum(var_genes_all)}')\n",
    "print(f'With combat {sum(var_genes_combat)}')\n",
    "print(f'Overlap {sum(var_genes_all & var_genes_combat)}')\n",
    "print(f'With 2 batches {sum(var_select)}')\n",
    "print(f'Overlap {sum(var_genes_combat & var_select)}')"
   ]
  },
  {
   "cell_type": "code",
   "execution_count": null,
   "id": "4e8091e3-8d13-484b-aaaa-74944fd80f13",
   "metadata": {},
   "outputs": [],
   "source": [
    "adata_combat.write_h5ad('../data/azizi_data/integrated_three_patients.h5ad')"
   ]
  },
  {
   "cell_type": "markdown",
   "id": "6b545484-13ed-4f42-a7b0-c1e052fec26e",
   "metadata": {},
   "source": [
    "## CD8+ T Cells Filtering"
   ]
  },
  {
   "cell_type": "code",
   "execution_count": null,
   "id": "fd2e85a2-f963-49a6-b180-8b2174c6015c",
   "metadata": {},
   "outputs": [],
   "source": [
    "adata = sc.read_h5ad('../data/azizi_data/integrated_three_patients.h5ad')\n",
    "adata"
   ]
  },
  {
   "cell_type": "code",
   "execution_count": null,
   "id": "6278a282-c2e6-4e5c-88d3-5f1602c5646c",
   "metadata": {},
   "outputs": [],
   "source": [
    "adata.obs['Patient ID'].value_counts()"
   ]
  },
  {
   "cell_type": "code",
   "execution_count": null,
   "id": "9c9f34a0-a2e7-4747-8915-9923a54137e9",
   "metadata": {},
   "outputs": [],
   "source": [
    "sc.pp.highly_variable_genes(adata)\n",
    "sc.pp.pca(adata, n_comps = 30, use_highly_variable = True, svd_solver = 'arpack')\n",
    "sc.pp.neighbors(adata, n_neighbors = 20)"
   ]
  },
  {
   "cell_type": "code",
   "execution_count": null,
   "id": "3a2b727c-d5ae-4dec-ad3c-2dfb1c7a5275",
   "metadata": {},
   "outputs": [],
   "source": [
    "predictions_high = celltypist.annotate(adata, model = 'Immune_All_High.pkl', majority_voting = True, mode = 'best match')"
   ]
  },
  {
   "cell_type": "code",
   "execution_count": null,
   "id": "60587887-78b1-4148-b567-a3a8a7bfb6bd",
   "metadata": {},
   "outputs": [],
   "source": [
    "cell_types = {}\n",
    "for cell_type in predictions_high.decision_matrix.columns:\n",
    "    for i, cell in enumerate(predictions_high.decision_matrix.index):\n",
    "        if predictions_high.decision_matrix.iloc[i][cell_type] >= 0:\n",
    "            cell_types[cell] = cell_type"
   ]
  },
  {
   "cell_type": "code",
   "execution_count": null,
   "id": "ffb500cd-a6cd-480a-8d80-248c2348a621",
   "metadata": {},
   "outputs": [],
   "source": [
    "adata.obs['Cell Type'] = [cell_types.get(i, 'unknown') for i in adata.obs.index]\n",
    "adata.obs"
   ]
  },
  {
   "cell_type": "code",
   "execution_count": null,
   "id": "ec2ff12b-52ae-4406-91c6-b5fb1212fe2d",
   "metadata": {},
   "outputs": [],
   "source": [
    "markers = {'T Cells' : ['TRBC2', 'CD3D', 'CD3G', 'CD3E', 'IL7R', 'GZMK', 'LTB', 'LEF1'], 'B Cells' : ['PXK', 'CD19', 'MS4A1', 'CD74', 'CD79A', 'IGHD'], 'NK Cells' : ['KLRD1', 'NKG7', 'GNLY', 'STYK1', 'GZMA', 'GZMB'], 'DC' : ['FCER1A', 'CST3', 'ZBTB46', 'ITGAX', 'CX3CR1', 'ITGAM'], 'Macrophages' : ['ID1', 'FAR2', 'IFITM1', 'NFIL3', 'NPL', 'OTUB2'], 'Monocytes' : ['LYZ', 'CFP', 'APOBEC3A', 'CD7', 'TET2'], 'NKT' : ['IL2RB', 'NCAM1', 'CD44', 'IL12RB2', 'CXCR4'], 'Plasma' : ['MZB1', 'SSR4', 'IGHG1']}\n",
    "sc.pl.dotplot(adata, markers, groupby = 'Condition', show = False)\n",
    "plt.savefig('../figures/marker_genes_all_cells.pdf', dpi = 300, bbox_inches = 'tight')\n",
    "plt.savefig('../figures/marker_genes_all_cells.png', dpi = 300, bbox_inches = 'tight')"
   ]
  },
  {
   "cell_type": "code",
   "execution_count": null,
   "id": "a48814ff-b118-440b-b1a8-aefae1b6a6fc",
   "metadata": {},
   "outputs": [],
   "source": [
    "t_cells = [p >= 0.6 for p in predictions_high.probability_matrix['T cells']]\n",
    "print(f'Number of Predicted T Cells: {sum(t_cells)}')"
   ]
  },
  {
   "cell_type": "code",
   "execution_count": null,
   "id": "8952c469-5d55-4c94-9db2-5eeae3fb172d",
   "metadata": {},
   "outputs": [],
   "source": [
    "adata = adata[t_cells, :]\n",
    "adata"
   ]
  },
  {
   "cell_type": "code",
   "execution_count": null,
   "id": "0f4232cf-a63c-4440-808c-a38b005482c5",
   "metadata": {},
   "outputs": [],
   "source": [
    "markers = {'T Cells' : ['TRBC2', 'CD3D', 'CD3G', 'CD3E', 'IL7R', 'GZMK', 'LTB', 'LEF1'], 'B Cells' : ['PXK', 'CD19', 'MS4A1', 'CD74', 'CD79A', 'IGHD'], 'NK Cells' : ['KLRD1', 'NKG7', 'GNLY', 'STYK1', 'GZMA', 'GZMB'], 'DC' : ['FCER1A', 'CST3', 'ZBTB46', 'ITGAX', 'CX3CR1', 'ITGAM'], 'Macrophages' : ['ID1', 'FAR2', 'IFITM1', 'NFIL3', 'NPL', 'OTUB2'], 'Monocytes' : ['LYZ', 'CFP', 'APOBEC3A', 'CD7', 'TET2'], 'NKT' : ['IL2RB', 'NCAM1', 'CD44', 'IL12RB2', 'CXCR4'], 'Plasma' : ['MZB1', 'SSR4', 'IGHG1']}\n",
    "sc.pl.dotplot(adata, markers, groupby = 'Condition', dendrogram = True, show = False)\n",
    "\n",
    "plt.savefig('../figures/marker_genes_T_cells.pdf', dpi = 300, bbox_inches = 'tight')\n",
    "plt.savefig('../figures/marker_genes_T_cells.png', dpi = 300, bbox_inches = 'tight')"
   ]
  },
  {
   "cell_type": "code",
   "execution_count": null,
   "id": "9206dcf5-db80-495b-ac9c-91766e64adc9",
   "metadata": {},
   "outputs": [],
   "source": [
    "# get index of CD8A & CD8B in the var list\n",
    "cd8a_index = np.where(adata.var.index == 'CD8A')[0][0]\n",
    "cd8b_index = np.where(adata.var.index == 'CD8B')[0][0]\n",
    "\n",
    "df = pd.DataFrame({'CD8A' : adata.X[:, cd8a_index], \n",
    "                   'CD8B' : adata.X[:, cd8b_index]})"
   ]
  },
  {
   "cell_type": "code",
   "execution_count": null,
   "id": "a1a8ac26-08b0-414b-a083-7f74949e7c16",
   "metadata": {},
   "outputs": [],
   "source": [
    "sns.histplot(x = 'CD8A', data = df)\n",
    "plt.yscale('log')\n",
    "sns.despine()"
   ]
  },
  {
   "cell_type": "code",
   "execution_count": null,
   "id": "0d41965b-8cc0-45bc-8930-b36f9c7dd115",
   "metadata": {},
   "outputs": [],
   "source": [
    "adata = adata[adata.X[:, ['CD8A' == var for var in adata.var_names]] > 2.5]\n",
    "adata = adata[adata.X[:, ['CD8B' == var for var in adata.var_names]] > 2]"
   ]
  },
  {
   "cell_type": "code",
   "execution_count": null,
   "id": "dec0ae5a-99f3-4f4b-9197-7139867230be",
   "metadata": {},
   "outputs": [],
   "source": [
    "adata.obs['Condition'].value_counts()"
   ]
  },
  {
   "cell_type": "code",
   "execution_count": null,
   "id": "f2574bdc-70d3-41f2-870f-7ac5e8c2244f",
   "metadata": {},
   "outputs": [],
   "source": [
    "markers = {'CD8+ T Cells' : ['CD8A', 'CD8B', 'TRBC2', 'CD3D', 'CD3G', 'CD3E', 'IL7R', 'GZMK', 'LTB', 'LEF1'], 'B Cells' : ['PXK', 'CD19', 'MS4A1', 'CD74', 'CD79A', 'IGHD'], 'NK Cells' : ['KLRD1', 'NKG7', 'GNLY', 'STYK1', 'GZMA', 'GZMB'], 'DC' : ['FCER1A', 'CST3', 'ZBTB46', 'ITGAX', 'CX3CR1', 'ITGAM'], 'Macrophages' : ['ID1', 'FAR2', 'IFITM1', 'NFIL3', 'NPL', 'OTUB2'], 'Monocytes' : ['LYZ', 'CFP', 'APOBEC3A', 'CD7', 'TET2'], 'NKT' : ['IL2RB', 'NCAM1', 'CD44', 'IL12RB2', 'CXCR4'], 'Plasma' : ['MZB1', 'SSR4', 'IGHG1']}\n",
    "sc.pl.dotplot(adata, markers, groupby = 'Condition', dendrogram = True, show = False)\n",
    "\n",
    "plt.savefig('../figures/marker_genes_CD8+_T_cells.pdf', dpi = 300, bbox_inches = 'tight')\n",
    "plt.savefig('../figures/marker_genes_CD8+_T_cells.png', dpi = 300, bbox_inches = 'tight')"
   ]
  },
  {
   "cell_type": "markdown",
   "id": "08cbc7c5-d374-4662-940b-07eb2b563ad2",
   "metadata": {},
   "source": [
    "## Gene Set Activity Score - Module Score"
   ]
  },
  {
   "cell_type": "code",
   "execution_count": null,
   "id": "bb9c887d-d2f5-4fc7-8889-d33ba897cb8b",
   "metadata": {},
   "outputs": [],
   "source": [
    "single_cell = pd.read_csv('../data/salt_data/DEG_high_vs_low_salt', sep = '\\t')\n",
    "single_cell.sort_values('avg_log2FC', inplace = True, ascending = False) \n",
    "single_cell.head()"
   ]
  },
  {
   "cell_type": "code",
   "execution_count": null,
   "id": "167fab71-2313-415d-a223-977c92edb420",
   "metadata": {},
   "outputs": [],
   "source": [
    "bulk = pd.read_csv('../data/salt_data/GA_AN0283_cd8_salt_diff_expression.csv')\n",
    "bulk.sort_values('LFC_cd8_highsalt_vs_cd8_lowsalt', inplace = True, ascending = False) \n",
    "bulk.head()"
   ]
  },
  {
   "cell_type": "code",
   "execution_count": null,
   "id": "9f299552-2736-484a-a227-e9e32fee26d3",
   "metadata": {},
   "outputs": [],
   "source": [
    "bulk_upregulated_sig = list(bulk.query('DE_cd8_highsalt_vs_cd8_lowsalt == \"upregulated\" and (FDR_cd8_highsalt_vs_cd8_lowsalt < 0.001)')['genename'])\n",
    "bulk_downregulated_sig = list(bulk.query('DE_cd8_highsalt_vs_cd8_lowsalt == \"downregulated\" and (FDR_cd8_highsalt_vs_cd8_lowsalt < 0.001)')['genename'])\n",
    "\n",
    "single_cell_upregulated_sig = list(single_cell.query('(avg_log2FC > 0) and (p_val_adj < 0.001)')['Unnamed: 0'])\n",
    "single_cell_downregulated_sig = list(single_cell.query('(avg_log2FC < 0) and (p_val_adj < 0.001)')['Unnamed: 0'])\n",
    "\n",
    "\n",
    "gene_set_significant = {'bulk_upregulated'         : bulk_upregulated_sig, \n",
    "                       'bulk_downregulated'        : bulk_downregulated_sig,\n",
    "                       'single_cell_upregulated'   : single_cell_upregulated_sig,\n",
    "                       'single_cell_downregulated' : single_cell_downregulated_sig}"
   ]
  },
  {
   "cell_type": "code",
   "execution_count": null,
   "id": "fe7c59ae-461e-4935-adbf-8eac1d3554bd",
   "metadata": {},
   "outputs": [],
   "source": [
    "data_set = 'bulk_upregulated'\n",
    "sc.tl.score_genes(adata, gene_set_significant[data_set])\n",
    "\n",
    "Tumor_module = np.array(adata.obs[adata.obs.Condition==\"Tumor\"][\"score\"])\n",
    "Normal_module = np.array(adata.obs[adata.obs.Condition==\"Normal\"][\"score\"])\n",
    "\n",
    "plt.figure(figsize=(2, 2.5), dpi = 300)\n",
    "\n",
    "\n",
    "sc.pl.umap(adata, color = ['score'], title = f'Module score of {data_set} in all CD45+ cells', show = False, color_map = 'Reds')\n",
    "plt.savefig(f'../figures/CD45+_umap_module_score_of_{data_set}_genes_in_azizi_data.pdf', dpi = 300, bbox_inches = 'tight')\n",
    "plt.clf()\n",
    "\n",
    "plt.figure(figsize=(2, 2.5), dpi = 300)\n",
    "\n",
    "alternative = \"greater\"\n",
    "U1, p = stats.ranksums(Tumor_module, Normal_module, alternative = alternative)\n",
    "\n",
    "colors = ['#ffa37b', '#A7C7E7']\n",
    "customPalette = sns.set_palette(sns.color_palette(colors))\n",
    "\n",
    "ax = sns.violinplot(data = [Tumor_module, Normal_module], saturation = 0.9, width = 0.9, palette = customPalette, linewidth = 0.3, kws = {'linecolor' : 'black'})\n",
    "for i, c in enumerate(ax.collections):\n",
    "    ax.collections[i].set_edgecolor('black')\n",
    "\n",
    "sns.boxplot(data = [Tumor_module, Normal_module], width = 0.4,\n",
    "            boxprops = {'zorder': 2, 'edgecolor' : 'black'},\n",
    "            capprops = {'color' : 'black'},\n",
    "            whiskerprops = {'color' : 'black'},\n",
    "            medianprops = {'color' : 'black'},\n",
    "            showfliers = False,\n",
    "            linewidth = 0.3,\n",
    "            ax = ax)\n",
    "\n",
    "sns.stripplot(data = [Tumor_module, Normal_module], color = 'black', ax = ax, size = 0.4)\n",
    "\n",
    "ax.set_ylabel(f'Transcriptom NaCl signature\\n(Module score with {data_set})', fontsize=4)\n",
    "\n",
    "ax.set_yticklabels(ax.get_yticks(), size=4);\n",
    "ax.set_xticklabels(ax.get_xticklabels(), size=4);\n",
    "\n",
    "labels = [item.get_text() for item in ax.get_yticklabels()]\n",
    "\n",
    "ax.set_xticklabels(['Intratumoral tissue', 'Peritumoral tissue'])\n",
    "ax.set_yticklabels([str(round(float(label), 2)) for label in labels])\n",
    "\n",
    "\n",
    "ax.set_title(f'CD45+ cells\\nWilcoxon rank sum test (alternative = {alternative})\\n\\np-value: {p}', fontsize=4)\n",
    "sns.despine()\n",
    "\n",
    "plt.savefig(f'../figures/CD45+_all_violin_plot_module_score_of_{data_set}_genes_in_Tumor_module_Mahima_list.png', dpi = 300, bbox_inches = 'tight')\n",
    "plt.savefig(f'../figures/CD45+_all_violin_plot_module_score_of_{data_set}_genes_in_Tumor_module_Mahima_list.pdf', dpi = 300, bbox_inches = 'tight')"
   ]
  },
  {
   "cell_type": "code",
   "execution_count": null,
   "id": "e3d44ad2-6fa2-47f4-863e-6780cba50d74",
   "metadata": {},
   "outputs": [],
   "source": [
    "data_set = 'single_cell_upregulated'\n",
    "sc.tl.score_genes(adata, gene_set_significant[data_set])\n",
    "\n",
    "Tumor_module = np.array(adata.obs[adata.obs.Condition==\"Tumor\"][\"score\"])\n",
    "Normal_module = np.array(adata.obs[adata.obs.Condition==\"Normal\"][\"score\"])\n",
    "\n",
    "plt.figure(figsize=(2, 2.5), dpi = 300)\n",
    "\n",
    "alternative = \"greater\"\n",
    "U1, p = stats.ranksums(Tumor_module, Normal_module, alternative = alternative)\n",
    "\n",
    "colors = ['#ffa37b', '#A7C7E7']\n",
    "customPalette = sns.set_palette(sns.color_palette(colors))\n",
    "\n",
    "ax = sns.violinplot(data = [Tumor_module, Normal_module], saturation = 0.9, width = 0.9, palette = customPalette, linewidth = 0.3, kws = {'linecolor' : 'black'})\n",
    "for i, c in enumerate(ax.collections):\n",
    "    ax.collections[i].set_edgecolor('black')\n",
    "\n",
    "sns.boxplot(data = [Tumor_module, Normal_module], width = 0.4,\n",
    "            boxprops = {'zorder': 2, 'edgecolor' : 'black'},\n",
    "            capprops = {'color' : 'black'},\n",
    "            whiskerprops = {'color' : 'black'},\n",
    "            medianprops = {'color' : 'black'},\n",
    "            showfliers = False,\n",
    "            linewidth = 0.3,\n",
    "            ax = ax)\n",
    "\n",
    "sns.stripplot(data = [Tumor_module, Normal_module], color = 'black', ax = ax, size = 0.4)\n",
    "\n",
    "ax.set_ylabel(f'Transcriptom NaCl signature\\n(Module score with {data_set})', fontsize=4)\n",
    "\n",
    "ax.set_yticklabels(ax.get_yticks(), size=4);\n",
    "ax.set_xticklabels(ax.get_xticklabels(), size=4);\n",
    "\n",
    "labels = [item.get_text() for item in ax.get_yticklabels()]\n",
    "\n",
    "ax.set_xticklabels(['Intratumoral tissue', 'Peritumoral tissue'])\n",
    "ax.set_yticklabels([str(round(float(label), 2)) for label in labels])\n",
    "\n",
    "\n",
    "ax.set_title(f'CD8+ T cells\\n\\np-value: {p}', fontsize=4)\n",
    "sns.despine()\n",
    "\n",
    "plt.savefig(f'../figures/CD8_all_violin_plot_module_score_of_{data_set}_genes_in_Tumor_module_Mahima_list.png', dpi = 300, bbox_inches = 'tight')\n",
    "plt.savefig(f'../figures/CD8_all_violin_plot_module_score_of_{data_set}_genes_in_Tumor_module_Mahima_list.pdf', dpi = 300, bbox_inches = 'tight')"
   ]
  }
 ],
 "metadata": {
  "kernelspec": {
   "display_name": "Python 3 (ipykernel)",
   "language": "python",
   "name": "python3"
  },
  "language_info": {
   "codemirror_mode": {
    "name": "ipython",
    "version": 3
   },
   "file_extension": ".py",
   "mimetype": "text/x-python",
   "name": "python",
   "nbconvert_exporter": "python",
   "pygments_lexer": "ipython3",
   "version": "3.9.13"
  },
  "vscode": {
   "interpreter": {
    "hash": "c5f3e1c9739fa6f2a9e9e610f9cece86b7d6d761b82374de92293549deac7169"
   }
  }
 },
 "nbformat": 4,
 "nbformat_minor": 5
}
